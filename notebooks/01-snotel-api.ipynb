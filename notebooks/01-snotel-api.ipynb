{
 "cells": [
  {
   "cell_type": "markdown",
   "id": "5a51ec57",
   "metadata": {},
   "source": [
    "## SNOTEL"
   ]
  },
  {
   "cell_type": "code",
   "execution_count": 21,
   "id": "c50c7691",
   "metadata": {},
   "outputs": [],
   "source": [
    "import json\n",
    "import requests\n",
    "import pandas as pd\n",
    "import geopandas as gpd\n",
    "from sedona.spark import *"
   ]
  },
  {
   "cell_type": "markdown",
   "id": "46e99dbb-4104-4a64-820b-8b7818eb598b",
   "metadata": {},
   "source": [
    "## Sedona Setup"
   ]
  },
  {
   "cell_type": "code",
   "execution_count": 23,
   "id": "f465fd2b-caae-4be3-b669-98e499b010df",
   "metadata": {},
   "outputs": [
    {
     "name": "stderr",
     "output_type": "stream",
     "text": [
      "Warning: Ignoring non-Spark config property: fs.s3a.aws.credentials.provider\n",
      "24/03/27 16:31:39 WARN NativeCodeLoader: Unable to load native-hadoop library for your platform... using builtin-java classes where applicable\n",
      "Setting default log level to \"WARN\".\n",
      "To adjust logging level use sc.setLogLevel(newLevel). For SparkR, use setLogLevel(newLevel).\n",
      "24/03/27 16:31:41 WARN MetricsConfig: Cannot locate configuration: tried hadoop-metrics2-s3a-file-system.properties,hadoop-metrics2.properties\n",
      "24/03/27 16:31:42 WARN S3ABlockOutputStream: Application invoked the Syncable API against stream writing to qjnq6fcbf1/spark-logs/spark-17b4e4ae18c64495b4f050527cf5aeac.inprogress. This is unsupported\n",
      "24/03/27 16:32:06 WARN SedonaContext: Python files are not set. Sedona will not pre-load Python UDFs.\n"
     ]
    }
   ],
   "source": [
    "config = SedonaContext.builder().\\\n",
    "      getOrCreate()\n",
    "\n",
    "sedona = SedonaContext.create(config)"
   ]
  },
  {
   "cell_type": "code",
   "execution_count": null,
   "id": "c6a2d8cc-2752-4a09-9373-697896ed8dd8",
   "metadata": {},
   "outputs": [],
   "source": []
  },
  {
   "cell_type": "markdown",
   "id": "8cfcb531-94e5-4157-bfc1-ecb3dfac5a32",
   "metadata": {},
   "source": [
    "## SNOTEL Rest API"
   ]
  },
  {
   "cell_type": "code",
   "execution_count": 4,
   "id": "5904fbe8",
   "metadata": {},
   "outputs": [],
   "source": [
    "baseurl = \"https://wcc.sc.egov.usda.gov/awdbRestApi/\""
   ]
  },
  {
   "cell_type": "markdown",
   "id": "45c06c51-7d65-43d3-88fc-34b2a651969e",
   "metadata": {},
   "source": [
    "## Stations\n",
    "\n",
    "parameters"
   ]
  },
  {
   "cell_type": "code",
   "execution_count": 5,
   "id": "54a827d2-14ba-4ee3-a43b-90b775442f26",
   "metadata": {},
   "outputs": [],
   "source": [
    "payload = {\n",
    "    'activeOnly': True,\n",
    "    'returnStationElements': False\n",
    "}"
   ]
  },
  {
   "cell_type": "code",
   "execution_count": 6,
   "id": "581ebbd9-1475-46fa-bbfe-f8e4df92cf1c",
   "metadata": {},
   "outputs": [],
   "source": [
    "r = requests.get(baseurl + 'services/v1/stations', params=payload)"
   ]
  },
  {
   "cell_type": "code",
   "execution_count": 13,
   "id": "ac389354-f52c-4142-82d7-a854ce0a1556",
   "metadata": {},
   "outputs": [],
   "source": [
    "stations = r.json()"
   ]
  },
  {
   "cell_type": "code",
   "execution_count": 14,
   "id": "0d6bae05-af7a-45e1-87bc-394a9490acb1",
   "metadata": {},
   "outputs": [
    {
     "data": {
      "text/plain": [
       "4363"
      ]
     },
     "execution_count": 14,
     "metadata": {},
     "output_type": "execute_result"
    }
   ],
   "source": [
    "len(stations)"
   ]
  },
  {
   "cell_type": "code",
   "execution_count": 16,
   "id": "f5f5aa3b-8284-4c66-b2e9-3cb203dee8f5",
   "metadata": {},
   "outputs": [],
   "source": [
    "df = pd.DataFrame(stations)"
   ]
  },
  {
   "cell_type": "code",
   "execution_count": 19,
   "id": "3c4c7b59-358c-49e8-bc39-157b7c3f9ac5",
   "metadata": {},
   "outputs": [],
   "source": [
    "gdf = gpd.GeoDataFrame(df, crs=\"EPSG:4326\", geometry=gpd.points_from_xy(df.longitude, df.latitude))"
   ]
  },
  {
   "cell_type": "code",
   "execution_count": 20,
   "id": "8339ed26-2ff8-4d3f-86fb-408fdebf4d06",
   "metadata": {},
   "outputs": [
    {
     "data": {
      "text/html": [
       "<div>\n",
       "<style scoped>\n",
       "    .dataframe tbody tr th:only-of-type {\n",
       "        vertical-align: middle;\n",
       "    }\n",
       "\n",
       "    .dataframe tbody tr th {\n",
       "        vertical-align: top;\n",
       "    }\n",
       "\n",
       "    .dataframe thead th {\n",
       "        text-align: right;\n",
       "    }\n",
       "</style>\n",
       "<table border=\"1\" class=\"dataframe\">\n",
       "  <thead>\n",
       "    <tr style=\"text-align: right;\">\n",
       "      <th></th>\n",
       "      <th>stationTriplet</th>\n",
       "      <th>stationId</th>\n",
       "      <th>stateCode</th>\n",
       "      <th>networkCode</th>\n",
       "      <th>name</th>\n",
       "      <th>dcoCode</th>\n",
       "      <th>countyName</th>\n",
       "      <th>huc</th>\n",
       "      <th>elevation</th>\n",
       "      <th>latitude</th>\n",
       "      <th>longitude</th>\n",
       "      <th>dataTimeZone</th>\n",
       "      <th>pedonCode</th>\n",
       "      <th>shefId</th>\n",
       "      <th>beginDate</th>\n",
       "      <th>endDate</th>\n",
       "      <th>geometry</th>\n",
       "    </tr>\n",
       "  </thead>\n",
       "  <tbody>\n",
       "    <tr>\n",
       "      <th>0</th>\n",
       "      <td>2057:AL:SCAN</td>\n",
       "      <td>2057</td>\n",
       "      <td>AL</td>\n",
       "      <td>SCAN</td>\n",
       "      <td>AAMU-JTG</td>\n",
       "      <td>GC</td>\n",
       "      <td>Madison</td>\n",
       "      <td>060300020403</td>\n",
       "      <td>860.0</td>\n",
       "      <td>34.78333</td>\n",
       "      <td>-86.55000</td>\n",
       "      <td>-6.0</td>\n",
       "      <td>27979</td>\n",
       "      <td>AAMA1</td>\n",
       "      <td>2002-02-23 00:00:00.0</td>\n",
       "      <td>2100-01-01 00:00:00.0</td>\n",
       "      <td>POINT (-86.55000 34.78333)</td>\n",
       "    </tr>\n",
       "    <tr>\n",
       "      <th>1</th>\n",
       "      <td>ABY:CA:SNOW</td>\n",
       "      <td>ABY</td>\n",
       "      <td>CA</td>\n",
       "      <td>SNOW</td>\n",
       "      <td>Abbey</td>\n",
       "      <td>UN</td>\n",
       "      <td>Plumas</td>\n",
       "      <td>180201220103</td>\n",
       "      <td>5650.0</td>\n",
       "      <td>39.95500</td>\n",
       "      <td>-120.53800</td>\n",
       "      <td>NaN</td>\n",
       "      <td>NaN</td>\n",
       "      <td>NaN</td>\n",
       "      <td>1963-02-01 00:00:00.0</td>\n",
       "      <td>2100-01-01 00:00:00.0</td>\n",
       "      <td>POINT (-120.53800 39.95500)</td>\n",
       "    </tr>\n",
       "    <tr>\n",
       "      <th>2</th>\n",
       "      <td>0010:ID:COOP</td>\n",
       "      <td>0010</td>\n",
       "      <td>ID</td>\n",
       "      <td>COOP</td>\n",
       "      <td>Aberdeen Experimnt Stn</td>\n",
       "      <td>ID</td>\n",
       "      <td>Bingham</td>\n",
       "      <td>170402060704</td>\n",
       "      <td>4410.0</td>\n",
       "      <td>42.95000</td>\n",
       "      <td>-112.83333</td>\n",
       "      <td>NaN</td>\n",
       "      <td>NaN</td>\n",
       "      <td>ABDI1</td>\n",
       "      <td>1914-01-01 00:00:00.0</td>\n",
       "      <td>2100-01-01 00:00:00.0</td>\n",
       "      <td>POINT (-112.83333 42.95000)</td>\n",
       "    </tr>\n",
       "    <tr>\n",
       "      <th>3</th>\n",
       "      <td>1F01A:BC:SNOW</td>\n",
       "      <td>1F01A</td>\n",
       "      <td>BC</td>\n",
       "      <td>SNOW</td>\n",
       "      <td>Aberdeen Lake</td>\n",
       "      <td>OR</td>\n",
       "      <td>UNKNOWN</td>\n",
       "      <td>NaN</td>\n",
       "      <td>4298.0</td>\n",
       "      <td>50.14733</td>\n",
       "      <td>-119.05340</td>\n",
       "      <td>NaN</td>\n",
       "      <td>NaN</td>\n",
       "      <td>ABLQ2</td>\n",
       "      <td>1939-04-01 00:00:00.0</td>\n",
       "      <td>2100-01-01 00:00:00.0</td>\n",
       "      <td>POINT (-119.05340 50.14733)</td>\n",
       "    </tr>\n",
       "    <tr>\n",
       "      <th>4</th>\n",
       "      <td>0041:NM:COOP</td>\n",
       "      <td>0041</td>\n",
       "      <td>NM</td>\n",
       "      <td>COOP</td>\n",
       "      <td>Abiquiu Dam</td>\n",
       "      <td>UN</td>\n",
       "      <td>Rio Arriba</td>\n",
       "      <td>130201021005</td>\n",
       "      <td>6380.0</td>\n",
       "      <td>36.23333</td>\n",
       "      <td>-106.43333</td>\n",
       "      <td>NaN</td>\n",
       "      <td>NaN</td>\n",
       "      <td>ABIN5</td>\n",
       "      <td>1957-01-01 00:00:00.0</td>\n",
       "      <td>2100-01-01 00:00:00.0</td>\n",
       "      <td>POINT (-106.43333 36.23333)</td>\n",
       "    </tr>\n",
       "    <tr>\n",
       "      <th>...</th>\n",
       "      <td>...</td>\n",
       "      <td>...</td>\n",
       "      <td>...</td>\n",
       "      <td>...</td>\n",
       "      <td>...</td>\n",
       "      <td>...</td>\n",
       "      <td>...</td>\n",
       "      <td>...</td>\n",
       "      <td>...</td>\n",
       "      <td>...</td>\n",
       "      <td>...</td>\n",
       "      <td>...</td>\n",
       "      <td>...</td>\n",
       "      <td>...</td>\n",
       "      <td>...</td>\n",
       "      <td>...</td>\n",
       "      <td>...</td>\n",
       "    </tr>\n",
       "    <tr>\n",
       "      <th>4358</th>\n",
       "      <td>YBP:CA:SNOW</td>\n",
       "      <td>YBP</td>\n",
       "      <td>CA</td>\n",
       "      <td>SNOW</td>\n",
       "      <td>Yuba Pass</td>\n",
       "      <td>UN</td>\n",
       "      <td>Sierra</td>\n",
       "      <td>180201250202</td>\n",
       "      <td>6700.0</td>\n",
       "      <td>39.61700</td>\n",
       "      <td>-120.49200</td>\n",
       "      <td>NaN</td>\n",
       "      <td>NaN</td>\n",
       "      <td>NaN</td>\n",
       "      <td>1937-03-01 00:00:00.0</td>\n",
       "      <td>2100-01-01 00:00:00.0</td>\n",
       "      <td>POINT (-120.49200 39.61700)</td>\n",
       "    </tr>\n",
       "    <tr>\n",
       "      <th>4359</th>\n",
       "      <td>15356000:AK:USGS</td>\n",
       "      <td>15356000</td>\n",
       "      <td>AK</td>\n",
       "      <td>USGS</td>\n",
       "      <td>Yukon R at Eagle</td>\n",
       "      <td>AK</td>\n",
       "      <td>Southeast Fairbanks</td>\n",
       "      <td>190705051301</td>\n",
       "      <td>850.0</td>\n",
       "      <td>64.78917</td>\n",
       "      <td>-141.20009</td>\n",
       "      <td>NaN</td>\n",
       "      <td>NaN</td>\n",
       "      <td>NaN</td>\n",
       "      <td>1950-01-01 00:00:00.0</td>\n",
       "      <td>2100-01-01 00:00:00.0</td>\n",
       "      <td>POINT (-141.20009 64.78917)</td>\n",
       "    </tr>\n",
       "    <tr>\n",
       "      <th>4360</th>\n",
       "      <td>15453500:AK:USGS</td>\n",
       "      <td>15453500</td>\n",
       "      <td>AK</td>\n",
       "      <td>USGS</td>\n",
       "      <td>Yukon R nr Stevens Village</td>\n",
       "      <td>AK</td>\n",
       "      <td>Yukon-Koyukuk</td>\n",
       "      <td>190804040504</td>\n",
       "      <td>240.0</td>\n",
       "      <td>65.87510</td>\n",
       "      <td>-149.72035</td>\n",
       "      <td>NaN</td>\n",
       "      <td>NaN</td>\n",
       "      <td>NaN</td>\n",
       "      <td>1976-10-01 00:00:00.0</td>\n",
       "      <td>2100-01-01 00:00:00.0</td>\n",
       "      <td>POINT (-149.72035 65.87510)</td>\n",
       "    </tr>\n",
       "    <tr>\n",
       "      <th>4361</th>\n",
       "      <td>1033:CO:SNTL</td>\n",
       "      <td>1033</td>\n",
       "      <td>CO</td>\n",
       "      <td>SNTL</td>\n",
       "      <td>Zirkel</td>\n",
       "      <td>CO</td>\n",
       "      <td>Jackson</td>\n",
       "      <td>101800010202</td>\n",
       "      <td>9338.0</td>\n",
       "      <td>40.79492</td>\n",
       "      <td>-106.59544</td>\n",
       "      <td>-8.0</td>\n",
       "      <td>NaN</td>\n",
       "      <td>ZIRC2</td>\n",
       "      <td>2002-08-14 00:00:00.0</td>\n",
       "      <td>2100-01-01 00:00:00.0</td>\n",
       "      <td>POINT (-106.59544 40.79492)</td>\n",
       "    </tr>\n",
       "    <tr>\n",
       "      <th>4362</th>\n",
       "      <td>09386950:NM:USGS</td>\n",
       "      <td>09386950</td>\n",
       "      <td>NM</td>\n",
       "      <td>USGS</td>\n",
       "      <td>Zuni R ab Black Rock Reservoir</td>\n",
       "      <td>CO</td>\n",
       "      <td>McKinley</td>\n",
       "      <td>150200040313</td>\n",
       "      <td>6480.0</td>\n",
       "      <td>35.10028</td>\n",
       "      <td>-108.75167</td>\n",
       "      <td>NaN</td>\n",
       "      <td>NaN</td>\n",
       "      <td>NaN</td>\n",
       "      <td>1969-10-01 00:00:00.0</td>\n",
       "      <td>2100-01-01 00:00:00.0</td>\n",
       "      <td>POINT (-108.75167 35.10028)</td>\n",
       "    </tr>\n",
       "  </tbody>\n",
       "</table>\n",
       "<p>4363 rows × 17 columns</p>\n",
       "</div>"
      ],
      "text/plain": [
       "        stationTriplet stationId stateCode networkCode  \\\n",
       "0         2057:AL:SCAN      2057        AL        SCAN   \n",
       "1          ABY:CA:SNOW       ABY        CA        SNOW   \n",
       "2         0010:ID:COOP      0010        ID        COOP   \n",
       "3        1F01A:BC:SNOW     1F01A        BC        SNOW   \n",
       "4         0041:NM:COOP      0041        NM        COOP   \n",
       "...                ...       ...       ...         ...   \n",
       "4358       YBP:CA:SNOW       YBP        CA        SNOW   \n",
       "4359  15356000:AK:USGS  15356000        AK        USGS   \n",
       "4360  15453500:AK:USGS  15453500        AK        USGS   \n",
       "4361      1033:CO:SNTL      1033        CO        SNTL   \n",
       "4362  09386950:NM:USGS  09386950        NM        USGS   \n",
       "\n",
       "                                name dcoCode           countyName  \\\n",
       "0                           AAMU-JTG      GC              Madison   \n",
       "1                              Abbey      UN               Plumas   \n",
       "2             Aberdeen Experimnt Stn      ID              Bingham   \n",
       "3                      Aberdeen Lake      OR              UNKNOWN   \n",
       "4                        Abiquiu Dam      UN           Rio Arriba   \n",
       "...                              ...     ...                  ...   \n",
       "4358                       Yuba Pass      UN               Sierra   \n",
       "4359                Yukon R at Eagle      AK  Southeast Fairbanks   \n",
       "4360      Yukon R nr Stevens Village      AK        Yukon-Koyukuk   \n",
       "4361                          Zirkel      CO              Jackson   \n",
       "4362  Zuni R ab Black Rock Reservoir      CO             McKinley   \n",
       "\n",
       "               huc  elevation  latitude  longitude  dataTimeZone pedonCode  \\\n",
       "0     060300020403      860.0  34.78333  -86.55000          -6.0     27979   \n",
       "1     180201220103     5650.0  39.95500 -120.53800           NaN       NaN   \n",
       "2     170402060704     4410.0  42.95000 -112.83333           NaN       NaN   \n",
       "3              NaN     4298.0  50.14733 -119.05340           NaN       NaN   \n",
       "4     130201021005     6380.0  36.23333 -106.43333           NaN       NaN   \n",
       "...            ...        ...       ...        ...           ...       ...   \n",
       "4358  180201250202     6700.0  39.61700 -120.49200           NaN       NaN   \n",
       "4359  190705051301      850.0  64.78917 -141.20009           NaN       NaN   \n",
       "4360  190804040504      240.0  65.87510 -149.72035           NaN       NaN   \n",
       "4361  101800010202     9338.0  40.79492 -106.59544          -8.0       NaN   \n",
       "4362  150200040313     6480.0  35.10028 -108.75167           NaN       NaN   \n",
       "\n",
       "     shefId              beginDate                endDate  \\\n",
       "0     AAMA1  2002-02-23 00:00:00.0  2100-01-01 00:00:00.0   \n",
       "1       NaN  1963-02-01 00:00:00.0  2100-01-01 00:00:00.0   \n",
       "2     ABDI1  1914-01-01 00:00:00.0  2100-01-01 00:00:00.0   \n",
       "3     ABLQ2  1939-04-01 00:00:00.0  2100-01-01 00:00:00.0   \n",
       "4     ABIN5  1957-01-01 00:00:00.0  2100-01-01 00:00:00.0   \n",
       "...     ...                    ...                    ...   \n",
       "4358    NaN  1937-03-01 00:00:00.0  2100-01-01 00:00:00.0   \n",
       "4359    NaN  1950-01-01 00:00:00.0  2100-01-01 00:00:00.0   \n",
       "4360    NaN  1976-10-01 00:00:00.0  2100-01-01 00:00:00.0   \n",
       "4361  ZIRC2  2002-08-14 00:00:00.0  2100-01-01 00:00:00.0   \n",
       "4362    NaN  1969-10-01 00:00:00.0  2100-01-01 00:00:00.0   \n",
       "\n",
       "                         geometry  \n",
       "0      POINT (-86.55000 34.78333)  \n",
       "1     POINT (-120.53800 39.95500)  \n",
       "2     POINT (-112.83333 42.95000)  \n",
       "3     POINT (-119.05340 50.14733)  \n",
       "4     POINT (-106.43333 36.23333)  \n",
       "...                           ...  \n",
       "4358  POINT (-120.49200 39.61700)  \n",
       "4359  POINT (-141.20009 64.78917)  \n",
       "4360  POINT (-149.72035 65.87510)  \n",
       "4361  POINT (-106.59544 40.79492)  \n",
       "4362  POINT (-108.75167 35.10028)  \n",
       "\n",
       "[4363 rows x 17 columns]"
      ]
     },
     "execution_count": 20,
     "metadata": {},
     "output_type": "execute_result"
    }
   ],
   "source": [
    "gdf"
   ]
  },
  {
   "cell_type": "code",
   "execution_count": 31,
   "id": "6e859208-1863-480d-a630-e616d7d2065b",
   "metadata": {},
   "outputs": [],
   "source": [
    "station_df = sedona.createDataFrame(gdf)\n",
    "station_df.createOrReplaceTempView('stations')"
   ]
  },
  {
   "cell_type": "code",
   "execution_count": 26,
   "id": "0e060b26-4150-43a5-bf67-6422e653cfc1",
   "metadata": {},
   "outputs": [
    {
     "name": "stdout",
     "output_type": "stream",
     "text": [
      "root\n",
      " |-- stationTriplet: string (nullable = true)\n",
      " |-- stationId: string (nullable = true)\n",
      " |-- stateCode: string (nullable = true)\n",
      " |-- networkCode: string (nullable = true)\n",
      " |-- name: string (nullable = true)\n",
      " |-- dcoCode: string (nullable = true)\n",
      " |-- countyName: string (nullable = true)\n",
      " |-- huc: string (nullable = true)\n",
      " |-- elevation: double (nullable = true)\n",
      " |-- latitude: double (nullable = true)\n",
      " |-- longitude: double (nullable = true)\n",
      " |-- dataTimeZone: double (nullable = true)\n",
      " |-- pedonCode: string (nullable = true)\n",
      " |-- shefId: string (nullable = true)\n",
      " |-- beginDate: string (nullable = true)\n",
      " |-- endDate: string (nullable = true)\n",
      " |-- geometry: geometry (nullable = true)\n",
      "\n"
     ]
    }
   ],
   "source": [
    "station_df.printSchema()"
   ]
  },
  {
   "cell_type": "code",
   "execution_count": 25,
   "id": "3815fad0-f0dd-4e6a-aae0-8c05a39e2ed6",
   "metadata": {},
   "outputs": [
    {
     "name": "stderr",
     "output_type": "stream",
     "text": [
      "[Stage 3:>                                                          (0 + 1) / 1]\r"
     ]
    },
    {
     "name": "stdout",
     "output_type": "stream",
     "text": [
      "+---------------+---------+---------+-----------+--------------------+-------+------------+------------+---------+--------+----------+------------+---------+------+--------------------+--------------------+--------------------+\n",
      "| stationTriplet|stationId|stateCode|networkCode|                name|dcoCode|  countyName|         huc|elevation|latitude| longitude|dataTimeZone|pedonCode|shefId|           beginDate|             endDate|            geometry|\n",
      "+---------------+---------+---------+-----------+--------------------+-------+------------+------------+---------+--------+----------+------------+---------+------+--------------------+--------------------+--------------------+\n",
      "|   2057:AL:SCAN|     2057|       AL|       SCAN|            AAMU-JTG|     GC|     Madison|060300020403|    860.0|34.78333|    -86.55|        -6.0|    27979| AAMA1|2002-02-23 00:00:...|2100-01-01 00:00:...|POINT (-86.55 34....|\n",
      "|    ABY:CA:SNOW|      ABY|       CA|       SNOW|               Abbey|     UN|      Plumas|180201220103|   5650.0|  39.955|  -120.538|         NaN|      NaN|   NaN|1963-02-01 00:00:...|2100-01-01 00:00:...|POINT (-120.538 3...|\n",
      "|   0010:ID:COOP|     0010|       ID|       COOP|Aberdeen Experimn...|     ID|     Bingham|170402060704|   4410.0|   42.95|-112.83333|         NaN|      NaN| ABDI1|1914-01-01 00:00:...|2100-01-01 00:00:...|POINT (-112.83333...|\n",
      "|  1F01A:BC:SNOW|    1F01A|       BC|       SNOW|       Aberdeen Lake|     OR|     UNKNOWN|         NaN|   4298.0|50.14733| -119.0534|         NaN|      NaN| ABLQ2|1939-04-01 00:00:...|2100-01-01 00:00:...|POINT (-119.0534 ...|\n",
      "|   0041:NM:COOP|     0041|       NM|       COOP|         Abiquiu Dam|     UN|  Rio Arriba|130201021005|   6380.0|36.23333|-106.43333|         NaN|      NaN| ABIN5|1957-01-01 00:00:...|2100-01-01 00:00:...|POINT (-106.43333...|\n",
      "|08108010:NM:BOR| 08108010|       NM|        BOR|   Abiquiu Reservoir|     CO|  Rio Arriba|130201021006|   6180.0|  36.237|-106.42912|         NaN|      NaN|   NaN|1964-09-01 00:00:...|2100-01-01 00:00:...|POINT (-106.42912...|\n",
      "|  13E19:ID:SNOW|    13E19|       ID|       SNOW|       Above Gilmore|     ID|       Lemhi|170602040101|   8289.0|44.45615|-113.30097|         NaN|      NaN| ABGI1|1961-01-01 00:00:...|2100-01-01 00:00:...|POINT (-113.30097...|\n",
      "|  15B07:ID:SNOW|    15B07|       ID|       SNOW|        Above Roland|     ID|    Shoshone|170103040201|   4347.0|47.38507|-115.66405|         NaN|      NaN| ABRI1|1926-03-01 00:00:...|2100-01-01 00:00:...|POINT (-115.66405...|\n",
      "|   2092:KS:SCAN|     2092|       KS|       SCAN|              Abrams|     GC|      Cowley|110300130307|   1194.0| 37.1313|  -97.0859|        -6.0|    31337| ABRK1|2004-06-21 00:00:...|2100-01-01 00:00:...|POINT (-97.0859 3...|\n",
      "|06110500:MT:BOR| 06110500|       MT|        BOR|         Ackley Lake|     MT|Judith Basin|100401030202|   4300.0|46.95741|-109.94062|         NaN|      NaN|   NaN|1938-06-01 00:00:...|2100-01-01 00:00:...|POINT (-109.94062...|\n",
      "|   2015:NM:SCAN|     2015|       NM|       SCAN|      Adams Ranch #1|     GC|     Lincoln|130600060201|   6175.0|   34.25|-105.41667|        -7.0|    19304| ADRN5|1993-10-25 00:00:...|2100-01-01 00:00:...|POINT (-105.41667...|\n",
      "|  20H08:CA:SNOW|    20H08|       CA|       SNOW|      Adin Mountains|     OR|       Modoc|180200021403|   6190.0|41.23483|-120.79467|         NaN|      NaN| ADMC1|1930-04-01 00:00:...|2100-01-01 00:00:...|POINT (-120.79467...|\n",
      "|    301:CA:SNTL|      301|       CA|       SNTL|            Adin Mtn|     OR|       Modoc|180200021403|   6190.0|41.23583|-120.79192|        -8.0|      NaN| ADMC1|1983-10-01 00:00:...|2100-01-01 00:00:...|POINT (-120.79192...|\n",
      "|   2235:CA:SCAN|     2235|       CA|       SCAN|               Adobe|     GC|        Mono|180901010607|   6500.0|37.97787|-118.68626|        -8.0|      NaN|   NaN|2023-09-27 00:00:...|2100-01-01 00:00:...|POINT (-118.68626...|\n",
      "|07007010:CO:BOR| 07007010|       CO|        BOR|Adobe Creek Reser...|     CO|       Kiowa|110200090303|   4150.0|38.26609|-103.24373|         NaN|      NaN|   NaN|1949-11-01 00:00:...|2100-01-01 00:00:...|POINT (-103.24373...|\n",
      "|   0027:WY:COOP|     0027|       WY|       COOP|               Afton|     MT|     Lincoln|170401050205|   6210.0|42.73333|-110.93333|         NaN|      NaN| AFOW4|1909-10-01 00:00:...|2100-01-01 00:00:...|POINT (-110.93333...|\n",
      "| 516700:MT:USGS|   516700|       MT|       USGS|Agency Crk ab Joc...|     MT|    Missoula|170102120705|   3725.0|47.12579| -113.9974|         NaN|      NaN|   NaN|1999-10-01 00:00:...|2100-01-01 00:00:...|POINT (-113.9974 ...|\n",
      "|    AGP:CA:MSNT|      AGP|       CA|       MSNT|          Agnew Pass|     GC|      Madera|180400060401|   9450.0|  37.724|  -119.143|         NaN|      NaN|   NaN|1989-11-24 00:00:...|2100-01-01 00:00:...|POINT (-119.143 3...|\n",
      "|    AGP:CA:SNOW|      AGP|       CA|       SNOW|          Agnew Pass|     UN|      Madera|180400060401|   9450.0|  37.724|  -119.143|         NaN|      NaN|   NaN|1930-04-01 00:00:...|2100-01-01 00:00:...|POINT (-119.143 3...|\n",
      "|    907:UT:SNTL|      907|       UT|       SNTL|         Agua Canyon|     UT|        Kane|160300020301|   8900.0|37.52217|-112.27118|        -8.0|      NaN| AGUU1|1994-10-01 00:00:...|2100-01-01 00:00:...|POINT (-112.27118...|\n",
      "+---------------+---------+---------+-----------+--------------------+-------+------------+------------+---------+--------+----------+------------+---------+------+--------------------+--------------------+--------------------+\n",
      "only showing top 20 rows\n",
      "\n"
     ]
    },
    {
     "name": "stderr",
     "output_type": "stream",
     "text": [
      "                                                                                \r"
     ]
    }
   ],
   "source": [
    "station_df.show()"
   ]
  },
  {
   "cell_type": "code",
   "execution_count": 32,
   "id": "eceadf97-440f-4db2-b690-54376f7f14eb",
   "metadata": {},
   "outputs": [
    {
     "name": "stderr",
     "output_type": "stream",
     "text": [
      "[Stage 4:===========================================>              (9 + 3) / 12]\r"
     ]
    },
    {
     "name": "stdout",
     "output_type": "stream",
     "text": [
      "+--------+\n",
      "|count(1)|\n",
      "+--------+\n",
      "|     899|\n",
      "+--------+\n",
      "\n"
     ]
    },
    {
     "name": "stderr",
     "output_type": "stream",
     "text": [
      "                                                                                \r"
     ]
    }
   ],
   "source": [
    "sedona.sql(\"SELECT COUNT(*) FROM stations WHERE networkCode = 'SNTL'\").show()"
   ]
  },
  {
   "cell_type": "code",
   "execution_count": null,
   "id": "413cf328-aef1-48e6-a056-661299ee2a23",
   "metadata": {},
   "outputs": [],
   "source": []
  },
  {
   "cell_type": "code",
   "execution_count": null,
   "id": "73f0d1b6-218f-47bd-b2df-9f8ff576717a",
   "metadata": {},
   "outputs": [],
   "source": []
  },
  {
   "cell_type": "markdown",
   "id": "834c6e3c-1017-4a95-a999-f732ebf2c4f1",
   "metadata": {
    "tags": []
   },
   "source": [
    "## Data"
   ]
  },
  {
   "cell_type": "markdown",
   "id": "c7ef502f",
   "metadata": {},
   "source": [
    "parameters\n",
    "\n",
    "* `beginDate` - yyyy-MM-dd HH:mm\n",
    "* `centralTendencyType` - MEDIAN\n",
    "* `duration` - DAILY\n",
    "* `elements` - PREC, WTEQ, SMS:*, PREC::2\n",
    "* `endDate` - yyyy-MM-dd HH:mm\n",
    "* `stationTriplets` - *:*:*"
   ]
  },
  {
   "cell_type": "code",
   "execution_count": 58,
   "id": "e9d9905b",
   "metadata": {},
   "outputs": [],
   "source": [
    "payload = {\n",
    "    'beginDate': '2024-03-26',\n",
    "    'endDate': '2024-03-26',\n",
    "    'centralTendencyType': 'MEDIAN',\n",
    "    'duration': 'DAILY',\n",
    "    'elements': 'WTEQ',\n",
    "    'stationTriplets': '*:WA:SNTL'\n",
    "}"
   ]
  },
  {
   "cell_type": "code",
   "execution_count": 59,
   "id": "f6b53810",
   "metadata": {},
   "outputs": [],
   "source": [
    "r = requests.get(baseurl + 'services/v1/data', params=payload)"
   ]
  },
  {
   "cell_type": "code",
   "execution_count": 61,
   "id": "d28e43b1-17d0-45e6-88b1-238fbb89e539",
   "metadata": {},
   "outputs": [],
   "source": [
    "data = r.json()"
   ]
  },
  {
   "cell_type": "code",
   "execution_count": 62,
   "id": "09972e70-4ee1-4233-b4e9-315dd93aa95f",
   "metadata": {},
   "outputs": [],
   "source": [
    "df = pd.DataFrame(data)"
   ]
  },
  {
   "cell_type": "code",
   "execution_count": 63,
   "id": "49f70fb2-d831-48bf-9f9e-4ad7d08d8503",
   "metadata": {},
   "outputs": [
    {
     "data": {
      "text/html": [
       "<div>\n",
       "<style scoped>\n",
       "    .dataframe tbody tr th:only-of-type {\n",
       "        vertical-align: middle;\n",
       "    }\n",
       "\n",
       "    .dataframe tbody tr th {\n",
       "        vertical-align: top;\n",
       "    }\n",
       "\n",
       "    .dataframe thead th {\n",
       "        text-align: right;\n",
       "    }\n",
       "</style>\n",
       "<table border=\"1\" class=\"dataframe\">\n",
       "  <thead>\n",
       "    <tr style=\"text-align: right;\">\n",
       "      <th></th>\n",
       "      <th>stationTriplet</th>\n",
       "      <th>data</th>\n",
       "    </tr>\n",
       "  </thead>\n",
       "  <tbody>\n",
       "    <tr>\n",
       "      <th>0</th>\n",
       "      <td>908:WA:SNTL</td>\n",
       "      <td>[{'stationElement': {'elementCode': 'WTEQ', 'o...</td>\n",
       "    </tr>\n",
       "    <tr>\n",
       "      <th>1</th>\n",
       "      <td>990:WA:SNTL</td>\n",
       "      <td>[{'stationElement': {'elementCode': 'WTEQ', 'o...</td>\n",
       "    </tr>\n",
       "    <tr>\n",
       "      <th>2</th>\n",
       "      <td>352:WA:SNTL</td>\n",
       "      <td>[{'stationElement': {'elementCode': 'WTEQ', 'o...</td>\n",
       "    </tr>\n",
       "    <tr>\n",
       "      <th>3</th>\n",
       "      <td>1080:WA:SNTL</td>\n",
       "      <td>[{'stationElement': {'elementCode': 'WTEQ', 'o...</td>\n",
       "    </tr>\n",
       "    <tr>\n",
       "      <th>4</th>\n",
       "      <td>1107:WA:SNTL</td>\n",
       "      <td>[{'stationElement': {'elementCode': 'WTEQ', 'o...</td>\n",
       "    </tr>\n",
       "    <tr>\n",
       "      <th>...</th>\n",
       "      <td>...</td>\n",
       "      <td>...</td>\n",
       "    </tr>\n",
       "    <tr>\n",
       "      <th>70</th>\n",
       "      <td>832:WA:SNTL</td>\n",
       "      <td>[{'stationElement': {'elementCode': 'WTEQ', 'o...</td>\n",
       "    </tr>\n",
       "    <tr>\n",
       "      <th>71</th>\n",
       "      <td>841:WA:SNTL</td>\n",
       "      <td>[{'stationElement': {'elementCode': 'WTEQ', 'o...</td>\n",
       "    </tr>\n",
       "    <tr>\n",
       "      <th>72</th>\n",
       "      <td>974:WA:SNTL</td>\n",
       "      <td>[{'stationElement': {'elementCode': 'WTEQ', 'o...</td>\n",
       "    </tr>\n",
       "    <tr>\n",
       "      <th>73</th>\n",
       "      <td>909:WA:SNTL</td>\n",
       "      <td>[{'stationElement': {'elementCode': 'WTEQ', 'o...</td>\n",
       "    </tr>\n",
       "    <tr>\n",
       "      <th>74</th>\n",
       "      <td>863:WA:SNTL</td>\n",
       "      <td>[{'stationElement': {'elementCode': 'WTEQ', 'o...</td>\n",
       "    </tr>\n",
       "  </tbody>\n",
       "</table>\n",
       "<p>75 rows × 2 columns</p>\n",
       "</div>"
      ],
      "text/plain": [
       "   stationTriplet                                               data\n",
       "0     908:WA:SNTL  [{'stationElement': {'elementCode': 'WTEQ', 'o...\n",
       "1     990:WA:SNTL  [{'stationElement': {'elementCode': 'WTEQ', 'o...\n",
       "2     352:WA:SNTL  [{'stationElement': {'elementCode': 'WTEQ', 'o...\n",
       "3    1080:WA:SNTL  [{'stationElement': {'elementCode': 'WTEQ', 'o...\n",
       "4    1107:WA:SNTL  [{'stationElement': {'elementCode': 'WTEQ', 'o...\n",
       "..            ...                                                ...\n",
       "70    832:WA:SNTL  [{'stationElement': {'elementCode': 'WTEQ', 'o...\n",
       "71    841:WA:SNTL  [{'stationElement': {'elementCode': 'WTEQ', 'o...\n",
       "72    974:WA:SNTL  [{'stationElement': {'elementCode': 'WTEQ', 'o...\n",
       "73    909:WA:SNTL  [{'stationElement': {'elementCode': 'WTEQ', 'o...\n",
       "74    863:WA:SNTL  [{'stationElement': {'elementCode': 'WTEQ', 'o...\n",
       "\n",
       "[75 rows x 2 columns]"
      ]
     },
     "execution_count": 63,
     "metadata": {},
     "output_type": "execute_result"
    }
   ],
   "source": [
    "df"
   ]
  },
  {
   "cell_type": "code",
   "execution_count": 73,
   "id": "8b971fe8-65e5-4c32-a2a5-37fab51dc559",
   "metadata": {},
   "outputs": [],
   "source": [
    "data_list = [ (station['stationTriplet'], station['data'][0]['values'][0]['value'], station['data'][0]['values'][0].get('median'), station['data'][0]['values'][0]['date']) for station in data ]"
   ]
  },
  {
   "cell_type": "code",
   "execution_count": 76,
   "id": "963beb20-6f87-40f6-87cc-00b907643d8c",
   "metadata": {},
   "outputs": [],
   "source": [
    "df = pd.DataFrame(data_list, columns=['station', 'value', 'median', 'date'])"
   ]
  },
  {
   "cell_type": "code",
   "execution_count": 77,
   "id": "2671c061-69d8-4ced-8c78-df49acb9efb7",
   "metadata": {},
   "outputs": [
    {
     "data": {
      "text/html": [
       "<div>\n",
       "<style scoped>\n",
       "    .dataframe tbody tr th:only-of-type {\n",
       "        vertical-align: middle;\n",
       "    }\n",
       "\n",
       "    .dataframe tbody tr th {\n",
       "        vertical-align: top;\n",
       "    }\n",
       "\n",
       "    .dataframe thead th {\n",
       "        text-align: right;\n",
       "    }\n",
       "</style>\n",
       "<table border=\"1\" class=\"dataframe\">\n",
       "  <thead>\n",
       "    <tr style=\"text-align: right;\">\n",
       "      <th></th>\n",
       "      <th>station</th>\n",
       "      <th>value</th>\n",
       "      <th>median</th>\n",
       "      <th>date</th>\n",
       "    </tr>\n",
       "  </thead>\n",
       "  <tbody>\n",
       "    <tr>\n",
       "      <th>0</th>\n",
       "      <td>908:WA:SNTL</td>\n",
       "      <td>34.1</td>\n",
       "      <td>49.2</td>\n",
       "      <td>2024-03-26</td>\n",
       "    </tr>\n",
       "    <tr>\n",
       "      <th>1</th>\n",
       "      <td>990:WA:SNTL</td>\n",
       "      <td>26.0</td>\n",
       "      <td>42.4</td>\n",
       "      <td>2024-03-26</td>\n",
       "    </tr>\n",
       "    <tr>\n",
       "      <th>2</th>\n",
       "      <td>352:WA:SNTL</td>\n",
       "      <td>8.1</td>\n",
       "      <td>13.0</td>\n",
       "      <td>2024-03-26</td>\n",
       "    </tr>\n",
       "    <tr>\n",
       "      <th>3</th>\n",
       "      <td>1080:WA:SNTL</td>\n",
       "      <td>33.2</td>\n",
       "      <td>62.8</td>\n",
       "      <td>2024-03-26</td>\n",
       "    </tr>\n",
       "    <tr>\n",
       "      <th>4</th>\n",
       "      <td>1107:WA:SNTL</td>\n",
       "      <td>32.2</td>\n",
       "      <td>56.4</td>\n",
       "      <td>2024-03-26</td>\n",
       "    </tr>\n",
       "    <tr>\n",
       "      <th>...</th>\n",
       "      <td>...</td>\n",
       "      <td>...</td>\n",
       "      <td>...</td>\n",
       "      <td>...</td>\n",
       "    </tr>\n",
       "    <tr>\n",
       "      <th>70</th>\n",
       "      <td>832:WA:SNTL</td>\n",
       "      <td>11.4</td>\n",
       "      <td>10.3</td>\n",
       "      <td>2024-03-26</td>\n",
       "    </tr>\n",
       "    <tr>\n",
       "      <th>71</th>\n",
       "      <td>841:WA:SNTL</td>\n",
       "      <td>10.1</td>\n",
       "      <td>11.2</td>\n",
       "      <td>2024-03-26</td>\n",
       "    </tr>\n",
       "    <tr>\n",
       "      <th>72</th>\n",
       "      <td>974:WA:SNTL</td>\n",
       "      <td>21.6</td>\n",
       "      <td>39.6</td>\n",
       "      <td>2024-03-26</td>\n",
       "    </tr>\n",
       "    <tr>\n",
       "      <th>73</th>\n",
       "      <td>909:WA:SNTL</td>\n",
       "      <td>21.8</td>\n",
       "      <td>33.6</td>\n",
       "      <td>2024-03-26</td>\n",
       "    </tr>\n",
       "    <tr>\n",
       "      <th>74</th>\n",
       "      <td>863:WA:SNTL</td>\n",
       "      <td>22.2</td>\n",
       "      <td>21.5</td>\n",
       "      <td>2024-03-26</td>\n",
       "    </tr>\n",
       "  </tbody>\n",
       "</table>\n",
       "<p>75 rows × 4 columns</p>\n",
       "</div>"
      ],
      "text/plain": [
       "         station  value  median        date\n",
       "0    908:WA:SNTL   34.1    49.2  2024-03-26\n",
       "1    990:WA:SNTL   26.0    42.4  2024-03-26\n",
       "2    352:WA:SNTL    8.1    13.0  2024-03-26\n",
       "3   1080:WA:SNTL   33.2    62.8  2024-03-26\n",
       "4   1107:WA:SNTL   32.2    56.4  2024-03-26\n",
       "..           ...    ...     ...         ...\n",
       "70   832:WA:SNTL   11.4    10.3  2024-03-26\n",
       "71   841:WA:SNTL   10.1    11.2  2024-03-26\n",
       "72   974:WA:SNTL   21.6    39.6  2024-03-26\n",
       "73   909:WA:SNTL   21.8    33.6  2024-03-26\n",
       "74   863:WA:SNTL   22.2    21.5  2024-03-26\n",
       "\n",
       "[75 rows x 4 columns]"
      ]
     },
     "execution_count": 77,
     "metadata": {},
     "output_type": "execute_result"
    }
   ],
   "source": [
    "df"
   ]
  },
  {
   "cell_type": "code",
   "execution_count": 78,
   "id": "70509677",
   "metadata": {},
   "outputs": [],
   "source": [
    "data_df = sedona.createDataFrame(df)"
   ]
  },
  {
   "cell_type": "code",
   "execution_count": 79,
   "id": "14a58d50",
   "metadata": {},
   "outputs": [
    {
     "name": "stdout",
     "output_type": "stream",
     "text": [
      "+------------+-----+------+----------+\n",
      "|     station|value|median|      date|\n",
      "+------------+-----+------+----------+\n",
      "| 908:WA:SNTL| 34.1|  49.2|2024-03-26|\n",
      "| 990:WA:SNTL| 26.0|  42.4|2024-03-26|\n",
      "| 352:WA:SNTL|  8.1|  13.0|2024-03-26|\n",
      "|1080:WA:SNTL| 33.2|  62.8|2024-03-26|\n",
      "|1107:WA:SNTL| 32.2|  56.4|2024-03-26|\n",
      "| 375:WA:SNTL| 21.0|  26.0|2024-03-26|\n",
      "| 376:WA:SNTL| 21.1|  26.4|2024-03-26|\n",
      "| 942:WA:SNTL|  6.3|  17.6|2024-03-26|\n",
      "|1109:WA:SNTL|  0.1|   1.2|2024-03-26|\n",
      "|1085:WA:SNTL| 35.7|  59.6|2024-03-26|\n",
      "| 418:WA:SNTL| 25.0|  34.1|2024-03-26|\n",
      "| 420:WA:SNTL|  0.0|  13.0|2024-03-26|\n",
      "| 943:WA:SNTL|  2.2|   8.6|2024-03-26|\n",
      "| 998:WA:SNTL| 62.2|  91.9|2024-03-26|\n",
      "| 910:WA:SNTL| 13.3|  37.7|2024-03-26|\n",
      "| 478:WA:SNTL| 20.9|  28.6|2024-03-26|\n",
      "|1159:WA:SNTL|  5.8|  10.1|2024-03-26|\n",
      "|1256:WA:SNTL|  2.9|   NaN|2024-03-26|\n",
      "| 502:WA:SNTL| 21.3|  23.2|2024-03-26|\n",
      "| 507:WA:SNTL| 13.6|  18.8|2024-03-26|\n",
      "+------------+-----+------+----------+\n",
      "only showing top 20 rows\n",
      "\n"
     ]
    }
   ],
   "source": [
    "data_df.show()"
   ]
  },
  {
   "cell_type": "code",
   "execution_count": 80,
   "id": "92a06d11-d327-4db2-8ff3-6d6d8567644d",
   "metadata": {},
   "outputs": [],
   "source": [
    "data_df.createOrReplaceTempView('snotel_data')"
   ]
  },
  {
   "cell_type": "code",
   "execution_count": 85,
   "id": "65cd8361-af10-4b7b-ab7a-8d4373cc6a48",
   "metadata": {},
   "outputs": [],
   "source": [
    "## Join Daily Observations \n",
    "\n",
    "\n",
    "snotel_data_df = sedona.sql(\"\"\"\n",
    "SELECT *, (value / median) AS pct_median\n",
    "FROM stations\n",
    "JOIN snotel_data \n",
    "WHERE snotel_data.station = stations.stationTriplet\n",
    "\"\"\")"
   ]
  },
  {
   "cell_type": "code",
   "execution_count": 86,
   "id": "b97eedba-3ca6-42cb-8749-84c66a77b0fb",
   "metadata": {},
   "outputs": [
    {
     "data": {
      "text/plain": [
       "75"
      ]
     },
     "execution_count": 86,
     "metadata": {},
     "output_type": "execute_result"
    }
   ],
   "source": [
    "snotel_data_df.count()"
   ]
  },
  {
   "cell_type": "code",
   "execution_count": 89,
   "id": "d954dd05-4135-43e2-a926-0e92ecbcfcee",
   "metadata": {},
   "outputs": [
    {
     "name": "stdout",
     "output_type": "stream",
     "text": [
      "+--------------+---------+---------+-----------+-----------------+-------+----------+------------+---------+--------+----------+------------+---------+------+--------------------+--------------------+--------------------+------------+-----+------+----------+------------------+\n",
      "|stationTriplet|stationId|stateCode|networkCode|             name|dcoCode|countyName|         huc|elevation|latitude| longitude|dataTimeZone|pedonCode|shefId|           beginDate|             endDate|            geometry|     station|value|median|      date|        pct_median|\n",
      "+--------------+---------+---------+-----------+-----------------+-------+----------+------------+---------+--------+----------+------------+---------+------+--------------------+--------------------+--------------------+------------+-----+------+----------+------------------+\n",
      "|   553:WA:SNTL|      553|       WA|       SNTL|        June Lake|     OR|  Skamania|170800020304|   3440.0|46.14778|-122.15413|        -8.0|      NaN| MRBW1|1980-10-01 00:00:...|2100-01-01 00:00:...|POINT (-122.15413...| 553:WA:SNTL| 35.3|  39.2|2024-03-26|0.9005102040816325|\n",
      "|   507:WA:SNTL|      507|       WA|       SNTL|      Grouse Camp|     OR|  Kittitas|170300010401|   5390.0|47.28107|-120.48771|        -8.0|    32032| GRCW1|1979-10-01 00:00:...|2100-01-01 00:00:...|POINT (-120.48771...| 507:WA:SNTL| 13.6|  18.8|2024-03-26|0.7234042553191489|\n",
      "|   928:WA:SNTL|      928|       WA|       SNTL|Huckleberry Creek|     OR|    Pierce|171100140307|   2250.0|47.06565|-121.58778|        -8.0|      NaN| HKSW1|1997-10-01 00:00:...|2100-01-01 00:00:...|POINT (-121.58778...| 928:WA:SNTL|  0.0|   0.0|2024-03-26|              null|\n",
      "|   502:WA:SNTL|      502|       WA|       SNTL|       Green Lake|     OR|    Yakima|170300030101|   5920.0|46.54741|-121.17093|        -8.0|    18458| GRLW1|1981-10-01 00:00:...|2100-01-01 00:00:...|POINT (-121.17093...| 502:WA:SNTL| 21.3|  23.2|2024-03-26|0.9181034482758621|\n",
      "|   515:WA:SNTL|      515|       WA|       SNTL|       Harts Pass|     OR|  Okanogan|171100050501|   6490.0|48.72047| -120.6586|        -8.0|    30552| HRPW1|1979-10-01 00:00:...|2100-01-01 00:00:...|POINT (-120.6586 ...| 515:WA:SNTL| 31.5|  43.5|2024-03-26|0.7241379310344828|\n",
      "|  1129:WA:SNTL|     1129|       WA|       SNTL|      Indian Rock|     OR| Klickitat|170701060301|   5360.0|45.99077|-120.80767|        -8.0|      NaN| IRKW1|2008-10-01 00:00:...|2100-01-01 00:00:...|POINT (-120.80767...|1129:WA:SNTL|  8.2|  26.8|2024-03-26|0.3059701492537313|\n",
      "|   804:WA:SNTL|      804|       WA|       SNTL|   Surprise Lakes|     OR|  Skamania|170800020107|   4290.0|46.09497|-121.76345|        -8.0|      NaN| SPLW1|1978-10-01 00:00:...|2100-01-01 00:00:...|POINT (-121.76345...| 804:WA:SNTL| 37.0|  46.6|2024-03-26|0.7939914163090128|\n",
      "|   788:WA:SNTL|      788|       WA|       SNTL|    Stampede Pass|     OR|      King|171100130103|   3850.0|47.27427|-121.34162|        -8.0|      NaN| SMPW1|1979-10-01 00:00:...|2100-01-01 00:00:...|POINT (-121.34162...| 788:WA:SNTL| 22.2|  36.0|2024-03-26|0.6166666666666667|\n",
      "|  1012:WA:SNTL|     1012|       WA|       SNTL|      Swift Creek|     OR|  Skamania|170800020304|   4440.0| 46.1638|-122.18402|        -8.0|      NaN| SWCW1|2001-10-01 00:00:...|2100-01-01 00:00:...|POINT (-122.18402...|1012:WA:SNTL| 63.8|  66.4|2024-03-26|0.9608433734939757|\n",
      "|   791:WA:SNTL|      791|       WA|       SNTL|     Stevens Pass|     OR|      King|171100090102|   3950.0|47.74607|-121.09288|        -8.0|      NaN| SVNW1|1979-10-01 00:00:...|2100-01-01 00:00:...|POINT (-121.09288...| 791:WA:SNTL| 29.8|  35.7|2024-03-26|0.8347338935574229|\n",
      "|   975:WA:SNTL|      975|       WA|       SNTL|      Swamp Creek|     OR|    Skagit|171100050503|   3930.0|48.57142|-120.78267|        -8.0|      NaN| SWSW1|1999-10-01 00:00:...|2100-01-01 00:00:...|POINT (-120.78267...| 975:WA:SNTL|  6.3|  18.0|2024-03-26|              0.35|\n",
      "|   984:WA:SNTL|      984|       WA|       SNTL|   Spruce Springs|     OR|  Garfield|170601030201|   5700.0|46.18287|-117.54155|        -8.0|      NaN| SPGW1|2000-07-01 00:00:...|2100-01-01 00:00:...|POINT (-117.54155...| 984:WA:SNTL|  8.9|  12.8|2024-03-26|         0.6953125|\n",
      "|   974:WA:SNTL|      974|       WA|       SNTL|        Waterhole|     OR|   Clallam|171100200506|   5010.0|47.94485|-123.42594|        -8.0|      NaN| WHSW1|1999-09-30 00:00:...|2100-01-01 00:00:...|POINT (-123.42594...| 974:WA:SNTL| 21.6|  39.6|2024-03-26|0.5454545454545455|\n",
      "|   909:WA:SNTL|      909|       WA|       SNTL|      Wells Creek|     OR|   Whatcom|171100040103|   4030.0| 48.8661|-121.78976|        -8.0|      NaN| WCSW1|1995-08-24 00:00:...|2100-01-01 00:00:...|POINT (-121.78976...| 909:WA:SNTL| 21.8|  33.6|2024-03-26|0.6488095238095238|\n",
      "|   899:WA:SNTL|      899|       WA|       SNTL|    Tinkham Creek|     OR|      King|171100120101|   2990.0|47.33198|-121.46975|        -8.0|      NaN| TKSW1|1993-10-01 00:00:...|2100-01-01 00:00:...|POINT (-121.46975...| 899:WA:SNTL| 14.9|  26.2|2024-03-26|0.5687022900763359|\n",
      "|   863:WA:SNTL|      863|       WA|       SNTL|  White Pass E.S.|     OR|    Yakima|170300020301|   4440.0|46.64142|-121.38153|        -8.0|      NaN| WHPW1|1979-10-01 00:00:...|2100-01-01 00:00:...|POINT (-121.38153...| 863:WA:SNTL| 22.2|  21.5|2024-03-26|1.0325581395348837|\n",
      "|   824:WA:SNTL|      824|       WA|       SNTL|          Touchet|     OR|  Columbia|170701020303|   5530.0|46.11868| -117.8505|        -8.0|    30395| TOHW1|1979-10-01 00:00:...|2100-01-01 00:00:...|POINT (-117.8505 ...| 824:WA:SNTL| 21.7|  27.6|2024-03-26| 0.786231884057971|\n",
      "|   817:WA:SNTL|      817|       WA|       SNTL|    Thunder Basin|     OR|    Skagit|171100050702|   4320.0|48.52753| -120.9895|        -8.0|      NaN| THBW1|1987-09-30 00:00:...|2100-01-01 00:00:...|POINT (-120.9895 ...| 817:WA:SNTL| 22.7|  29.7|2024-03-26|0.7643097643097643|\n",
      "|   832:WA:SNTL|      832|       WA|       SNTL|           Trough|     OR|  Kittitas|170200100402|   5480.0|47.23328|-120.29412|        -8.0|    32031| TRGW1|1978-10-01 00:00:...|2100-01-01 00:00:...|POINT (-120.29412...| 832:WA:SNTL| 11.4|  10.3|2024-03-26|1.1067961165048543|\n",
      "|   841:WA:SNTL|      841|       WA|       SNTL|    Upper Wheeler|     OR|    Chelan|170200100310|   4330.0|47.28734|-120.37015|        -8.0|      NaN| UPWW1|1979-10-01 00:00:...|2100-01-01 00:00:...|POINT (-120.37015...| 841:WA:SNTL| 10.1|  11.2|2024-03-26|0.9017857142857143|\n",
      "+--------------+---------+---------+-----------+-----------------+-------+----------+------------+---------+--------+----------+------------+---------+------+--------------------+--------------------+--------------------+------------+-----+------+----------+------------------+\n",
      "only showing top 20 rows\n",
      "\n"
     ]
    }
   ],
   "source": [
    "snotel_data_df.show()"
   ]
  },
  {
   "cell_type": "code",
   "execution_count": 87,
   "id": "ec833760-f565-43f0-9a68-29e00f0cb7f6",
   "metadata": {},
   "outputs": [
    {
     "name": "stdout",
     "output_type": "stream",
     "text": [
      "User Guide: https://docs.kepler.gl/docs/keplergl-jupyter\n"
     ]
    },
    {
     "name": "stderr",
     "output_type": "stream",
     "text": [
      "/opt/conda/lib/python3.10/site-packages/jupyter_client/session.py:719: UserWarning: Message serialization failed with:\n",
      "Out of range float values are not JSON compliant\n",
      "Supporting this message is deprecated in jupyter-client 7, please make sure your message is JSON-compliant\n",
      "  content = self.pack(content)\n"
     ]
    },
    {
     "data": {
      "application/vnd.jupyter.widget-view+json": {
       "model_id": "b7622dc6a00240ec8285a92a3f448b5c",
       "version_major": 2,
       "version_minor": 0
      },
      "text/plain": [
       "KeplerGl(data={'unnamed': {'index': [0, 1, 2, 3, 4, 5, 6, 7, 8, 9, 10, 11, 12, 13, 14, 15, 16, 17, 18, 19, 20,…"
      ]
     },
     "metadata": {},
     "output_type": "display_data"
    }
   ],
   "source": [
    "SedonaKepler.create_map(snotel_data_df)"
   ]
  },
  {
   "cell_type": "markdown",
   "id": "b62c1cb5-b267-40f1-9678-b24c0d550f55",
   "metadata": {},
   "source": [
    "## Watershed - Spatial Join"
   ]
  },
  {
   "cell_type": "code",
   "execution_count": null,
   "id": "b6d51172-b454-4d87-9809-d0e2f47c8c4d",
   "metadata": {},
   "outputs": [],
   "source": [
    "# TODO: load geojson, spatial join, calculate "
   ]
  },
  {
   "cell_type": "code",
   "execution_count": null,
   "id": "cd18ec15-2e70-415b-af66-c239962677f8",
   "metadata": {},
   "outputs": [],
   "source": []
  },
  {
   "cell_type": "code",
   "execution_count": null,
   "id": "c386bad8-9aa2-49a6-a080-afef75e09d2e",
   "metadata": {},
   "outputs": [],
   "source": []
  },
  {
   "cell_type": "code",
   "execution_count": null,
   "id": "776e44a4-c0a8-4a2d-bf50-6515e0cd7a21",
   "metadata": {},
   "outputs": [],
   "source": []
  },
  {
   "cell_type": "code",
   "execution_count": null,
   "id": "ab9233ae-64bc-4c4e-96c5-2886bdaadaa7",
   "metadata": {},
   "outputs": [],
   "source": []
  },
  {
   "cell_type": "code",
   "execution_count": null,
   "id": "18dbc8b8-58df-40e7-a087-3737dc03f125",
   "metadata": {},
   "outputs": [],
   "source": []
  }
 ],
 "metadata": {
  "kernelspec": {
   "display_name": "Python 3 (ipykernel)",
   "language": "python",
   "name": "python3"
  },
  "language_info": {
   "codemirror_mode": {
    "name": "ipython",
    "version": 3
   },
   "file_extension": ".py",
   "mimetype": "text/x-python",
   "name": "python",
   "nbconvert_exporter": "python",
   "pygments_lexer": "ipython3",
   "version": "3.10.11"
  }
 },
 "nbformat": 4,
 "nbformat_minor": 5
}
