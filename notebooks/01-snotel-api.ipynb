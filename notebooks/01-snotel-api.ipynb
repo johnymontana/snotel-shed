{
 "cells": [
  {
   "cell_type": "markdown",
   "id": "5a51ec57",
   "metadata": {},
   "source": [
    "## SNOTEL"
   ]
  },
  {
   "cell_type": "code",
   "execution_count": 60,
   "id": "c50c7691",
   "metadata": {},
   "outputs": [],
   "source": [
    "import os\n",
    "import json\n",
    "import requests\n",
    "import pandas as pd\n",
    "import geopandas as gpd\n",
    "from sedona.spark import *\n",
    "from pyspark.sql.functions import expr\n",
    "from datetime import datetime, timedelta"
   ]
  },
  {
   "cell_type": "markdown",
   "id": "46e99dbb-4104-4a64-820b-8b7818eb598b",
   "metadata": {},
   "source": [
    "## Sedona Setup"
   ]
  },
  {
   "cell_type": "code",
   "execution_count": 2,
   "id": "f465fd2b-caae-4be3-b669-98e499b010df",
   "metadata": {},
   "outputs": [
    {
     "name": "stderr",
     "output_type": "stream",
     "text": [
      "Warning: Ignoring non-Spark config property: fs.s3a.aws.credentials.provider\n",
      "24/03/29 17:53:45 WARN NativeCodeLoader: Unable to load native-hadoop library for your platform... using builtin-java classes where applicable\n",
      "Setting default log level to \"WARN\".\n",
      "To adjust logging level use sc.setLogLevel(newLevel). For SparkR, use setLogLevel(newLevel).\n",
      "24/03/29 17:53:48 WARN MetricsConfig: Cannot locate configuration: tried hadoop-metrics2-s3a-file-system.properties,hadoop-metrics2.properties\n",
      "24/03/29 17:53:49 WARN S3ABlockOutputStream: Application invoked the Syncable API against stream writing to qjnq6fcbf1/spark-logs/spark-da58c7e12a0d4bc7a977490f65f4416c.inprogress. This is unsupported\n",
      "24/03/29 17:54:13 WARN SedonaContext: Python files are not set. Sedona will not pre-load Python UDFs.\n"
     ]
    }
   ],
   "source": [
    "config = SedonaContext.builder().\\\n",
    "    config(\"spark.hadoop.fs.s3a.bucket.wherobots-examples.aws.credentials.provider\",\"org.apache.hadoop.fs.s3a.AnonymousAWSCredentialsProvider\"). \\\n",
    "    getOrCreate()\n",
    "\n",
    "sedona = SedonaContext.create(config)"
   ]
  },
  {
   "cell_type": "code",
   "execution_count": null,
   "id": "c6a2d8cc-2752-4a09-9373-697896ed8dd8",
   "metadata": {},
   "outputs": [],
   "source": []
  },
  {
   "cell_type": "markdown",
   "id": "8cfcb531-94e5-4157-bfc1-ecb3dfac5a32",
   "metadata": {},
   "source": [
    "## SNOTEL Rest API"
   ]
  },
  {
   "cell_type": "code",
   "execution_count": 3,
   "id": "5904fbe8",
   "metadata": {},
   "outputs": [],
   "source": [
    "baseurl = \"https://wcc.sc.egov.usda.gov/awdbRestApi/\""
   ]
  },
  {
   "cell_type": "markdown",
   "id": "45c06c51-7d65-43d3-88fc-34b2a651969e",
   "metadata": {},
   "source": [
    "## Stations\n",
    "\n",
    "parameters"
   ]
  },
  {
   "cell_type": "code",
   "execution_count": 4,
   "id": "54a827d2-14ba-4ee3-a43b-90b775442f26",
   "metadata": {},
   "outputs": [],
   "source": [
    "payload = {\n",
    "    'activeOnly': True,\n",
    "    'returnStationElements': False\n",
    "}"
   ]
  },
  {
   "cell_type": "code",
   "execution_count": 5,
   "id": "581ebbd9-1475-46fa-bbfe-f8e4df92cf1c",
   "metadata": {},
   "outputs": [],
   "source": [
    "r = requests.get(baseurl + 'services/v1/stations', params=payload)"
   ]
  },
  {
   "cell_type": "code",
   "execution_count": 6,
   "id": "ac389354-f52c-4142-82d7-a854ce0a1556",
   "metadata": {},
   "outputs": [],
   "source": [
    "stations = r.json()"
   ]
  },
  {
   "cell_type": "code",
   "execution_count": 7,
   "id": "0d6bae05-af7a-45e1-87bc-394a9490acb1",
   "metadata": {},
   "outputs": [
    {
     "data": {
      "text/plain": [
       "4363"
      ]
     },
     "execution_count": 7,
     "metadata": {},
     "output_type": "execute_result"
    }
   ],
   "source": [
    "len(stations)"
   ]
  },
  {
   "cell_type": "code",
   "execution_count": 8,
   "id": "f5f5aa3b-8284-4c66-b2e9-3cb203dee8f5",
   "metadata": {},
   "outputs": [],
   "source": [
    "df = pd.DataFrame(stations)"
   ]
  },
  {
   "cell_type": "code",
   "execution_count": 9,
   "id": "3c4c7b59-358c-49e8-bc39-157b7c3f9ac5",
   "metadata": {},
   "outputs": [],
   "source": [
    "gdf = gpd.GeoDataFrame(df, crs=\"EPSG:4326\", geometry=gpd.points_from_xy(df.longitude, df.latitude))"
   ]
  },
  {
   "cell_type": "code",
   "execution_count": 10,
   "id": "8339ed26-2ff8-4d3f-86fb-408fdebf4d06",
   "metadata": {},
   "outputs": [
    {
     "data": {
      "text/html": [
       "<div>\n",
       "<style scoped>\n",
       "    .dataframe tbody tr th:only-of-type {\n",
       "        vertical-align: middle;\n",
       "    }\n",
       "\n",
       "    .dataframe tbody tr th {\n",
       "        vertical-align: top;\n",
       "    }\n",
       "\n",
       "    .dataframe thead th {\n",
       "        text-align: right;\n",
       "    }\n",
       "</style>\n",
       "<table border=\"1\" class=\"dataframe\">\n",
       "  <thead>\n",
       "    <tr style=\"text-align: right;\">\n",
       "      <th></th>\n",
       "      <th>stationTriplet</th>\n",
       "      <th>stationId</th>\n",
       "      <th>stateCode</th>\n",
       "      <th>networkCode</th>\n",
       "      <th>name</th>\n",
       "      <th>dcoCode</th>\n",
       "      <th>countyName</th>\n",
       "      <th>huc</th>\n",
       "      <th>elevation</th>\n",
       "      <th>latitude</th>\n",
       "      <th>longitude</th>\n",
       "      <th>dataTimeZone</th>\n",
       "      <th>pedonCode</th>\n",
       "      <th>shefId</th>\n",
       "      <th>beginDate</th>\n",
       "      <th>endDate</th>\n",
       "      <th>geometry</th>\n",
       "    </tr>\n",
       "  </thead>\n",
       "  <tbody>\n",
       "    <tr>\n",
       "      <th>0</th>\n",
       "      <td>2057:AL:SCAN</td>\n",
       "      <td>2057</td>\n",
       "      <td>AL</td>\n",
       "      <td>SCAN</td>\n",
       "      <td>AAMU-JTG</td>\n",
       "      <td>GC</td>\n",
       "      <td>Madison</td>\n",
       "      <td>060300020403</td>\n",
       "      <td>860.0</td>\n",
       "      <td>34.78333</td>\n",
       "      <td>-86.55000</td>\n",
       "      <td>-6.0</td>\n",
       "      <td>27979</td>\n",
       "      <td>AAMA1</td>\n",
       "      <td>2002-02-23 00:00:00.0</td>\n",
       "      <td>2100-01-01 00:00:00.0</td>\n",
       "      <td>POINT (-86.55000 34.78333)</td>\n",
       "    </tr>\n",
       "    <tr>\n",
       "      <th>1</th>\n",
       "      <td>ABY:CA:SNOW</td>\n",
       "      <td>ABY</td>\n",
       "      <td>CA</td>\n",
       "      <td>SNOW</td>\n",
       "      <td>Abbey</td>\n",
       "      <td>UN</td>\n",
       "      <td>Plumas</td>\n",
       "      <td>180201220103</td>\n",
       "      <td>5650.0</td>\n",
       "      <td>39.95500</td>\n",
       "      <td>-120.53800</td>\n",
       "      <td>NaN</td>\n",
       "      <td>NaN</td>\n",
       "      <td>NaN</td>\n",
       "      <td>1963-02-01 00:00:00.0</td>\n",
       "      <td>2100-01-01 00:00:00.0</td>\n",
       "      <td>POINT (-120.53800 39.95500)</td>\n",
       "    </tr>\n",
       "    <tr>\n",
       "      <th>2</th>\n",
       "      <td>0010:ID:COOP</td>\n",
       "      <td>0010</td>\n",
       "      <td>ID</td>\n",
       "      <td>COOP</td>\n",
       "      <td>Aberdeen Experimnt Stn</td>\n",
       "      <td>ID</td>\n",
       "      <td>Bingham</td>\n",
       "      <td>170402060704</td>\n",
       "      <td>4410.0</td>\n",
       "      <td>42.95000</td>\n",
       "      <td>-112.83333</td>\n",
       "      <td>NaN</td>\n",
       "      <td>NaN</td>\n",
       "      <td>ABDI1</td>\n",
       "      <td>1914-01-01 00:00:00.0</td>\n",
       "      <td>2100-01-01 00:00:00.0</td>\n",
       "      <td>POINT (-112.83333 42.95000)</td>\n",
       "    </tr>\n",
       "    <tr>\n",
       "      <th>3</th>\n",
       "      <td>1F01A:BC:SNOW</td>\n",
       "      <td>1F01A</td>\n",
       "      <td>BC</td>\n",
       "      <td>SNOW</td>\n",
       "      <td>Aberdeen Lake</td>\n",
       "      <td>OR</td>\n",
       "      <td>UNKNOWN</td>\n",
       "      <td>NaN</td>\n",
       "      <td>4298.0</td>\n",
       "      <td>50.14733</td>\n",
       "      <td>-119.05340</td>\n",
       "      <td>NaN</td>\n",
       "      <td>NaN</td>\n",
       "      <td>ABLQ2</td>\n",
       "      <td>1939-04-01 00:00:00.0</td>\n",
       "      <td>2100-01-01 00:00:00.0</td>\n",
       "      <td>POINT (-119.05340 50.14733)</td>\n",
       "    </tr>\n",
       "    <tr>\n",
       "      <th>4</th>\n",
       "      <td>0041:NM:COOP</td>\n",
       "      <td>0041</td>\n",
       "      <td>NM</td>\n",
       "      <td>COOP</td>\n",
       "      <td>Abiquiu Dam</td>\n",
       "      <td>UN</td>\n",
       "      <td>Rio Arriba</td>\n",
       "      <td>130201021005</td>\n",
       "      <td>6380.0</td>\n",
       "      <td>36.23333</td>\n",
       "      <td>-106.43333</td>\n",
       "      <td>NaN</td>\n",
       "      <td>NaN</td>\n",
       "      <td>ABIN5</td>\n",
       "      <td>1957-01-01 00:00:00.0</td>\n",
       "      <td>2100-01-01 00:00:00.0</td>\n",
       "      <td>POINT (-106.43333 36.23333)</td>\n",
       "    </tr>\n",
       "    <tr>\n",
       "      <th>...</th>\n",
       "      <td>...</td>\n",
       "      <td>...</td>\n",
       "      <td>...</td>\n",
       "      <td>...</td>\n",
       "      <td>...</td>\n",
       "      <td>...</td>\n",
       "      <td>...</td>\n",
       "      <td>...</td>\n",
       "      <td>...</td>\n",
       "      <td>...</td>\n",
       "      <td>...</td>\n",
       "      <td>...</td>\n",
       "      <td>...</td>\n",
       "      <td>...</td>\n",
       "      <td>...</td>\n",
       "      <td>...</td>\n",
       "      <td>...</td>\n",
       "    </tr>\n",
       "    <tr>\n",
       "      <th>4358</th>\n",
       "      <td>YBP:CA:SNOW</td>\n",
       "      <td>YBP</td>\n",
       "      <td>CA</td>\n",
       "      <td>SNOW</td>\n",
       "      <td>Yuba Pass</td>\n",
       "      <td>UN</td>\n",
       "      <td>Sierra</td>\n",
       "      <td>180201250202</td>\n",
       "      <td>6700.0</td>\n",
       "      <td>39.61700</td>\n",
       "      <td>-120.49200</td>\n",
       "      <td>NaN</td>\n",
       "      <td>NaN</td>\n",
       "      <td>NaN</td>\n",
       "      <td>1937-03-01 00:00:00.0</td>\n",
       "      <td>2100-01-01 00:00:00.0</td>\n",
       "      <td>POINT (-120.49200 39.61700)</td>\n",
       "    </tr>\n",
       "    <tr>\n",
       "      <th>4359</th>\n",
       "      <td>15356000:AK:USGS</td>\n",
       "      <td>15356000</td>\n",
       "      <td>AK</td>\n",
       "      <td>USGS</td>\n",
       "      <td>Yukon R at Eagle</td>\n",
       "      <td>AK</td>\n",
       "      <td>Southeast Fairbanks</td>\n",
       "      <td>190705051301</td>\n",
       "      <td>850.0</td>\n",
       "      <td>64.78917</td>\n",
       "      <td>-141.20009</td>\n",
       "      <td>NaN</td>\n",
       "      <td>NaN</td>\n",
       "      <td>NaN</td>\n",
       "      <td>1950-01-01 00:00:00.0</td>\n",
       "      <td>2100-01-01 00:00:00.0</td>\n",
       "      <td>POINT (-141.20009 64.78917)</td>\n",
       "    </tr>\n",
       "    <tr>\n",
       "      <th>4360</th>\n",
       "      <td>15453500:AK:USGS</td>\n",
       "      <td>15453500</td>\n",
       "      <td>AK</td>\n",
       "      <td>USGS</td>\n",
       "      <td>Yukon R nr Stevens Village</td>\n",
       "      <td>AK</td>\n",
       "      <td>Yukon-Koyukuk</td>\n",
       "      <td>190804040504</td>\n",
       "      <td>240.0</td>\n",
       "      <td>65.87510</td>\n",
       "      <td>-149.72035</td>\n",
       "      <td>NaN</td>\n",
       "      <td>NaN</td>\n",
       "      <td>NaN</td>\n",
       "      <td>1976-10-01 00:00:00.0</td>\n",
       "      <td>2100-01-01 00:00:00.0</td>\n",
       "      <td>POINT (-149.72035 65.87510)</td>\n",
       "    </tr>\n",
       "    <tr>\n",
       "      <th>4361</th>\n",
       "      <td>1033:CO:SNTL</td>\n",
       "      <td>1033</td>\n",
       "      <td>CO</td>\n",
       "      <td>SNTL</td>\n",
       "      <td>Zirkel</td>\n",
       "      <td>CO</td>\n",
       "      <td>Jackson</td>\n",
       "      <td>101800010202</td>\n",
       "      <td>9338.0</td>\n",
       "      <td>40.79492</td>\n",
       "      <td>-106.59544</td>\n",
       "      <td>-8.0</td>\n",
       "      <td>NaN</td>\n",
       "      <td>ZIRC2</td>\n",
       "      <td>2002-08-14 00:00:00.0</td>\n",
       "      <td>2100-01-01 00:00:00.0</td>\n",
       "      <td>POINT (-106.59544 40.79492)</td>\n",
       "    </tr>\n",
       "    <tr>\n",
       "      <th>4362</th>\n",
       "      <td>09386950:NM:USGS</td>\n",
       "      <td>09386950</td>\n",
       "      <td>NM</td>\n",
       "      <td>USGS</td>\n",
       "      <td>Zuni R ab Black Rock Reservoir</td>\n",
       "      <td>CO</td>\n",
       "      <td>McKinley</td>\n",
       "      <td>150200040313</td>\n",
       "      <td>6480.0</td>\n",
       "      <td>35.10028</td>\n",
       "      <td>-108.75167</td>\n",
       "      <td>NaN</td>\n",
       "      <td>NaN</td>\n",
       "      <td>NaN</td>\n",
       "      <td>1969-10-01 00:00:00.0</td>\n",
       "      <td>2100-01-01 00:00:00.0</td>\n",
       "      <td>POINT (-108.75167 35.10028)</td>\n",
       "    </tr>\n",
       "  </tbody>\n",
       "</table>\n",
       "<p>4363 rows × 17 columns</p>\n",
       "</div>"
      ],
      "text/plain": [
       "        stationTriplet stationId stateCode networkCode  \\\n",
       "0         2057:AL:SCAN      2057        AL        SCAN   \n",
       "1          ABY:CA:SNOW       ABY        CA        SNOW   \n",
       "2         0010:ID:COOP      0010        ID        COOP   \n",
       "3        1F01A:BC:SNOW     1F01A        BC        SNOW   \n",
       "4         0041:NM:COOP      0041        NM        COOP   \n",
       "...                ...       ...       ...         ...   \n",
       "4358       YBP:CA:SNOW       YBP        CA        SNOW   \n",
       "4359  15356000:AK:USGS  15356000        AK        USGS   \n",
       "4360  15453500:AK:USGS  15453500        AK        USGS   \n",
       "4361      1033:CO:SNTL      1033        CO        SNTL   \n",
       "4362  09386950:NM:USGS  09386950        NM        USGS   \n",
       "\n",
       "                                name dcoCode           countyName  \\\n",
       "0                           AAMU-JTG      GC              Madison   \n",
       "1                              Abbey      UN               Plumas   \n",
       "2             Aberdeen Experimnt Stn      ID              Bingham   \n",
       "3                      Aberdeen Lake      OR              UNKNOWN   \n",
       "4                        Abiquiu Dam      UN           Rio Arriba   \n",
       "...                              ...     ...                  ...   \n",
       "4358                       Yuba Pass      UN               Sierra   \n",
       "4359                Yukon R at Eagle      AK  Southeast Fairbanks   \n",
       "4360      Yukon R nr Stevens Village      AK        Yukon-Koyukuk   \n",
       "4361                          Zirkel      CO              Jackson   \n",
       "4362  Zuni R ab Black Rock Reservoir      CO             McKinley   \n",
       "\n",
       "               huc  elevation  latitude  longitude  dataTimeZone pedonCode  \\\n",
       "0     060300020403      860.0  34.78333  -86.55000          -6.0     27979   \n",
       "1     180201220103     5650.0  39.95500 -120.53800           NaN       NaN   \n",
       "2     170402060704     4410.0  42.95000 -112.83333           NaN       NaN   \n",
       "3              NaN     4298.0  50.14733 -119.05340           NaN       NaN   \n",
       "4     130201021005     6380.0  36.23333 -106.43333           NaN       NaN   \n",
       "...            ...        ...       ...        ...           ...       ...   \n",
       "4358  180201250202     6700.0  39.61700 -120.49200           NaN       NaN   \n",
       "4359  190705051301      850.0  64.78917 -141.20009           NaN       NaN   \n",
       "4360  190804040504      240.0  65.87510 -149.72035           NaN       NaN   \n",
       "4361  101800010202     9338.0  40.79492 -106.59544          -8.0       NaN   \n",
       "4362  150200040313     6480.0  35.10028 -108.75167           NaN       NaN   \n",
       "\n",
       "     shefId              beginDate                endDate  \\\n",
       "0     AAMA1  2002-02-23 00:00:00.0  2100-01-01 00:00:00.0   \n",
       "1       NaN  1963-02-01 00:00:00.0  2100-01-01 00:00:00.0   \n",
       "2     ABDI1  1914-01-01 00:00:00.0  2100-01-01 00:00:00.0   \n",
       "3     ABLQ2  1939-04-01 00:00:00.0  2100-01-01 00:00:00.0   \n",
       "4     ABIN5  1957-01-01 00:00:00.0  2100-01-01 00:00:00.0   \n",
       "...     ...                    ...                    ...   \n",
       "4358    NaN  1937-03-01 00:00:00.0  2100-01-01 00:00:00.0   \n",
       "4359    NaN  1950-01-01 00:00:00.0  2100-01-01 00:00:00.0   \n",
       "4360    NaN  1976-10-01 00:00:00.0  2100-01-01 00:00:00.0   \n",
       "4361  ZIRC2  2002-08-14 00:00:00.0  2100-01-01 00:00:00.0   \n",
       "4362    NaN  1969-10-01 00:00:00.0  2100-01-01 00:00:00.0   \n",
       "\n",
       "                         geometry  \n",
       "0      POINT (-86.55000 34.78333)  \n",
       "1     POINT (-120.53800 39.95500)  \n",
       "2     POINT (-112.83333 42.95000)  \n",
       "3     POINT (-119.05340 50.14733)  \n",
       "4     POINT (-106.43333 36.23333)  \n",
       "...                           ...  \n",
       "4358  POINT (-120.49200 39.61700)  \n",
       "4359  POINT (-141.20009 64.78917)  \n",
       "4360  POINT (-149.72035 65.87510)  \n",
       "4361  POINT (-106.59544 40.79492)  \n",
       "4362  POINT (-108.75167 35.10028)  \n",
       "\n",
       "[4363 rows x 17 columns]"
      ]
     },
     "execution_count": 10,
     "metadata": {},
     "output_type": "execute_result"
    }
   ],
   "source": [
    "gdf"
   ]
  },
  {
   "cell_type": "code",
   "execution_count": 11,
   "id": "6e859208-1863-480d-a630-e616d7d2065b",
   "metadata": {},
   "outputs": [],
   "source": [
    "station_df = sedona.createDataFrame(gdf)\n",
    "station_df.createOrReplaceTempView('stations')"
   ]
  },
  {
   "cell_type": "code",
   "execution_count": 12,
   "id": "0e060b26-4150-43a5-bf67-6422e653cfc1",
   "metadata": {},
   "outputs": [
    {
     "name": "stdout",
     "output_type": "stream",
     "text": [
      "root\n",
      " |-- stationTriplet: string (nullable = true)\n",
      " |-- stationId: string (nullable = true)\n",
      " |-- stateCode: string (nullable = true)\n",
      " |-- networkCode: string (nullable = true)\n",
      " |-- name: string (nullable = true)\n",
      " |-- dcoCode: string (nullable = true)\n",
      " |-- countyName: string (nullable = true)\n",
      " |-- huc: string (nullable = true)\n",
      " |-- elevation: double (nullable = true)\n",
      " |-- latitude: double (nullable = true)\n",
      " |-- longitude: double (nullable = true)\n",
      " |-- dataTimeZone: double (nullable = true)\n",
      " |-- pedonCode: string (nullable = true)\n",
      " |-- shefId: string (nullable = true)\n",
      " |-- beginDate: string (nullable = true)\n",
      " |-- endDate: string (nullable = true)\n",
      " |-- geometry: geometry (nullable = true)\n",
      "\n"
     ]
    }
   ],
   "source": [
    "station_df.printSchema()"
   ]
  },
  {
   "cell_type": "code",
   "execution_count": 13,
   "id": "3815fad0-f0dd-4e6a-aae0-8c05a39e2ed6",
   "metadata": {},
   "outputs": [
    {
     "name": "stderr",
     "output_type": "stream",
     "text": [
      "[Stage 3:>                                                          (0 + 1) / 1]\r"
     ]
    },
    {
     "name": "stdout",
     "output_type": "stream",
     "text": [
      "+---------------+---------+---------+-----------+--------------------+-------+------------+------------+---------+--------+----------+------------+---------+------+--------------------+--------------------+--------------------+\n",
      "| stationTriplet|stationId|stateCode|networkCode|                name|dcoCode|  countyName|         huc|elevation|latitude| longitude|dataTimeZone|pedonCode|shefId|           beginDate|             endDate|            geometry|\n",
      "+---------------+---------+---------+-----------+--------------------+-------+------------+------------+---------+--------+----------+------------+---------+------+--------------------+--------------------+--------------------+\n",
      "|   2057:AL:SCAN|     2057|       AL|       SCAN|            AAMU-JTG|     GC|     Madison|060300020403|    860.0|34.78333|    -86.55|        -6.0|    27979| AAMA1|2002-02-23 00:00:...|2100-01-01 00:00:...|POINT (-86.55 34....|\n",
      "|    ABY:CA:SNOW|      ABY|       CA|       SNOW|               Abbey|     UN|      Plumas|180201220103|   5650.0|  39.955|  -120.538|         NaN|      NaN|   NaN|1963-02-01 00:00:...|2100-01-01 00:00:...|POINT (-120.538 3...|\n",
      "|   0010:ID:COOP|     0010|       ID|       COOP|Aberdeen Experimn...|     ID|     Bingham|170402060704|   4410.0|   42.95|-112.83333|         NaN|      NaN| ABDI1|1914-01-01 00:00:...|2100-01-01 00:00:...|POINT (-112.83333...|\n",
      "|  1F01A:BC:SNOW|    1F01A|       BC|       SNOW|       Aberdeen Lake|     OR|     UNKNOWN|         NaN|   4298.0|50.14733| -119.0534|         NaN|      NaN| ABLQ2|1939-04-01 00:00:...|2100-01-01 00:00:...|POINT (-119.0534 ...|\n",
      "|   0041:NM:COOP|     0041|       NM|       COOP|         Abiquiu Dam|     UN|  Rio Arriba|130201021005|   6380.0|36.23333|-106.43333|         NaN|      NaN| ABIN5|1957-01-01 00:00:...|2100-01-01 00:00:...|POINT (-106.43333...|\n",
      "|08108010:NM:BOR| 08108010|       NM|        BOR|   Abiquiu Reservoir|     CO|  Rio Arriba|130201021006|   6180.0|  36.237|-106.42912|         NaN|      NaN|   NaN|1964-09-01 00:00:...|2100-01-01 00:00:...|POINT (-106.42912...|\n",
      "|  13E19:ID:SNOW|    13E19|       ID|       SNOW|       Above Gilmore|     ID|       Lemhi|170602040101|   8289.0|44.45615|-113.30097|         NaN|      NaN| ABGI1|1961-01-01 00:00:...|2100-01-01 00:00:...|POINT (-113.30097...|\n",
      "|  15B07:ID:SNOW|    15B07|       ID|       SNOW|        Above Roland|     ID|    Shoshone|170103040201|   4347.0|47.38507|-115.66405|         NaN|      NaN| ABRI1|1926-03-01 00:00:...|2100-01-01 00:00:...|POINT (-115.66405...|\n",
      "|   2092:KS:SCAN|     2092|       KS|       SCAN|              Abrams|     GC|      Cowley|110300130307|   1194.0| 37.1313|  -97.0859|        -6.0|    31337| ABRK1|2004-06-21 00:00:...|2100-01-01 00:00:...|POINT (-97.0859 3...|\n",
      "|06110500:MT:BOR| 06110500|       MT|        BOR|         Ackley Lake|     MT|Judith Basin|100401030202|   4300.0|46.95741|-109.94062|         NaN|      NaN|   NaN|1938-06-01 00:00:...|2100-01-01 00:00:...|POINT (-109.94062...|\n",
      "|   2015:NM:SCAN|     2015|       NM|       SCAN|      Adams Ranch #1|     GC|     Lincoln|130600060201|   6175.0|   34.25|-105.41667|        -7.0|    19304| ADRN5|1993-10-25 00:00:...|2100-01-01 00:00:...|POINT (-105.41667...|\n",
      "|  20H08:CA:SNOW|    20H08|       CA|       SNOW|      Adin Mountains|     OR|       Modoc|180200021403|   6190.0|41.23483|-120.79467|         NaN|      NaN| ADMC1|1930-04-01 00:00:...|2100-01-01 00:00:...|POINT (-120.79467...|\n",
      "|    301:CA:SNTL|      301|       CA|       SNTL|            Adin Mtn|     OR|       Modoc|180200021403|   6190.0|41.23583|-120.79192|        -8.0|      NaN| ADMC1|1983-10-01 00:00:...|2100-01-01 00:00:...|POINT (-120.79192...|\n",
      "|   2235:CA:SCAN|     2235|       CA|       SCAN|               Adobe|     GC|        Mono|180901010607|   6500.0|37.97787|-118.68626|        -8.0|      NaN|   NaN|2023-09-27 00:00:...|2100-01-01 00:00:...|POINT (-118.68626...|\n",
      "|07007010:CO:BOR| 07007010|       CO|        BOR|Adobe Creek Reser...|     CO|       Kiowa|110200090303|   4150.0|38.26609|-103.24373|         NaN|      NaN|   NaN|1949-11-01 00:00:...|2100-01-01 00:00:...|POINT (-103.24373...|\n",
      "|   0027:WY:COOP|     0027|       WY|       COOP|               Afton|     MT|     Lincoln|170401050205|   6210.0|42.73333|-110.93333|         NaN|      NaN| AFOW4|1909-10-01 00:00:...|2100-01-01 00:00:...|POINT (-110.93333...|\n",
      "| 516700:MT:USGS|   516700|       MT|       USGS|Agency Crk ab Joc...|     MT|    Missoula|170102120705|   3725.0|47.12579| -113.9974|         NaN|      NaN|   NaN|1999-10-01 00:00:...|2100-01-01 00:00:...|POINT (-113.9974 ...|\n",
      "|    AGP:CA:MSNT|      AGP|       CA|       MSNT|          Agnew Pass|     GC|      Madera|180400060401|   9450.0|  37.724|  -119.143|         NaN|      NaN|   NaN|1989-11-24 00:00:...|2100-01-01 00:00:...|POINT (-119.143 3...|\n",
      "|    AGP:CA:SNOW|      AGP|       CA|       SNOW|          Agnew Pass|     UN|      Madera|180400060401|   9450.0|  37.724|  -119.143|         NaN|      NaN|   NaN|1930-04-01 00:00:...|2100-01-01 00:00:...|POINT (-119.143 3...|\n",
      "|    907:UT:SNTL|      907|       UT|       SNTL|         Agua Canyon|     UT|        Kane|160300020301|   8900.0|37.52217|-112.27118|        -8.0|      NaN| AGUU1|1994-10-01 00:00:...|2100-01-01 00:00:...|POINT (-112.27118...|\n",
      "+---------------+---------+---------+-----------+--------------------+-------+------------+------------+---------+--------+----------+------------+---------+------+--------------------+--------------------+--------------------+\n",
      "only showing top 20 rows\n",
      "\n"
     ]
    },
    {
     "name": "stderr",
     "output_type": "stream",
     "text": [
      "                                                                                \r"
     ]
    }
   ],
   "source": [
    "station_df.show()"
   ]
  },
  {
   "cell_type": "code",
   "execution_count": 14,
   "id": "eceadf97-440f-4db2-b690-54376f7f14eb",
   "metadata": {},
   "outputs": [
    {
     "name": "stderr",
     "output_type": "stream",
     "text": [
      "[Stage 4:=============================>                            (6 + 6) / 12]\r"
     ]
    },
    {
     "name": "stdout",
     "output_type": "stream",
     "text": [
      "+--------+\n",
      "|count(1)|\n",
      "+--------+\n",
      "|     899|\n",
      "+--------+\n",
      "\n"
     ]
    },
    {
     "name": "stderr",
     "output_type": "stream",
     "text": [
      "                                                                                \r"
     ]
    }
   ],
   "source": [
    "sedona.sql(\"SELECT COUNT(*) FROM stations WHERE networkCode = 'SNTL'\").show()"
   ]
  },
  {
   "cell_type": "code",
   "execution_count": 15,
   "id": "413cf328-aef1-48e6-a056-661299ee2a23",
   "metadata": {},
   "outputs": [
    {
     "name": "stderr",
     "output_type": "stream",
     "text": [
      "                                                                                \r"
     ]
    }
   ],
   "source": [
    "states = sedona.sql(\"SELECT distinct(stateCode) FROM stations WHERE networkCode = 'SNTL'\").toPandas().values.tolist()\n",
    "states = [x[0] for x in states]"
   ]
  },
  {
   "cell_type": "code",
   "execution_count": 16,
   "id": "73f0d1b6-218f-47bd-b2df-9f8ff576717a",
   "metadata": {},
   "outputs": [
    {
     "data": {
      "text/plain": [
       "['AZ', 'OR', 'WY', 'NV', 'ID', 'CA', 'MT', 'WA', 'NM', 'CO', 'AK', 'UT', 'SD']"
      ]
     },
     "execution_count": 16,
     "metadata": {},
     "output_type": "execute_result"
    }
   ],
   "source": [
    "states"
   ]
  },
  {
   "cell_type": "markdown",
   "id": "834c6e3c-1017-4a95-a999-f732ebf2c4f1",
   "metadata": {
    "tags": []
   },
   "source": [
    "## Data"
   ]
  },
  {
   "cell_type": "markdown",
   "id": "c7ef502f",
   "metadata": {},
   "source": [
    "parameters\n",
    "\n",
    "* `beginDate` - yyyy-MM-dd HH:mm\n",
    "* `centralTendencyType` - MEDIAN\n",
    "* `duration` - DAILY\n",
    "* `elements` - PREC, WTEQ, SMS:*, PREC::2\n",
    "* `endDate` - yyyy-MM-dd HH:mm\n",
    "* `stationTriplets` - *:*:*"
   ]
  },
  {
   "cell_type": "code",
   "execution_count": 57,
   "id": "e9d9905b",
   "metadata": {},
   "outputs": [
    {
     "data": {
      "text/plain": [
       "'2024-03-28'"
      ]
     },
     "execution_count": 57,
     "metadata": {},
     "output_type": "execute_result"
    }
   ],
   "source": [
    "prev_day = datetime.now() - timedelta(1)\n",
    "most_recent_date = prev_day.strftime(\"%Y-%m-%d\")\n",
    "most_recent_date"
   ]
  },
  {
   "cell_type": "code",
   "execution_count": 61,
   "id": "f6b53810",
   "metadata": {},
   "outputs": [],
   "source": [
    "station_data = []\n",
    "for state in states:\n",
    "    payload = {\n",
    "        'beginDate': f\"{most_recent_date}\",\n",
    "        'endDate': f\"{most_recent_date}\",\n",
    "        'centralTendencyType': 'MEDIAN',\n",
    "        'duration': 'DAILY',\n",
    "        'elements': 'WTEQ',\n",
    "        'stationTriplets': f\"*:{state}:SNTL\"\n",
    "    }\n",
    "    r = requests.get(baseurl + 'services/v1/data', params=payload)\n",
    "    station_data = station_data + r.json()"
   ]
  },
  {
   "cell_type": "code",
   "execution_count": 18,
   "id": "d28e43b1-17d0-45e6-88b1-238fbb89e539",
   "metadata": {},
   "outputs": [
    {
     "data": {
      "text/plain": [
       "855"
      ]
     },
     "execution_count": 18,
     "metadata": {},
     "output_type": "execute_result"
    }
   ],
   "source": [
    "len(station_data)"
   ]
  },
  {
   "cell_type": "code",
   "execution_count": 19,
   "id": "09972e70-4ee1-4233-b4e9-315dd93aa95f",
   "metadata": {},
   "outputs": [],
   "source": [
    "df = pd.DataFrame(station_data)"
   ]
  },
  {
   "cell_type": "code",
   "execution_count": 20,
   "id": "49f70fb2-d831-48bf-9f9e-4ad7d08d8503",
   "metadata": {},
   "outputs": [
    {
     "data": {
      "text/html": [
       "<div>\n",
       "<style scoped>\n",
       "    .dataframe tbody tr th:only-of-type {\n",
       "        vertical-align: middle;\n",
       "    }\n",
       "\n",
       "    .dataframe tbody tr th {\n",
       "        vertical-align: top;\n",
       "    }\n",
       "\n",
       "    .dataframe thead th {\n",
       "        text-align: right;\n",
       "    }\n",
       "</style>\n",
       "<table border=\"1\" class=\"dataframe\">\n",
       "  <thead>\n",
       "    <tr style=\"text-align: right;\">\n",
       "      <th></th>\n",
       "      <th>stationTriplet</th>\n",
       "      <th>data</th>\n",
       "    </tr>\n",
       "  </thead>\n",
       "  <tbody>\n",
       "    <tr>\n",
       "      <th>0</th>\n",
       "      <td>308:AZ:SNTL</td>\n",
       "      <td>[{'stationElement': {'elementCode': 'WTEQ', 'o...</td>\n",
       "    </tr>\n",
       "    <tr>\n",
       "      <th>1</th>\n",
       "      <td>1140:AZ:SNTL</td>\n",
       "      <td>[{'stationElement': {'elementCode': 'WTEQ', 'o...</td>\n",
       "    </tr>\n",
       "    <tr>\n",
       "      <th>2</th>\n",
       "      <td>310:AZ:SNTL</td>\n",
       "      <td>[{'stationElement': {'elementCode': 'WTEQ', 'o...</td>\n",
       "    </tr>\n",
       "    <tr>\n",
       "      <th>3</th>\n",
       "      <td>1212:AZ:SNTL</td>\n",
       "      <td>[{'stationElement': {'elementCode': 'WTEQ', 'o...</td>\n",
       "    </tr>\n",
       "    <tr>\n",
       "      <th>4</th>\n",
       "      <td>902:AZ:SNTL</td>\n",
       "      <td>[{'stationElement': {'elementCode': 'WTEQ', 'o...</td>\n",
       "    </tr>\n",
       "    <tr>\n",
       "      <th>...</th>\n",
       "      <td>...</td>\n",
       "      <td>...</td>\n",
       "    </tr>\n",
       "    <tr>\n",
       "      <th>850</th>\n",
       "      <td>1164:UT:SNTL</td>\n",
       "      <td>[{'stationElement': {'elementCode': 'WTEQ', 'o...</td>\n",
       "    </tr>\n",
       "    <tr>\n",
       "      <th>851</th>\n",
       "      <td>1228:UT:SNTL</td>\n",
       "      <td>[{'stationElement': {'elementCode': 'WTEQ', 'o...</td>\n",
       "    </tr>\n",
       "    <tr>\n",
       "      <th>852</th>\n",
       "      <td>1197:UT:SNTL</td>\n",
       "      <td>[{'stationElement': {'elementCode': 'WTEQ', 'o...</td>\n",
       "    </tr>\n",
       "    <tr>\n",
       "      <th>853</th>\n",
       "      <td>354:SD:SNTL</td>\n",
       "      <td>[{'stationElement': {'elementCode': 'WTEQ', 'o...</td>\n",
       "    </tr>\n",
       "    <tr>\n",
       "      <th>854</th>\n",
       "      <td>920:SD:SNTL</td>\n",
       "      <td>[{'stationElement': {'elementCode': 'WTEQ', 'o...</td>\n",
       "    </tr>\n",
       "  </tbody>\n",
       "</table>\n",
       "<p>855 rows × 2 columns</p>\n",
       "</div>"
      ],
      "text/plain": [
       "    stationTriplet                                               data\n",
       "0      308:AZ:SNTL  [{'stationElement': {'elementCode': 'WTEQ', 'o...\n",
       "1     1140:AZ:SNTL  [{'stationElement': {'elementCode': 'WTEQ', 'o...\n",
       "2      310:AZ:SNTL  [{'stationElement': {'elementCode': 'WTEQ', 'o...\n",
       "3     1212:AZ:SNTL  [{'stationElement': {'elementCode': 'WTEQ', 'o...\n",
       "4      902:AZ:SNTL  [{'stationElement': {'elementCode': 'WTEQ', 'o...\n",
       "..             ...                                                ...\n",
       "850   1164:UT:SNTL  [{'stationElement': {'elementCode': 'WTEQ', 'o...\n",
       "851   1228:UT:SNTL  [{'stationElement': {'elementCode': 'WTEQ', 'o...\n",
       "852   1197:UT:SNTL  [{'stationElement': {'elementCode': 'WTEQ', 'o...\n",
       "853    354:SD:SNTL  [{'stationElement': {'elementCode': 'WTEQ', 'o...\n",
       "854    920:SD:SNTL  [{'stationElement': {'elementCode': 'WTEQ', 'o...\n",
       "\n",
       "[855 rows x 2 columns]"
      ]
     },
     "execution_count": 20,
     "metadata": {},
     "output_type": "execute_result"
    }
   ],
   "source": [
    "df"
   ]
  },
  {
   "cell_type": "code",
   "execution_count": 21,
   "id": "8b971fe8-65e5-4c32-a2a5-37fab51dc559",
   "metadata": {},
   "outputs": [],
   "source": [
    "data_list = [(station['stationTriplet'], station['data'][0]['values'][0]['value'], station['data'][0]['values'][0].get('median'), station['data'][0]['values'][0]['date']) for station in station_data]"
   ]
  },
  {
   "cell_type": "code",
   "execution_count": 22,
   "id": "963beb20-6f87-40f6-87cc-00b907643d8c",
   "metadata": {},
   "outputs": [],
   "source": [
    "df = pd.DataFrame(data_list, columns=['station', 'value', 'median', 'date'])"
   ]
  },
  {
   "cell_type": "code",
   "execution_count": 23,
   "id": "2671c061-69d8-4ced-8c78-df49acb9efb7",
   "metadata": {},
   "outputs": [
    {
     "data": {
      "text/html": [
       "<div>\n",
       "<style scoped>\n",
       "    .dataframe tbody tr th:only-of-type {\n",
       "        vertical-align: middle;\n",
       "    }\n",
       "\n",
       "    .dataframe tbody tr th {\n",
       "        vertical-align: top;\n",
       "    }\n",
       "\n",
       "    .dataframe thead th {\n",
       "        text-align: right;\n",
       "    }\n",
       "</style>\n",
       "<table border=\"1\" class=\"dataframe\">\n",
       "  <thead>\n",
       "    <tr style=\"text-align: right;\">\n",
       "      <th></th>\n",
       "      <th>station</th>\n",
       "      <th>value</th>\n",
       "      <th>median</th>\n",
       "      <th>date</th>\n",
       "    </tr>\n",
       "  </thead>\n",
       "  <tbody>\n",
       "    <tr>\n",
       "      <th>0</th>\n",
       "      <td>308:AZ:SNTL</td>\n",
       "      <td>5.8</td>\n",
       "      <td>0.0</td>\n",
       "      <td>2024-03-26</td>\n",
       "    </tr>\n",
       "    <tr>\n",
       "      <th>1</th>\n",
       "      <td>1140:AZ:SNTL</td>\n",
       "      <td>19.4</td>\n",
       "      <td>11.7</td>\n",
       "      <td>2024-03-26</td>\n",
       "    </tr>\n",
       "    <tr>\n",
       "      <th>2</th>\n",
       "      <td>310:AZ:SNTL</td>\n",
       "      <td>6.6</td>\n",
       "      <td>2.2</td>\n",
       "      <td>2024-03-26</td>\n",
       "    </tr>\n",
       "    <tr>\n",
       "      <th>3</th>\n",
       "      <td>1212:AZ:SNTL</td>\n",
       "      <td>1.0</td>\n",
       "      <td>NaN</td>\n",
       "      <td>2024-03-26</td>\n",
       "    </tr>\n",
       "    <tr>\n",
       "      <th>4</th>\n",
       "      <td>902:AZ:SNTL</td>\n",
       "      <td>0.4</td>\n",
       "      <td>0.0</td>\n",
       "      <td>2024-03-26</td>\n",
       "    </tr>\n",
       "    <tr>\n",
       "      <th>...</th>\n",
       "      <td>...</td>\n",
       "      <td>...</td>\n",
       "      <td>...</td>\n",
       "      <td>...</td>\n",
       "    </tr>\n",
       "    <tr>\n",
       "      <th>850</th>\n",
       "      <td>1164:UT:SNTL</td>\n",
       "      <td>19.4</td>\n",
       "      <td>NaN</td>\n",
       "      <td>2024-03-26</td>\n",
       "    </tr>\n",
       "    <tr>\n",
       "      <th>851</th>\n",
       "      <td>1228:UT:SNTL</td>\n",
       "      <td>11.5</td>\n",
       "      <td>NaN</td>\n",
       "      <td>2024-03-26</td>\n",
       "    </tr>\n",
       "    <tr>\n",
       "      <th>852</th>\n",
       "      <td>1197:UT:SNTL</td>\n",
       "      <td>12.2</td>\n",
       "      <td>NaN</td>\n",
       "      <td>2024-03-26</td>\n",
       "    </tr>\n",
       "    <tr>\n",
       "      <th>853</th>\n",
       "      <td>354:SD:SNTL</td>\n",
       "      <td>0.2</td>\n",
       "      <td>6.8</td>\n",
       "      <td>2024-03-26</td>\n",
       "    </tr>\n",
       "    <tr>\n",
       "      <th>854</th>\n",
       "      <td>920:SD:SNTL</td>\n",
       "      <td>5.1</td>\n",
       "      <td>6.6</td>\n",
       "      <td>2024-03-26</td>\n",
       "    </tr>\n",
       "  </tbody>\n",
       "</table>\n",
       "<p>855 rows × 4 columns</p>\n",
       "</div>"
      ],
      "text/plain": [
       "          station  value  median        date\n",
       "0     308:AZ:SNTL    5.8     0.0  2024-03-26\n",
       "1    1140:AZ:SNTL   19.4    11.7  2024-03-26\n",
       "2     310:AZ:SNTL    6.6     2.2  2024-03-26\n",
       "3    1212:AZ:SNTL    1.0     NaN  2024-03-26\n",
       "4     902:AZ:SNTL    0.4     0.0  2024-03-26\n",
       "..            ...    ...     ...         ...\n",
       "850  1164:UT:SNTL   19.4     NaN  2024-03-26\n",
       "851  1228:UT:SNTL   11.5     NaN  2024-03-26\n",
       "852  1197:UT:SNTL   12.2     NaN  2024-03-26\n",
       "853   354:SD:SNTL    0.2     6.8  2024-03-26\n",
       "854   920:SD:SNTL    5.1     6.6  2024-03-26\n",
       "\n",
       "[855 rows x 4 columns]"
      ]
     },
     "execution_count": 23,
     "metadata": {},
     "output_type": "execute_result"
    }
   ],
   "source": [
    "df"
   ]
  },
  {
   "cell_type": "code",
   "execution_count": 24,
   "id": "70509677",
   "metadata": {},
   "outputs": [],
   "source": [
    "data_df = sedona.createDataFrame(df)"
   ]
  },
  {
   "cell_type": "code",
   "execution_count": 25,
   "id": "14a58d50",
   "metadata": {},
   "outputs": [
    {
     "name": "stdout",
     "output_type": "stream",
     "text": [
      "+------------+-----+------+----------+\n",
      "|     station|value|median|      date|\n",
      "+------------+-----+------+----------+\n",
      "| 308:AZ:SNTL|  5.8|   0.0|2024-03-26|\n",
      "|1140:AZ:SNTL| 19.4|  11.7|2024-03-26|\n",
      "| 310:AZ:SNTL|  6.6|   2.2|2024-03-26|\n",
      "|1212:AZ:SNTL|  1.0|   NaN|2024-03-26|\n",
      "| 902:AZ:SNTL|  0.4|   0.0|2024-03-26|\n",
      "|1143:AZ:SNTL| 12.3|   3.7|2024-03-26|\n",
      "|1139:AZ:SNTL|  0.7|   0.0|2024-03-26|\n",
      "| 416:AZ:SNTL|  1.4|   0.0|2024-03-26|\n",
      "|1121:AZ:SNTL|  0.9|   0.0|2024-03-26|\n",
      "| 488:AZ:SNTL|  6.1|   0.0|2024-03-26|\n",
      "| 511:AZ:SNTL| 11.7|   5.0|2024-03-26|\n",
      "| 969:AZ:SNTL|  8.6|   2.1|2024-03-26|\n",
      "|1271:AZ:SNTL| 17.2|   NaN|2024-03-26|\n",
      "| 519:AZ:SNTL|  2.2|   0.0|2024-03-26|\n",
      "| 617:AZ:SNTL|  7.9|   4.2|2024-03-26|\n",
      "| 640:AZ:SNTL|  4.4|   0.4|2024-03-26|\n",
      "|1125:AZ:SNTL| 10.7|   7.2|2024-03-26|\n",
      "|1127:AZ:SNTL|  0.8|   0.0|2024-03-26|\n",
      "| 705:AZ:SNTL|  7.4|   3.9|2024-03-26|\n",
      "| 927:AZ:SNTL| 22.2|  14.4|2024-03-26|\n",
      "+------------+-----+------+----------+\n",
      "only showing top 20 rows\n",
      "\n"
     ]
    }
   ],
   "source": [
    "data_df.show()"
   ]
  },
  {
   "cell_type": "code",
   "execution_count": 26,
   "id": "92a06d11-d327-4db2-8ff3-6d6d8567644d",
   "metadata": {},
   "outputs": [],
   "source": [
    "data_df.createOrReplaceTempView('snotel_data')"
   ]
  },
  {
   "cell_type": "code",
   "execution_count": 27,
   "id": "65cd8361-af10-4b7b-ab7a-8d4373cc6a48",
   "metadata": {},
   "outputs": [],
   "source": [
    "## Join Daily Observations \n",
    "\n",
    "\n",
    "snotel_data_df = sedona.sql(\"\"\"\n",
    "SELECT *, (value / median) AS pct_median\n",
    "FROM stations\n",
    "JOIN snotel_data \n",
    "WHERE snotel_data.station = stations.stationTriplet\n",
    "\"\"\")"
   ]
  },
  {
   "cell_type": "code",
   "execution_count": 28,
   "id": "e5d7bdfc-f1e3-4982-9d71-dad3b40f6660",
   "metadata": {},
   "outputs": [],
   "source": [
    "snotel_data_df.createOrReplaceTempView(\"snotel_data\")"
   ]
  },
  {
   "cell_type": "code",
   "execution_count": 29,
   "id": "b97eedba-3ca6-42cb-8749-84c66a77b0fb",
   "metadata": {},
   "outputs": [
    {
     "name": "stderr",
     "output_type": "stream",
     "text": [
      "                                                                                \r"
     ]
    },
    {
     "data": {
      "text/plain": [
       "855"
      ]
     },
     "execution_count": 29,
     "metadata": {},
     "output_type": "execute_result"
    }
   ],
   "source": [
    "snotel_data_df.count()"
   ]
  },
  {
   "cell_type": "code",
   "execution_count": 30,
   "id": "d954dd05-4135-43e2-a926-0e92ecbcfcee",
   "metadata": {},
   "outputs": [
    {
     "name": "stderr",
     "output_type": "stream",
     "text": [
      "                                                                                \r"
     ]
    },
    {
     "name": "stdout",
     "output_type": "stream",
     "text": [
      "+--------------+---------+---------+-----------+-------------------+-------+----------+------------+---------+--------+----------+------------+---------+------+--------------------+--------------------+--------------------+------------+-----+------+----------+------------------+\n",
      "|stationTriplet|stationId|stateCode|networkCode|               name|dcoCode|countyName|         huc|elevation|latitude| longitude|dataTimeZone|pedonCode|shefId|           beginDate|             endDate|            geometry|     station|value|median|      date|        pct_median|\n",
      "+--------------+---------+---------+-----------+-------------------+-------+----------+------------+---------+--------+----------+------------+---------+------+--------------------+--------------------+--------------------+------------+-----+------+----------+------------------+\n",
      "|   732:WY:SNTL|      732|       WY|       SNTL|       Sandstone RS|     CO|    Carbon|140500030208|   8152.0|41.11179|-107.17043|        -8.0|      NaN| SRSW4|1984-10-01 00:00:...|2100-01-01 00:00:...|POINT (-107.17043...| 732:WY:SNTL| 17.7|  12.2|2024-03-26|1.4508196721311475|\n",
      "|   616:WY:SNTL|      616|       WY|       SNTL|          Marquette|     MT|      Park|100800130303|   8760.0| 44.3016|-109.24019|        -8.0|      NaN| MRQW4|1979-10-01 00:00:...|2100-01-01 00:00:...|POINT (-109.24019...| 616:WY:SNTL| 11.5|   6.6|2024-03-26|1.7424242424242424|\n",
      "|   826:WY:SNTL|      826|       WY|       SNTL|     Townsend Creek|     MT|   Fremont|100800030203|   8700.0|42.69525|-108.89572|        -8.0|    52447| TWNW4|1979-10-01 00:00:...|2100-01-01 00:00:...|POINT (-108.89572...| 826:WY:SNTL|  9.5|   8.2|2024-03-26|1.1585365853658538|\n",
      "|   807:WY:SNTL|      807|       WY|       SNTL|        Sylvan Road|     MT|      Park|100800120103|   7120.0|44.47825|-110.03808|        -8.0|      NaN| SYRW4|1986-10-01 00:00:...|2100-01-01 00:00:...|POINT (-110.03808...| 807:WY:SNTL|  7.5|  11.2|2024-03-26|0.6696428571428572|\n",
      "|   730:WY:SNTL|      730|       WY|       SNTL|  Salt River Summit|     ID|   Lincoln|170401050101|   7640.0| 42.5075| -110.9099|        -8.0|    55508| SLTW4|1959-10-01 00:00:...|2100-01-01 00:00:...|POINT (-110.9099 ...| 730:WY:SNTL| 15.0|  12.9|2024-03-26|1.1627906976744187|\n",
      "|  1132:WY:SNTL|     1132|       WY|       SNTL|       Soldier Park|     MT|   Johnson|100902060103|   8720.0|44.34847| -107.0136|        -8.0|    52449| SLDW4|2010-08-06 00:00:...|2100-01-01 00:00:...|POINT (-107.0136 ...|1132:WY:SNTL|  3.6|   6.4|2024-03-26|            0.5625|\n",
      "|   859:WY:SNTL|      859|       WY|       SNTL|       Whiskey Park|     CO|    Carbon|140500030102|   9020.0|41.00368|-106.90795|        -8.0|      NaN| WPKW4|1985-10-01 00:00:...|2100-01-01 00:00:...|POINT (-106.90795...| 859:WY:SNTL| 29.6|  24.9|2024-03-26|1.1887550200803214|\n",
      "|  1134:WY:SNTL|     1134|       WY|       SNTL|       Larsen Creek|     ID|  Sublette|101800060101|   9000.0| 42.5801| -109.0883|        -8.0|    59432| LCRW4|2010-08-04 00:00:...|2100-01-01 00:00:...|POINT (-109.0883 ...|1134:WY:SNTL|  8.0|  10.6|2024-03-26|0.7547169811320755|\n",
      "|   373:NV:SNTL|      373|       NV|       SNTL|     Buckskin Lower|     UT|  Humboldt|160401090502|   6930.0|41.75067|-117.53182|        -8.0|      NaN| BKLN2|1980-10-01 00:00:...|2100-01-01 00:00:...|POINT (-117.53182...| 373:NV:SNTL| 12.2|   9.2|2024-03-26|1.3260869565217392|\n",
      "|   577:WY:SNTL|      577|       WY|       SNTL|  Lewis Lake Divide|     ID|     Teton|170401010104|   7850.0|44.20862|-110.66628|        -8.0|    71939| LWSW4|1963-09-01 00:00:...|2100-01-01 00:00:...|POINT (-110.66628...| 577:WY:SNTL| 29.7|  29.4|2024-03-26|1.0102040816326532|\n",
      "|   868:WY:SNTL|      868|       WY|       SNTL|       Willow Creek|     ID|   Lincoln|170401050204|   8080.0|42.81513|-110.83515|        -8.0|      NaN| WILW4|1979-10-01 00:00:...|2100-01-01 00:00:...|POINT (-110.83515...| 868:WY:SNTL| 32.1|  28.4|2024-03-26|1.1302816901408452|\n",
      "|  1243:NV:SNTL|     1243|       NV|       SNTL|          Dry Creek|     UT|      Elko|160401010601|   6555.0| 40.8638|-115.22014|        -8.0|      NaN| DRKN2|2013-10-01 00:00:...|2100-01-01 00:00:...|POINT (-115.22014...|1243:NV:SNTL|  7.8|   NaN|2024-03-26|               NaN|\n",
      "|   544:WY:SNTL|      544|       WY|       SNTL|       Indian Creek|     ID|   Lincoln|140401070502|   9425.0|42.30023|-110.67753|        -8.0|      NaN| INCW4|1979-10-01 00:00:...|2100-01-01 00:00:...|POINT (-110.67753...| 544:WY:SNTL| 21.5|  22.2|2024-03-26|0.9684684684684685|\n",
      "|   571:WY:SNTL|      571|       WY|       SNTL|      Laprele Creek|     CO|  Converse|101800071201|   8390.0|42.43566|-105.86051|        -8.0|      NaN| LPPW4|1978-10-01 00:00:...|2100-01-01 00:00:...|POINT (-105.86051...| 571:WY:SNTL|  6.8|   9.1|2024-03-26|0.7472527472527473|\n",
      "|   625:WY:SNTL|      625|       WY|       SNTL|      Middle Powder|     MT|  Washakie|100800080205|   7760.0|43.62728|-107.18138|        -8.0|      NaN| MDDW4|1978-10-01 00:00:...|2100-01-01 00:00:...|POINT (-107.18138...| 625:WY:SNTL|  5.2|   9.8|2024-03-26|0.5306122448979592|\n",
      "|   321:NV:SNTL|      321|       NV|       SNTL|         Bear Creek|     ID|      Elko|170501020301|   8040.0|41.83384|-115.45278|        -8.0|      NaN| BERN2|1976-03-01 00:00:...|2100-01-01 00:00:...|POINT (-115.45278...| 321:NV:SNTL| 22.4|  17.6|2024-03-26|1.2727272727272725|\n",
      "|   764:WY:SNTL|      764|       WY|       SNTL|Snake River Station|     ID|     Teton|170401010402|   6920.0|44.13361|-110.66917|        -8.0|    55510| SKRW4|1989-10-01 00:00:...|2100-01-01 00:00:...|POINT (-110.66917...| 764:WY:SNTL| 15.6|  16.6|2024-03-26|0.9397590361445782|\n",
      "|   689:WY:SNTL|      689|       WY|       SNTL|     Phillips Bench|     ID|     Teton|170401030504|   8200.0|43.51687|-110.91258|        -8.0|      NaN| PHBW4|1976-03-01 00:00:...|2100-01-01 00:00:...|POINT (-110.91258...| 689:WY:SNTL| 23.3|  25.2|2024-03-26|0.9246031746031746|\n",
      "|   337:NV:SNTL|      337|       NV|       SNTL|      Big Creek Sum|     UT|    Lander|160401070303|   8685.0|39.29148|-117.11506|        -8.0|      NaN| BCSN2|1980-10-01 00:00:...|2100-01-01 00:00:...|POINT (-117.11506...| 337:NV:SNTL| 18.8|  15.9|2024-03-26|1.1823899371069182|\n",
      "|   417:NV:SNTL|      417|       NV|       SNTL|      Corral Canyon|     UT|      Elko|160401030401|   8445.0|40.27551|-115.54017|        -8.0|      NaN| COLN2|1978-10-01 00:00:...|2100-01-01 00:00:...|POINT (-115.54017...| 417:NV:SNTL| 19.7|  14.6|2024-03-26|1.3493150684931507|\n",
      "+--------------+---------+---------+-----------+-------------------+-------+----------+------------+---------+--------+----------+------------+---------+------+--------------------+--------------------+--------------------+------------+-----+------+----------+------------------+\n",
      "only showing top 20 rows\n",
      "\n"
     ]
    }
   ],
   "source": [
    "snotel_data_df.show()"
   ]
  },
  {
   "cell_type": "code",
   "execution_count": 59,
   "id": "ec833760-f565-43f0-9a68-29e00f0cb7f6",
   "metadata": {},
   "outputs": [
    {
     "name": "stdout",
     "output_type": "stream",
     "text": [
      "User Guide: https://docs.kepler.gl/docs/keplergl-jupyter\n"
     ]
    },
    {
     "name": "stderr",
     "output_type": "stream",
     "text": [
      "/opt/conda/lib/python3.10/site-packages/jupyter_client/session.py:719: UserWarning: Message serialization failed with:\n",
      "Out of range float values are not JSON compliant\n",
      "Supporting this message is deprecated in jupyter-client 7, please make sure your message is JSON-compliant\n",
      "  content = self.pack(content)\n"
     ]
    },
    {
     "data": {
      "application/vnd.jupyter.widget-view+json": {
       "model_id": "442c50b39bb542268dc5e0859db23cf4",
       "version_major": 2,
       "version_minor": 0
      },
      "text/plain": [
       "KeplerGl(data={'SNOTEL data': {'index': [0, 1, 2, 3, 4, 5, 6, 7, 8, 9, 10, 11, 12, 13, 14, 15, 16, 17, 18, 19,…"
      ]
     },
     "metadata": {},
     "output_type": "display_data"
    }
   ],
   "source": [
    "SedonaKepler.create_map(snotel_data_df, name=\"SNOTEL data\")"
   ]
  },
  {
   "cell_type": "markdown",
   "id": "b62c1cb5-b267-40f1-9678-b24c0d550f55",
   "metadata": {},
   "source": [
    "## Watershed - Spatial Join"
   ]
  },
  {
   "cell_type": "code",
   "execution_count": 32,
   "id": "b6d51172-b454-4d87-9809-d0e2f47c8c4d",
   "metadata": {},
   "outputs": [],
   "source": [
    "# TODO: load geojson, spatial join, calculate "
   ]
  },
  {
   "cell_type": "code",
   "execution_count": 33,
   "id": "cd18ec15-2e70-415b-af66-c239962677f8",
   "metadata": {},
   "outputs": [],
   "source": [
    "WATERSHED_URI = \"s3://wherobots-examples/data/examples/usgs/watershed_boundaries_huc6.geojson\""
   ]
  },
  {
   "cell_type": "code",
   "execution_count": 34,
   "id": "c386bad8-9aa2-49a6-a080-afef75e09d2e",
   "metadata": {},
   "outputs": [
    {
     "name": "stderr",
     "output_type": "stream",
     "text": [
      "                                                                                \r"
     ]
    }
   ],
   "source": [
    "watershed_df = sedona.read.format(\"geojson\").option(\"multiLine\", \"true\").load(WATERSHED_URI).selectExpr(\"explode(features) AS features\").select(\"features.*\").withColumn(\"huc6\", expr(\"properties['huc6']\")).withColumn(\"name\", expr(\"properties['name']\")).withColumn(\"states\", expr(\"properties['states']\")).drop(\"properties\").drop(\"type\")"
   ]
  },
  {
   "cell_type": "code",
   "execution_count": 35,
   "id": "776e44a4-c0a8-4a2d-bf50-6515e0cd7a21",
   "metadata": {},
   "outputs": [
    {
     "name": "stderr",
     "output_type": "stream",
     "text": [
      "                                                                                \r"
     ]
    },
    {
     "name": "stdout",
     "output_type": "stream",
     "text": [
      "+--------------------+------+--------------------+--------+\n",
      "|            geometry|  huc6|                name|  states|\n",
      "+--------------------+------+--------------------+--------+\n",
      "|MULTIPOLYGON (((-...|050902|Middle Ohio-Littl...|IN,KY,OH|\n",
      "|MULTIPOLYGON (((-...|030201|             Pamlico|      NC|\n",
      "|MULTIPOLYGON (((-...|031501|    Coosa-Tallapoosa|AL,GA,TN|\n",
      "|MULTIPOLYGON (((-...|050800|         Great Miami|   IN,OH|\n",
      "|MULTIPOLYGON (((-...|051201|              Wabash|IL,IN,OH|\n",
      "|MULTIPOLYGON (((-...|031403|            Escambia|   AL,FL|\n",
      "|MULTIPOLYGON (((-...|051202|        Patoka-White|      IN|\n",
      "|MULTIPOLYGON (((-...|111402|          Red-Saline|AR,LA,TX|\n",
      "|MULTIPOLYGON (((-...|080702|       Lake Maurepas|   LA,MS|\n",
      "|MULTIPOLYGON (((-...|080902|  Lake Pontchartrain|   LA,MS|\n",
      "|MULTIPOLYGON (((-...|120402|Galveston Bay-Sab...|   LA,TX|\n",
      "|MULTIPOLYGON (((-...|121004|Central Texas Coa...|      TX|\n",
      "|MULTIPOLYGON (((-...|010600|                Saco|MA,ME,NH|\n",
      "|MULTIPOLYGON (((-...|140200|            Gunnison|      CO|\n",
      "|MULTIPOLYGON (((-...|051402|          Lower Ohio|IL,IN,KY|\n",
      "|MULTIPOLYGON (((-...|051401|     Lower Ohio-Salt|   IN,KY|\n",
      "|MULTIPOLYGON (((-...|080302|               Yazoo|LA,MS,TN|\n",
      "|MULTIPOLYGON (((-...|090100|              Souris|   CN,ND|\n",
      "|MULTIPOLYGON (((-...|031800|               Pearl|   LA,MS|\n",
      "|MULTIPOLYGON (((-...|080703|         Lower Grand|      LA|\n",
      "+--------------------+------+--------------------+--------+\n",
      "only showing top 20 rows\n",
      "\n"
     ]
    }
   ],
   "source": [
    "watershed_df.show()"
   ]
  },
  {
   "cell_type": "code",
   "execution_count": 36,
   "id": "ab9233ae-64bc-4c4e-96c5-2886bdaadaa7",
   "metadata": {},
   "outputs": [
    {
     "name": "stdout",
     "output_type": "stream",
     "text": [
      "root\n",
      " |-- geometry: geometry (nullable = true)\n",
      " |-- huc6: string (nullable = true)\n",
      " |-- name: string (nullable = true)\n",
      " |-- states: string (nullable = true)\n",
      "\n"
     ]
    }
   ],
   "source": [
    "watershed_df.printSchema()"
   ]
  },
  {
   "cell_type": "code",
   "execution_count": 37,
   "id": "91171695-6e71-4307-99f6-61a30a24e8a2",
   "metadata": {},
   "outputs": [],
   "source": [
    "watershed_df.createOrReplaceTempView(\"watersheds\")"
   ]
  },
  {
   "cell_type": "code",
   "execution_count": null,
   "id": "18dbc8b8-58df-40e7-a087-3737dc03f125",
   "metadata": {},
   "outputs": [],
   "source": []
  },
  {
   "cell_type": "markdown",
   "id": "c036af3c-349c-4100-ad98-64d8cc2ee550",
   "metadata": {},
   "source": [
    "### Spatial Join - SNOTEL data to Watersheds"
   ]
  },
  {
   "cell_type": "code",
   "execution_count": 45,
   "id": "1f32bbca-7c1d-454f-a4f4-55ba40a5fc8f",
   "metadata": {},
   "outputs": [],
   "source": [
    "snotel_sheds_df = sedona.sql(\"\"\"\n",
    "SELECT any_value(watersheds.name) AS name, any_value(states) AS states, any_value(watersheds.geometry) AS geometry, avg(pct_median) AS pct_median, cast(any_value(date) as date) AS date\n",
    "FROM watersheds, snotel_data\n",
    "WHERE ST_Contains(watersheds.geometry, snotel_data.geometry) AND snotel_data.pct_median IS NOT null AND NOT isnan(pct_median)\n",
    "GROUP BY huc6\n",
    "\"\"\")"
   ]
  },
  {
   "cell_type": "code",
   "execution_count": 46,
   "id": "f2a68ca9-5d0d-44e5-ae9a-53f22708f372",
   "metadata": {},
   "outputs": [
    {
     "name": "stderr",
     "output_type": "stream",
     "text": [
      "                                                                                \r"
     ]
    },
    {
     "name": "stdout",
     "output_type": "stream",
     "text": [
      "+--------------------+--------+--------------------+------------------+----------+\n",
      "|                name|  states|            geometry|        pct_median|      date|\n",
      "+--------------------+--------+--------------------+------------------+----------+\n",
      "|         Musselshell|      MT|MULTIPOLYGON (((-...|0.7634408602150536|2024-03-26|\n",
      "|      Upper Arkansas|CO,KS,NM|MULTIPOLYGON (((-...|1.4231765640047376|2024-03-26|\n",
      "|      Upper San Juan|AZ,CO,NM|MULTIPOLYGON (((-...|10.034949087541728|2024-03-26|\n",
      "|     Little Colorado|   AZ,NM|MULTIPOLYGON (((-...|3.7850427350427345|2024-03-26|\n",
      "|            Knik Arm|      AK|MULTIPOLYGON (((-...|1.2429124016080537|2024-03-26|\n",
      "| Missouri Headwaters|ID,MT,WY|MULTIPOLYGON (((-...|0.8123762185493943|2024-03-26|\n",
      "|        North Platte|CO,NE,WY|MULTIPOLYGON (((-...|0.9679540180633677|2024-03-26|\n",
      "|        South Platte|CO,NE,WY|MULTIPOLYGON (((-...|1.2160896318379228|2024-03-26|\n",
      "|Rio Grande Headwa...|   CO,NM|MULTIPOLYGON (((-...|1.2062122880581183|2024-03-26|\n",
      "|               Verde|      AZ|MULTIPOLYGON (((-...|2.8766788766788762|2024-03-26|\n",
      "|          Upper Bear|ID,UT,WY|MULTIPOLYGON (((-...|1.3316176470588235|2024-03-26|\n",
      "|             Truckee|   CA,NV|MULTIPOLYGON (((-...|1.1249121966617743|2024-03-26|\n",
      "|Central Nevada De...|   CA,NV|MULTIPOLYGON (((-...|1.7691282832127904|2024-03-26|\n",
      "|            Kootenai|CN,ID,MT|MULTIPOLYGON (((-...|0.7380167592370195|2024-03-26|\n",
      "|       Koyukuk River|      AK|MULTIPOLYGON (((-...|1.0161290322580645|2024-03-26|\n",
      "|              Jordan|      UT|MULTIPOLYGON (((-...|1.2843370614034564|2024-03-26|\n",
      "|              Carson|   CA,NV|MULTIPOLYGON (((-...|0.8904548698721629|2024-03-26|\n",
      "|           Deschutes|      OR|MULTIPOLYGON (((-...| 1.100398798599606|2024-03-26|\n",
      "|      Lower Columbia|   OR,WA|MULTIPOLYGON (((-...|0.8084072686905978|2024-03-26|\n",
      "|          Lower Bear|   ID,UT|MULTIPOLYGON (((-...|1.2935811667311496|2024-03-26|\n",
      "+--------------------+--------+--------------------+------------------+----------+\n",
      "only showing top 20 rows\n",
      "\n"
     ]
    }
   ],
   "source": [
    "snotel_sheds_df.show()"
   ]
  },
  {
   "cell_type": "code",
   "execution_count": 47,
   "id": "3fc4fd8d-98bc-4326-bc46-a39547c813e4",
   "metadata": {},
   "outputs": [
    {
     "name": "stdout",
     "output_type": "stream",
     "text": [
      "root\n",
      " |-- name: string (nullable = true)\n",
      " |-- states: string (nullable = true)\n",
      " |-- geometry: geometry (nullable = true)\n",
      " |-- pct_median: double (nullable = true)\n",
      " |-- date: date (nullable = true)\n",
      "\n"
     ]
    }
   ],
   "source": [
    "snotel_sheds_df.printSchema()"
   ]
  },
  {
   "cell_type": "code",
   "execution_count": 43,
   "id": "6e5d3b0d-9706-4ca4-b754-c1671e47c614",
   "metadata": {},
   "outputs": [
    {
     "name": "stdout",
     "output_type": "stream",
     "text": [
      "User Guide: https://docs.kepler.gl/docs/keplergl-jupyter\n"
     ]
    },
    {
     "name": "stderr",
     "output_type": "stream",
     "text": [
      "                                                                                \r"
     ]
    },
    {
     "data": {
      "application/vnd.jupyter.widget-view+json": {
       "model_id": "d77e9b8b142b4d9f825509455ed5f9b2",
       "version_major": 2,
       "version_minor": 0
      },
      "text/plain": [
       "KeplerGl(data={'unnamed': {'index': [0, 1, 2, 3, 4, 5, 6, 7, 8, 9, 10, 11, 12, 13, 14, 15, 16, 17, 18, 19, 20,…"
      ]
     },
     "metadata": {},
     "output_type": "display_data"
    }
   ],
   "source": [
    "SedonaKepler.create_map(snotel_sheds_df)"
   ]
  },
  {
   "cell_type": "code",
   "execution_count": null,
   "id": "ee5c7fdb-b96e-4659-8ec0-eef5c17f8612",
   "metadata": {},
   "outputs": [],
   "source": []
  },
  {
   "cell_type": "markdown",
   "id": "bf7d119d-46fc-432e-b915-eaece9dafd23",
   "metadata": {},
   "source": [
    "## Export Data\n",
    "\n",
    "* write to geoparquet, write to havasu table"
   ]
  },
  {
   "cell_type": "code",
   "execution_count": 62,
   "id": "4b1d4ee6-0eec-43b5-9f8a-93f56fb843c6",
   "metadata": {},
   "outputs": [],
   "source": [
    "USER_S3_PATH = os.environ.get(\"USER_S3_PATH\")"
   ]
  },
  {
   "cell_type": "code",
   "execution_count": null,
   "id": "e6ee0558-350f-4266-9515-86ce56aeba9e",
   "metadata": {},
   "outputs": [],
   "source": []
  },
  {
   "cell_type": "code",
   "execution_count": null,
   "id": "aee18831-7c3a-40ac-ada2-c529b13aa965",
   "metadata": {},
   "outputs": [],
   "source": []
  },
  {
   "cell_type": "code",
   "execution_count": null,
   "id": "cae0f334-095b-4d8c-b0de-6a286aa09c29",
   "metadata": {},
   "outputs": [],
   "source": []
  },
  {
   "cell_type": "code",
   "execution_count": 64,
   "id": "343c8cbe-ee8a-4a45-a2d2-6ac339a86441",
   "metadata": {},
   "outputs": [
    {
     "name": "stderr",
     "output_type": "stream",
     "text": [
      "                                                                                \r"
     ]
    }
   ],
   "source": [
    "snotel_sheds_df.repartition(1).write.mode(\"overwrite\").format(\"geoparquet\").save(USER_S3_PATH + \"snotelsheds/snotel.parquet\")"
   ]
  },
  {
   "cell_type": "code",
   "execution_count": 66,
   "id": "2d9b9a2f-a2b4-4244-9ae6-6c7ccb51316e",
   "metadata": {},
   "outputs": [
    {
     "name": "stderr",
     "output_type": "stream",
     "text": [
      "SLF4J: Failed to load class \"org.slf4j.impl.StaticLoggerBinder\".                \n",
      "SLF4J: Defaulting to no-operation (NOP) logger implementation\n",
      "SLF4J: See http://www.slf4j.org/codes.html#StaticLoggerBinder for further details.\n"
     ]
    }
   ],
   "source": [
    "sedona.sql(\"CREATE NAMESPACE IF NOT EXISTS wherobots.watersheds\")\n",
    "sedona.sql(\"DROP TABLE IF EXISTS wherobots.watersheds.snotelsheds\")\n",
    "snotel_sheds_df.writeTo(\"wherobots.watersheds.snotelsheds\").create()"
   ]
  },
  {
   "cell_type": "code",
   "execution_count": null,
   "id": "720a1626-4d19-45b6-831e-f16bea34b52b",
   "metadata": {},
   "outputs": [],
   "source": []
  }
 ],
 "metadata": {
  "kernelspec": {
   "display_name": "Python 3 (ipykernel)",
   "language": "python",
   "name": "python3"
  },
  "language_info": {
   "codemirror_mode": {
    "name": "ipython",
    "version": 3
   },
   "file_extension": ".py",
   "mimetype": "text/x-python",
   "name": "python",
   "nbconvert_exporter": "python",
   "pygments_lexer": "ipython3",
   "version": "3.10.11"
  }
 },
 "nbformat": 4,
 "nbformat_minor": 5
}
