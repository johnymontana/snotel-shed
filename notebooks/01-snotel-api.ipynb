{
 "cells": [
  {
   "cell_type": "markdown",
   "id": "5a51ec57",
   "metadata": {},
   "source": [
    "## SNOTEL"
   ]
  },
  {
   "cell_type": "code",
   "execution_count": 1,
   "id": "c50c7691",
   "metadata": {},
   "outputs": [],
   "source": [
    "import json\n",
    "import requests\n",
    "import pandas as pd\n",
    "import geopandas as gpd\n",
    "from sedona.spark import *\n",
    "from pyspark.sql.functions import expr"
   ]
  },
  {
   "cell_type": "markdown",
   "id": "46e99dbb-4104-4a64-820b-8b7818eb598b",
   "metadata": {},
   "source": [
    "## Sedona Setup"
   ]
  },
  {
   "cell_type": "code",
   "execution_count": 2,
   "id": "f465fd2b-caae-4be3-b669-98e499b010df",
   "metadata": {},
   "outputs": [
    {
     "name": "stderr",
     "output_type": "stream",
     "text": [
      "Warning: Ignoring non-Spark config property: fs.s3a.aws.credentials.provider\n",
      "24/03/28 20:22:37 WARN NativeCodeLoader: Unable to load native-hadoop library for your platform... using builtin-java classes where applicable\n",
      "Setting default log level to \"WARN\".\n",
      "To adjust logging level use sc.setLogLevel(newLevel). For SparkR, use setLogLevel(newLevel).\n",
      "24/03/28 20:22:40 WARN MetricsConfig: Cannot locate configuration: tried hadoop-metrics2-s3a-file-system.properties,hadoop-metrics2.properties\n",
      "24/03/28 20:22:41 WARN S3ABlockOutputStream: Application invoked the Syncable API against stream writing to qjnq6fcbf1/spark-logs/spark-07269197f47b435a90df227d70965071.inprogress. This is unsupported\n",
      "24/03/28 20:23:03 WARN SedonaContext: Python files are not set. Sedona will not pre-load Python UDFs.\n"
     ]
    }
   ],
   "source": [
    "config = SedonaContext.builder().\\\n",
    "    config(\"spark.hadoop.fs.s3a.bucket.wherobots-examples.aws.credentials.provider\",\"org.apache.hadoop.fs.s3a.AnonymousAWSCredentialsProvider\"). \\\n",
    "    getOrCreate()\n",
    "\n",
    "sedona = SedonaContext.create(config)"
   ]
  },
  {
   "cell_type": "code",
   "execution_count": null,
   "id": "c6a2d8cc-2752-4a09-9373-697896ed8dd8",
   "metadata": {},
   "outputs": [],
   "source": []
  },
  {
   "cell_type": "markdown",
   "id": "8cfcb531-94e5-4157-bfc1-ecb3dfac5a32",
   "metadata": {},
   "source": [
    "## SNOTEL Rest API"
   ]
  },
  {
   "cell_type": "code",
   "execution_count": 3,
   "id": "5904fbe8",
   "metadata": {},
   "outputs": [],
   "source": [
    "baseurl = \"https://wcc.sc.egov.usda.gov/awdbRestApi/\""
   ]
  },
  {
   "cell_type": "markdown",
   "id": "45c06c51-7d65-43d3-88fc-34b2a651969e",
   "metadata": {},
   "source": [
    "## Stations\n",
    "\n",
    "parameters"
   ]
  },
  {
   "cell_type": "code",
   "execution_count": 4,
   "id": "54a827d2-14ba-4ee3-a43b-90b775442f26",
   "metadata": {},
   "outputs": [],
   "source": [
    "payload = {\n",
    "    'activeOnly': True,\n",
    "    'returnStationElements': False\n",
    "}"
   ]
  },
  {
   "cell_type": "code",
   "execution_count": 5,
   "id": "581ebbd9-1475-46fa-bbfe-f8e4df92cf1c",
   "metadata": {},
   "outputs": [],
   "source": [
    "r = requests.get(baseurl + 'services/v1/stations', params=payload)"
   ]
  },
  {
   "cell_type": "code",
   "execution_count": 6,
   "id": "ac389354-f52c-4142-82d7-a854ce0a1556",
   "metadata": {},
   "outputs": [],
   "source": [
    "stations = r.json()"
   ]
  },
  {
   "cell_type": "code",
   "execution_count": 7,
   "id": "0d6bae05-af7a-45e1-87bc-394a9490acb1",
   "metadata": {},
   "outputs": [
    {
     "data": {
      "text/plain": [
       "4363"
      ]
     },
     "execution_count": 7,
     "metadata": {},
     "output_type": "execute_result"
    }
   ],
   "source": [
    "len(stations)"
   ]
  },
  {
   "cell_type": "code",
   "execution_count": 8,
   "id": "f5f5aa3b-8284-4c66-b2e9-3cb203dee8f5",
   "metadata": {},
   "outputs": [],
   "source": [
    "df = pd.DataFrame(stations)"
   ]
  },
  {
   "cell_type": "code",
   "execution_count": 9,
   "id": "3c4c7b59-358c-49e8-bc39-157b7c3f9ac5",
   "metadata": {},
   "outputs": [],
   "source": [
    "gdf = gpd.GeoDataFrame(df, crs=\"EPSG:4326\", geometry=gpd.points_from_xy(df.longitude, df.latitude))"
   ]
  },
  {
   "cell_type": "code",
   "execution_count": 10,
   "id": "8339ed26-2ff8-4d3f-86fb-408fdebf4d06",
   "metadata": {},
   "outputs": [
    {
     "data": {
      "text/html": [
       "<div>\n",
       "<style scoped>\n",
       "    .dataframe tbody tr th:only-of-type {\n",
       "        vertical-align: middle;\n",
       "    }\n",
       "\n",
       "    .dataframe tbody tr th {\n",
       "        vertical-align: top;\n",
       "    }\n",
       "\n",
       "    .dataframe thead th {\n",
       "        text-align: right;\n",
       "    }\n",
       "</style>\n",
       "<table border=\"1\" class=\"dataframe\">\n",
       "  <thead>\n",
       "    <tr style=\"text-align: right;\">\n",
       "      <th></th>\n",
       "      <th>stationTriplet</th>\n",
       "      <th>stationId</th>\n",
       "      <th>stateCode</th>\n",
       "      <th>networkCode</th>\n",
       "      <th>name</th>\n",
       "      <th>dcoCode</th>\n",
       "      <th>countyName</th>\n",
       "      <th>huc</th>\n",
       "      <th>elevation</th>\n",
       "      <th>latitude</th>\n",
       "      <th>longitude</th>\n",
       "      <th>dataTimeZone</th>\n",
       "      <th>pedonCode</th>\n",
       "      <th>shefId</th>\n",
       "      <th>beginDate</th>\n",
       "      <th>endDate</th>\n",
       "      <th>geometry</th>\n",
       "    </tr>\n",
       "  </thead>\n",
       "  <tbody>\n",
       "    <tr>\n",
       "      <th>0</th>\n",
       "      <td>2057:AL:SCAN</td>\n",
       "      <td>2057</td>\n",
       "      <td>AL</td>\n",
       "      <td>SCAN</td>\n",
       "      <td>AAMU-JTG</td>\n",
       "      <td>GC</td>\n",
       "      <td>Madison</td>\n",
       "      <td>060300020403</td>\n",
       "      <td>860.0</td>\n",
       "      <td>34.78333</td>\n",
       "      <td>-86.55000</td>\n",
       "      <td>-6.0</td>\n",
       "      <td>27979</td>\n",
       "      <td>AAMA1</td>\n",
       "      <td>2002-02-23 00:00:00.0</td>\n",
       "      <td>2100-01-01 00:00:00.0</td>\n",
       "      <td>POINT (-86.55000 34.78333)</td>\n",
       "    </tr>\n",
       "    <tr>\n",
       "      <th>1</th>\n",
       "      <td>ABY:CA:SNOW</td>\n",
       "      <td>ABY</td>\n",
       "      <td>CA</td>\n",
       "      <td>SNOW</td>\n",
       "      <td>Abbey</td>\n",
       "      <td>UN</td>\n",
       "      <td>Plumas</td>\n",
       "      <td>180201220103</td>\n",
       "      <td>5650.0</td>\n",
       "      <td>39.95500</td>\n",
       "      <td>-120.53800</td>\n",
       "      <td>NaN</td>\n",
       "      <td>NaN</td>\n",
       "      <td>NaN</td>\n",
       "      <td>1963-02-01 00:00:00.0</td>\n",
       "      <td>2100-01-01 00:00:00.0</td>\n",
       "      <td>POINT (-120.53800 39.95500)</td>\n",
       "    </tr>\n",
       "    <tr>\n",
       "      <th>2</th>\n",
       "      <td>0010:ID:COOP</td>\n",
       "      <td>0010</td>\n",
       "      <td>ID</td>\n",
       "      <td>COOP</td>\n",
       "      <td>Aberdeen Experimnt Stn</td>\n",
       "      <td>ID</td>\n",
       "      <td>Bingham</td>\n",
       "      <td>170402060704</td>\n",
       "      <td>4410.0</td>\n",
       "      <td>42.95000</td>\n",
       "      <td>-112.83333</td>\n",
       "      <td>NaN</td>\n",
       "      <td>NaN</td>\n",
       "      <td>ABDI1</td>\n",
       "      <td>1914-01-01 00:00:00.0</td>\n",
       "      <td>2100-01-01 00:00:00.0</td>\n",
       "      <td>POINT (-112.83333 42.95000)</td>\n",
       "    </tr>\n",
       "    <tr>\n",
       "      <th>3</th>\n",
       "      <td>1F01A:BC:SNOW</td>\n",
       "      <td>1F01A</td>\n",
       "      <td>BC</td>\n",
       "      <td>SNOW</td>\n",
       "      <td>Aberdeen Lake</td>\n",
       "      <td>OR</td>\n",
       "      <td>UNKNOWN</td>\n",
       "      <td>NaN</td>\n",
       "      <td>4298.0</td>\n",
       "      <td>50.14733</td>\n",
       "      <td>-119.05340</td>\n",
       "      <td>NaN</td>\n",
       "      <td>NaN</td>\n",
       "      <td>ABLQ2</td>\n",
       "      <td>1939-04-01 00:00:00.0</td>\n",
       "      <td>2100-01-01 00:00:00.0</td>\n",
       "      <td>POINT (-119.05340 50.14733)</td>\n",
       "    </tr>\n",
       "    <tr>\n",
       "      <th>4</th>\n",
       "      <td>0041:NM:COOP</td>\n",
       "      <td>0041</td>\n",
       "      <td>NM</td>\n",
       "      <td>COOP</td>\n",
       "      <td>Abiquiu Dam</td>\n",
       "      <td>UN</td>\n",
       "      <td>Rio Arriba</td>\n",
       "      <td>130201021005</td>\n",
       "      <td>6380.0</td>\n",
       "      <td>36.23333</td>\n",
       "      <td>-106.43333</td>\n",
       "      <td>NaN</td>\n",
       "      <td>NaN</td>\n",
       "      <td>ABIN5</td>\n",
       "      <td>1957-01-01 00:00:00.0</td>\n",
       "      <td>2100-01-01 00:00:00.0</td>\n",
       "      <td>POINT (-106.43333 36.23333)</td>\n",
       "    </tr>\n",
       "    <tr>\n",
       "      <th>...</th>\n",
       "      <td>...</td>\n",
       "      <td>...</td>\n",
       "      <td>...</td>\n",
       "      <td>...</td>\n",
       "      <td>...</td>\n",
       "      <td>...</td>\n",
       "      <td>...</td>\n",
       "      <td>...</td>\n",
       "      <td>...</td>\n",
       "      <td>...</td>\n",
       "      <td>...</td>\n",
       "      <td>...</td>\n",
       "      <td>...</td>\n",
       "      <td>...</td>\n",
       "      <td>...</td>\n",
       "      <td>...</td>\n",
       "      <td>...</td>\n",
       "    </tr>\n",
       "    <tr>\n",
       "      <th>4358</th>\n",
       "      <td>YBP:CA:SNOW</td>\n",
       "      <td>YBP</td>\n",
       "      <td>CA</td>\n",
       "      <td>SNOW</td>\n",
       "      <td>Yuba Pass</td>\n",
       "      <td>UN</td>\n",
       "      <td>Sierra</td>\n",
       "      <td>180201250202</td>\n",
       "      <td>6700.0</td>\n",
       "      <td>39.61700</td>\n",
       "      <td>-120.49200</td>\n",
       "      <td>NaN</td>\n",
       "      <td>NaN</td>\n",
       "      <td>NaN</td>\n",
       "      <td>1937-03-01 00:00:00.0</td>\n",
       "      <td>2100-01-01 00:00:00.0</td>\n",
       "      <td>POINT (-120.49200 39.61700)</td>\n",
       "    </tr>\n",
       "    <tr>\n",
       "      <th>4359</th>\n",
       "      <td>15356000:AK:USGS</td>\n",
       "      <td>15356000</td>\n",
       "      <td>AK</td>\n",
       "      <td>USGS</td>\n",
       "      <td>Yukon R at Eagle</td>\n",
       "      <td>AK</td>\n",
       "      <td>Southeast Fairbanks</td>\n",
       "      <td>190705051301</td>\n",
       "      <td>850.0</td>\n",
       "      <td>64.78917</td>\n",
       "      <td>-141.20009</td>\n",
       "      <td>NaN</td>\n",
       "      <td>NaN</td>\n",
       "      <td>NaN</td>\n",
       "      <td>1950-01-01 00:00:00.0</td>\n",
       "      <td>2100-01-01 00:00:00.0</td>\n",
       "      <td>POINT (-141.20009 64.78917)</td>\n",
       "    </tr>\n",
       "    <tr>\n",
       "      <th>4360</th>\n",
       "      <td>15453500:AK:USGS</td>\n",
       "      <td>15453500</td>\n",
       "      <td>AK</td>\n",
       "      <td>USGS</td>\n",
       "      <td>Yukon R nr Stevens Village</td>\n",
       "      <td>AK</td>\n",
       "      <td>Yukon-Koyukuk</td>\n",
       "      <td>190804040504</td>\n",
       "      <td>240.0</td>\n",
       "      <td>65.87510</td>\n",
       "      <td>-149.72035</td>\n",
       "      <td>NaN</td>\n",
       "      <td>NaN</td>\n",
       "      <td>NaN</td>\n",
       "      <td>1976-10-01 00:00:00.0</td>\n",
       "      <td>2100-01-01 00:00:00.0</td>\n",
       "      <td>POINT (-149.72035 65.87510)</td>\n",
       "    </tr>\n",
       "    <tr>\n",
       "      <th>4361</th>\n",
       "      <td>1033:CO:SNTL</td>\n",
       "      <td>1033</td>\n",
       "      <td>CO</td>\n",
       "      <td>SNTL</td>\n",
       "      <td>Zirkel</td>\n",
       "      <td>CO</td>\n",
       "      <td>Jackson</td>\n",
       "      <td>101800010202</td>\n",
       "      <td>9338.0</td>\n",
       "      <td>40.79492</td>\n",
       "      <td>-106.59544</td>\n",
       "      <td>-8.0</td>\n",
       "      <td>NaN</td>\n",
       "      <td>ZIRC2</td>\n",
       "      <td>2002-08-14 00:00:00.0</td>\n",
       "      <td>2100-01-01 00:00:00.0</td>\n",
       "      <td>POINT (-106.59544 40.79492)</td>\n",
       "    </tr>\n",
       "    <tr>\n",
       "      <th>4362</th>\n",
       "      <td>09386950:NM:USGS</td>\n",
       "      <td>09386950</td>\n",
       "      <td>NM</td>\n",
       "      <td>USGS</td>\n",
       "      <td>Zuni R ab Black Rock Reservoir</td>\n",
       "      <td>CO</td>\n",
       "      <td>McKinley</td>\n",
       "      <td>150200040313</td>\n",
       "      <td>6480.0</td>\n",
       "      <td>35.10028</td>\n",
       "      <td>-108.75167</td>\n",
       "      <td>NaN</td>\n",
       "      <td>NaN</td>\n",
       "      <td>NaN</td>\n",
       "      <td>1969-10-01 00:00:00.0</td>\n",
       "      <td>2100-01-01 00:00:00.0</td>\n",
       "      <td>POINT (-108.75167 35.10028)</td>\n",
       "    </tr>\n",
       "  </tbody>\n",
       "</table>\n",
       "<p>4363 rows × 17 columns</p>\n",
       "</div>"
      ],
      "text/plain": [
       "        stationTriplet stationId stateCode networkCode  \\\n",
       "0         2057:AL:SCAN      2057        AL        SCAN   \n",
       "1          ABY:CA:SNOW       ABY        CA        SNOW   \n",
       "2         0010:ID:COOP      0010        ID        COOP   \n",
       "3        1F01A:BC:SNOW     1F01A        BC        SNOW   \n",
       "4         0041:NM:COOP      0041        NM        COOP   \n",
       "...                ...       ...       ...         ...   \n",
       "4358       YBP:CA:SNOW       YBP        CA        SNOW   \n",
       "4359  15356000:AK:USGS  15356000        AK        USGS   \n",
       "4360  15453500:AK:USGS  15453500        AK        USGS   \n",
       "4361      1033:CO:SNTL      1033        CO        SNTL   \n",
       "4362  09386950:NM:USGS  09386950        NM        USGS   \n",
       "\n",
       "                                name dcoCode           countyName  \\\n",
       "0                           AAMU-JTG      GC              Madison   \n",
       "1                              Abbey      UN               Plumas   \n",
       "2             Aberdeen Experimnt Stn      ID              Bingham   \n",
       "3                      Aberdeen Lake      OR              UNKNOWN   \n",
       "4                        Abiquiu Dam      UN           Rio Arriba   \n",
       "...                              ...     ...                  ...   \n",
       "4358                       Yuba Pass      UN               Sierra   \n",
       "4359                Yukon R at Eagle      AK  Southeast Fairbanks   \n",
       "4360      Yukon R nr Stevens Village      AK        Yukon-Koyukuk   \n",
       "4361                          Zirkel      CO              Jackson   \n",
       "4362  Zuni R ab Black Rock Reservoir      CO             McKinley   \n",
       "\n",
       "               huc  elevation  latitude  longitude  dataTimeZone pedonCode  \\\n",
       "0     060300020403      860.0  34.78333  -86.55000          -6.0     27979   \n",
       "1     180201220103     5650.0  39.95500 -120.53800           NaN       NaN   \n",
       "2     170402060704     4410.0  42.95000 -112.83333           NaN       NaN   \n",
       "3              NaN     4298.0  50.14733 -119.05340           NaN       NaN   \n",
       "4     130201021005     6380.0  36.23333 -106.43333           NaN       NaN   \n",
       "...            ...        ...       ...        ...           ...       ...   \n",
       "4358  180201250202     6700.0  39.61700 -120.49200           NaN       NaN   \n",
       "4359  190705051301      850.0  64.78917 -141.20009           NaN       NaN   \n",
       "4360  190804040504      240.0  65.87510 -149.72035           NaN       NaN   \n",
       "4361  101800010202     9338.0  40.79492 -106.59544          -8.0       NaN   \n",
       "4362  150200040313     6480.0  35.10028 -108.75167           NaN       NaN   \n",
       "\n",
       "     shefId              beginDate                endDate  \\\n",
       "0     AAMA1  2002-02-23 00:00:00.0  2100-01-01 00:00:00.0   \n",
       "1       NaN  1963-02-01 00:00:00.0  2100-01-01 00:00:00.0   \n",
       "2     ABDI1  1914-01-01 00:00:00.0  2100-01-01 00:00:00.0   \n",
       "3     ABLQ2  1939-04-01 00:00:00.0  2100-01-01 00:00:00.0   \n",
       "4     ABIN5  1957-01-01 00:00:00.0  2100-01-01 00:00:00.0   \n",
       "...     ...                    ...                    ...   \n",
       "4358    NaN  1937-03-01 00:00:00.0  2100-01-01 00:00:00.0   \n",
       "4359    NaN  1950-01-01 00:00:00.0  2100-01-01 00:00:00.0   \n",
       "4360    NaN  1976-10-01 00:00:00.0  2100-01-01 00:00:00.0   \n",
       "4361  ZIRC2  2002-08-14 00:00:00.0  2100-01-01 00:00:00.0   \n",
       "4362    NaN  1969-10-01 00:00:00.0  2100-01-01 00:00:00.0   \n",
       "\n",
       "                         geometry  \n",
       "0      POINT (-86.55000 34.78333)  \n",
       "1     POINT (-120.53800 39.95500)  \n",
       "2     POINT (-112.83333 42.95000)  \n",
       "3     POINT (-119.05340 50.14733)  \n",
       "4     POINT (-106.43333 36.23333)  \n",
       "...                           ...  \n",
       "4358  POINT (-120.49200 39.61700)  \n",
       "4359  POINT (-141.20009 64.78917)  \n",
       "4360  POINT (-149.72035 65.87510)  \n",
       "4361  POINT (-106.59544 40.79492)  \n",
       "4362  POINT (-108.75167 35.10028)  \n",
       "\n",
       "[4363 rows x 17 columns]"
      ]
     },
     "execution_count": 10,
     "metadata": {},
     "output_type": "execute_result"
    }
   ],
   "source": [
    "gdf"
   ]
  },
  {
   "cell_type": "code",
   "execution_count": 11,
   "id": "6e859208-1863-480d-a630-e616d7d2065b",
   "metadata": {},
   "outputs": [],
   "source": [
    "station_df = sedona.createDataFrame(gdf)\n",
    "station_df.createOrReplaceTempView('stations')"
   ]
  },
  {
   "cell_type": "code",
   "execution_count": 12,
   "id": "0e060b26-4150-43a5-bf67-6422e653cfc1",
   "metadata": {},
   "outputs": [
    {
     "name": "stdout",
     "output_type": "stream",
     "text": [
      "root\n",
      " |-- stationTriplet: string (nullable = true)\n",
      " |-- stationId: string (nullable = true)\n",
      " |-- stateCode: string (nullable = true)\n",
      " |-- networkCode: string (nullable = true)\n",
      " |-- name: string (nullable = true)\n",
      " |-- dcoCode: string (nullable = true)\n",
      " |-- countyName: string (nullable = true)\n",
      " |-- huc: string (nullable = true)\n",
      " |-- elevation: double (nullable = true)\n",
      " |-- latitude: double (nullable = true)\n",
      " |-- longitude: double (nullable = true)\n",
      " |-- dataTimeZone: double (nullable = true)\n",
      " |-- pedonCode: string (nullable = true)\n",
      " |-- shefId: string (nullable = true)\n",
      " |-- beginDate: string (nullable = true)\n",
      " |-- endDate: string (nullable = true)\n",
      " |-- geometry: geometry (nullable = true)\n",
      "\n"
     ]
    }
   ],
   "source": [
    "station_df.printSchema()"
   ]
  },
  {
   "cell_type": "code",
   "execution_count": 13,
   "id": "3815fad0-f0dd-4e6a-aae0-8c05a39e2ed6",
   "metadata": {},
   "outputs": [
    {
     "name": "stderr",
     "output_type": "stream",
     "text": [
      "[Stage 3:>                                                          (0 + 1) / 1]\r"
     ]
    },
    {
     "name": "stdout",
     "output_type": "stream",
     "text": [
      "+---------------+---------+---------+-----------+--------------------+-------+------------+------------+---------+--------+----------+------------+---------+------+--------------------+--------------------+--------------------+\n",
      "| stationTriplet|stationId|stateCode|networkCode|                name|dcoCode|  countyName|         huc|elevation|latitude| longitude|dataTimeZone|pedonCode|shefId|           beginDate|             endDate|            geometry|\n",
      "+---------------+---------+---------+-----------+--------------------+-------+------------+------------+---------+--------+----------+------------+---------+------+--------------------+--------------------+--------------------+\n",
      "|   2057:AL:SCAN|     2057|       AL|       SCAN|            AAMU-JTG|     GC|     Madison|060300020403|    860.0|34.78333|    -86.55|        -6.0|    27979| AAMA1|2002-02-23 00:00:...|2100-01-01 00:00:...|POINT (-86.55 34....|\n",
      "|    ABY:CA:SNOW|      ABY|       CA|       SNOW|               Abbey|     UN|      Plumas|180201220103|   5650.0|  39.955|  -120.538|         NaN|      NaN|   NaN|1963-02-01 00:00:...|2100-01-01 00:00:...|POINT (-120.538 3...|\n",
      "|   0010:ID:COOP|     0010|       ID|       COOP|Aberdeen Experimn...|     ID|     Bingham|170402060704|   4410.0|   42.95|-112.83333|         NaN|      NaN| ABDI1|1914-01-01 00:00:...|2100-01-01 00:00:...|POINT (-112.83333...|\n",
      "|  1F01A:BC:SNOW|    1F01A|       BC|       SNOW|       Aberdeen Lake|     OR|     UNKNOWN|         NaN|   4298.0|50.14733| -119.0534|         NaN|      NaN| ABLQ2|1939-04-01 00:00:...|2100-01-01 00:00:...|POINT (-119.0534 ...|\n",
      "|   0041:NM:COOP|     0041|       NM|       COOP|         Abiquiu Dam|     UN|  Rio Arriba|130201021005|   6380.0|36.23333|-106.43333|         NaN|      NaN| ABIN5|1957-01-01 00:00:...|2100-01-01 00:00:...|POINT (-106.43333...|\n",
      "|08108010:NM:BOR| 08108010|       NM|        BOR|   Abiquiu Reservoir|     CO|  Rio Arriba|130201021006|   6180.0|  36.237|-106.42912|         NaN|      NaN|   NaN|1964-09-01 00:00:...|2100-01-01 00:00:...|POINT (-106.42912...|\n",
      "|  13E19:ID:SNOW|    13E19|       ID|       SNOW|       Above Gilmore|     ID|       Lemhi|170602040101|   8289.0|44.45615|-113.30097|         NaN|      NaN| ABGI1|1961-01-01 00:00:...|2100-01-01 00:00:...|POINT (-113.30097...|\n",
      "|  15B07:ID:SNOW|    15B07|       ID|       SNOW|        Above Roland|     ID|    Shoshone|170103040201|   4347.0|47.38507|-115.66405|         NaN|      NaN| ABRI1|1926-03-01 00:00:...|2100-01-01 00:00:...|POINT (-115.66405...|\n",
      "|   2092:KS:SCAN|     2092|       KS|       SCAN|              Abrams|     GC|      Cowley|110300130307|   1194.0| 37.1313|  -97.0859|        -6.0|    31337| ABRK1|2004-06-21 00:00:...|2100-01-01 00:00:...|POINT (-97.0859 3...|\n",
      "|06110500:MT:BOR| 06110500|       MT|        BOR|         Ackley Lake|     MT|Judith Basin|100401030202|   4300.0|46.95741|-109.94062|         NaN|      NaN|   NaN|1938-06-01 00:00:...|2100-01-01 00:00:...|POINT (-109.94062...|\n",
      "|   2015:NM:SCAN|     2015|       NM|       SCAN|      Adams Ranch #1|     GC|     Lincoln|130600060201|   6175.0|   34.25|-105.41667|        -7.0|    19304| ADRN5|1993-10-25 00:00:...|2100-01-01 00:00:...|POINT (-105.41667...|\n",
      "|  20H08:CA:SNOW|    20H08|       CA|       SNOW|      Adin Mountains|     OR|       Modoc|180200021403|   6190.0|41.23483|-120.79467|         NaN|      NaN| ADMC1|1930-04-01 00:00:...|2100-01-01 00:00:...|POINT (-120.79467...|\n",
      "|    301:CA:SNTL|      301|       CA|       SNTL|            Adin Mtn|     OR|       Modoc|180200021403|   6190.0|41.23583|-120.79192|        -8.0|      NaN| ADMC1|1983-10-01 00:00:...|2100-01-01 00:00:...|POINT (-120.79192...|\n",
      "|   2235:CA:SCAN|     2235|       CA|       SCAN|               Adobe|     GC|        Mono|180901010607|   6500.0|37.97787|-118.68626|        -8.0|      NaN|   NaN|2023-09-27 00:00:...|2100-01-01 00:00:...|POINT (-118.68626...|\n",
      "|07007010:CO:BOR| 07007010|       CO|        BOR|Adobe Creek Reser...|     CO|       Kiowa|110200090303|   4150.0|38.26609|-103.24373|         NaN|      NaN|   NaN|1949-11-01 00:00:...|2100-01-01 00:00:...|POINT (-103.24373...|\n",
      "|   0027:WY:COOP|     0027|       WY|       COOP|               Afton|     MT|     Lincoln|170401050205|   6210.0|42.73333|-110.93333|         NaN|      NaN| AFOW4|1909-10-01 00:00:...|2100-01-01 00:00:...|POINT (-110.93333...|\n",
      "| 516700:MT:USGS|   516700|       MT|       USGS|Agency Crk ab Joc...|     MT|    Missoula|170102120705|   3725.0|47.12579| -113.9974|         NaN|      NaN|   NaN|1999-10-01 00:00:...|2100-01-01 00:00:...|POINT (-113.9974 ...|\n",
      "|    AGP:CA:MSNT|      AGP|       CA|       MSNT|          Agnew Pass|     GC|      Madera|180400060401|   9450.0|  37.724|  -119.143|         NaN|      NaN|   NaN|1989-11-24 00:00:...|2100-01-01 00:00:...|POINT (-119.143 3...|\n",
      "|    AGP:CA:SNOW|      AGP|       CA|       SNOW|          Agnew Pass|     UN|      Madera|180400060401|   9450.0|  37.724|  -119.143|         NaN|      NaN|   NaN|1930-04-01 00:00:...|2100-01-01 00:00:...|POINT (-119.143 3...|\n",
      "|    907:UT:SNTL|      907|       UT|       SNTL|         Agua Canyon|     UT|        Kane|160300020301|   8900.0|37.52217|-112.27118|        -8.0|      NaN| AGUU1|1994-10-01 00:00:...|2100-01-01 00:00:...|POINT (-112.27118...|\n",
      "+---------------+---------+---------+-----------+--------------------+-------+------------+------------+---------+--------+----------+------------+---------+------+--------------------+--------------------+--------------------+\n",
      "only showing top 20 rows\n",
      "\n"
     ]
    },
    {
     "name": "stderr",
     "output_type": "stream",
     "text": [
      "                                                                                \r"
     ]
    }
   ],
   "source": [
    "station_df.show()"
   ]
  },
  {
   "cell_type": "code",
   "execution_count": 14,
   "id": "eceadf97-440f-4db2-b690-54376f7f14eb",
   "metadata": {},
   "outputs": [
    {
     "name": "stderr",
     "output_type": "stream",
     "text": [
      "[Stage 4:=============================>                            (6 + 6) / 12]\r"
     ]
    },
    {
     "name": "stdout",
     "output_type": "stream",
     "text": [
      "+--------+\n",
      "|count(1)|\n",
      "+--------+\n",
      "|     899|\n",
      "+--------+\n",
      "\n"
     ]
    },
    {
     "name": "stderr",
     "output_type": "stream",
     "text": [
      "                                                                                \r"
     ]
    }
   ],
   "source": [
    "sedona.sql(\"SELECT COUNT(*) FROM stations WHERE networkCode = 'SNTL'\").show()"
   ]
  },
  {
   "cell_type": "code",
   "execution_count": 15,
   "id": "413cf328-aef1-48e6-a056-661299ee2a23",
   "metadata": {},
   "outputs": [
    {
     "name": "stderr",
     "output_type": "stream",
     "text": [
      "                                                                                \r"
     ]
    }
   ],
   "source": [
    "states = sedona.sql(\"SELECT distinct(stateCode) FROM stations WHERE networkCode = 'SNTL'\").toPandas().values.tolist()\n",
    "states = [x[0] for x in states]"
   ]
  },
  {
   "cell_type": "code",
   "execution_count": 16,
   "id": "73f0d1b6-218f-47bd-b2df-9f8ff576717a",
   "metadata": {},
   "outputs": [
    {
     "data": {
      "text/plain": [
       "['AZ', 'OR', 'WY', 'NV', 'ID', 'CA', 'MT', 'WA', 'CO', 'AK', 'UT', 'NM', 'SD']"
      ]
     },
     "execution_count": 16,
     "metadata": {},
     "output_type": "execute_result"
    }
   ],
   "source": [
    "states"
   ]
  },
  {
   "cell_type": "markdown",
   "id": "834c6e3c-1017-4a95-a999-f732ebf2c4f1",
   "metadata": {
    "tags": []
   },
   "source": [
    "## Data"
   ]
  },
  {
   "cell_type": "markdown",
   "id": "c7ef502f",
   "metadata": {},
   "source": [
    "parameters\n",
    "\n",
    "* `beginDate` - yyyy-MM-dd HH:mm\n",
    "* `centralTendencyType` - MEDIAN\n",
    "* `duration` - DAILY\n",
    "* `elements` - PREC, WTEQ, SMS:*, PREC::2\n",
    "* `endDate` - yyyy-MM-dd HH:mm\n",
    "* `stationTriplets` - *:*:*"
   ]
  },
  {
   "cell_type": "code",
   "execution_count": null,
   "id": "e9d9905b",
   "metadata": {},
   "outputs": [],
   "source": []
  },
  {
   "cell_type": "code",
   "execution_count": 17,
   "id": "f6b53810",
   "metadata": {},
   "outputs": [],
   "source": [
    "station_data = []\n",
    "for state in states:\n",
    "    payload = {\n",
    "        'beginDate': '2024-03-26',\n",
    "        'endDate': '2024-03-26',\n",
    "        'centralTendencyType': 'MEDIAN',\n",
    "        'duration': 'DAILY',\n",
    "        'elements': 'WTEQ',\n",
    "        'stationTriplets': f\"*:{state}:SNTL\"\n",
    "    }\n",
    "    r = requests.get(baseurl + 'services/v1/data', params=payload)\n",
    "    station_data = station_data + r.json()"
   ]
  },
  {
   "cell_type": "code",
   "execution_count": 18,
   "id": "d28e43b1-17d0-45e6-88b1-238fbb89e539",
   "metadata": {},
   "outputs": [
    {
     "data": {
      "text/plain": [
       "854"
      ]
     },
     "execution_count": 18,
     "metadata": {},
     "output_type": "execute_result"
    }
   ],
   "source": [
    "len(station_data)"
   ]
  },
  {
   "cell_type": "code",
   "execution_count": 19,
   "id": "09972e70-4ee1-4233-b4e9-315dd93aa95f",
   "metadata": {},
   "outputs": [],
   "source": [
    "df = pd.DataFrame(station_data)"
   ]
  },
  {
   "cell_type": "code",
   "execution_count": 20,
   "id": "49f70fb2-d831-48bf-9f9e-4ad7d08d8503",
   "metadata": {},
   "outputs": [
    {
     "data": {
      "text/html": [
       "<div>\n",
       "<style scoped>\n",
       "    .dataframe tbody tr th:only-of-type {\n",
       "        vertical-align: middle;\n",
       "    }\n",
       "\n",
       "    .dataframe tbody tr th {\n",
       "        vertical-align: top;\n",
       "    }\n",
       "\n",
       "    .dataframe thead th {\n",
       "        text-align: right;\n",
       "    }\n",
       "</style>\n",
       "<table border=\"1\" class=\"dataframe\">\n",
       "  <thead>\n",
       "    <tr style=\"text-align: right;\">\n",
       "      <th></th>\n",
       "      <th>stationTriplet</th>\n",
       "      <th>data</th>\n",
       "    </tr>\n",
       "  </thead>\n",
       "  <tbody>\n",
       "    <tr>\n",
       "      <th>0</th>\n",
       "      <td>308:AZ:SNTL</td>\n",
       "      <td>[{'stationElement': {'elementCode': 'WTEQ', 'o...</td>\n",
       "    </tr>\n",
       "    <tr>\n",
       "      <th>1</th>\n",
       "      <td>1140:AZ:SNTL</td>\n",
       "      <td>[{'stationElement': {'elementCode': 'WTEQ', 'o...</td>\n",
       "    </tr>\n",
       "    <tr>\n",
       "      <th>2</th>\n",
       "      <td>310:AZ:SNTL</td>\n",
       "      <td>[{'stationElement': {'elementCode': 'WTEQ', 'o...</td>\n",
       "    </tr>\n",
       "    <tr>\n",
       "      <th>3</th>\n",
       "      <td>1212:AZ:SNTL</td>\n",
       "      <td>[{'stationElement': {'elementCode': 'WTEQ', 'o...</td>\n",
       "    </tr>\n",
       "    <tr>\n",
       "      <th>4</th>\n",
       "      <td>902:AZ:SNTL</td>\n",
       "      <td>[{'stationElement': {'elementCode': 'WTEQ', 'o...</td>\n",
       "    </tr>\n",
       "    <tr>\n",
       "      <th>...</th>\n",
       "      <td>...</td>\n",
       "      <td>...</td>\n",
       "    </tr>\n",
       "    <tr>\n",
       "      <th>849</th>\n",
       "      <td>1083:NM:SNTL</td>\n",
       "      <td>[{'stationElement': {'elementCode': 'WTEQ', 'o...</td>\n",
       "    </tr>\n",
       "    <tr>\n",
       "      <th>850</th>\n",
       "      <td>1017:NM:SNTL</td>\n",
       "      <td>[{'stationElement': {'elementCode': 'WTEQ', 'o...</td>\n",
       "    </tr>\n",
       "    <tr>\n",
       "      <th>851</th>\n",
       "      <td>854:NM:SNTL</td>\n",
       "      <td>[{'stationElement': {'elementCode': 'WTEQ', 'o...</td>\n",
       "    </tr>\n",
       "    <tr>\n",
       "      <th>852</th>\n",
       "      <td>354:SD:SNTL</td>\n",
       "      <td>[{'stationElement': {'elementCode': 'WTEQ', 'o...</td>\n",
       "    </tr>\n",
       "    <tr>\n",
       "      <th>853</th>\n",
       "      <td>920:SD:SNTL</td>\n",
       "      <td>[{'stationElement': {'elementCode': 'WTEQ', 'o...</td>\n",
       "    </tr>\n",
       "  </tbody>\n",
       "</table>\n",
       "<p>854 rows × 2 columns</p>\n",
       "</div>"
      ],
      "text/plain": [
       "    stationTriplet                                               data\n",
       "0      308:AZ:SNTL  [{'stationElement': {'elementCode': 'WTEQ', 'o...\n",
       "1     1140:AZ:SNTL  [{'stationElement': {'elementCode': 'WTEQ', 'o...\n",
       "2      310:AZ:SNTL  [{'stationElement': {'elementCode': 'WTEQ', 'o...\n",
       "3     1212:AZ:SNTL  [{'stationElement': {'elementCode': 'WTEQ', 'o...\n",
       "4      902:AZ:SNTL  [{'stationElement': {'elementCode': 'WTEQ', 'o...\n",
       "..             ...                                                ...\n",
       "849   1083:NM:SNTL  [{'stationElement': {'elementCode': 'WTEQ', 'o...\n",
       "850   1017:NM:SNTL  [{'stationElement': {'elementCode': 'WTEQ', 'o...\n",
       "851    854:NM:SNTL  [{'stationElement': {'elementCode': 'WTEQ', 'o...\n",
       "852    354:SD:SNTL  [{'stationElement': {'elementCode': 'WTEQ', 'o...\n",
       "853    920:SD:SNTL  [{'stationElement': {'elementCode': 'WTEQ', 'o...\n",
       "\n",
       "[854 rows x 2 columns]"
      ]
     },
     "execution_count": 20,
     "metadata": {},
     "output_type": "execute_result"
    }
   ],
   "source": [
    "df"
   ]
  },
  {
   "cell_type": "code",
   "execution_count": 21,
   "id": "8b971fe8-65e5-4c32-a2a5-37fab51dc559",
   "metadata": {},
   "outputs": [],
   "source": [
    "data_list = [(station['stationTriplet'], station['data'][0]['values'][0]['value'], station['data'][0]['values'][0].get('median'), station['data'][0]['values'][0]['date']) for station in station_data]"
   ]
  },
  {
   "cell_type": "code",
   "execution_count": 22,
   "id": "963beb20-6f87-40f6-87cc-00b907643d8c",
   "metadata": {},
   "outputs": [],
   "source": [
    "df = pd.DataFrame(data_list, columns=['station', 'value', 'median', 'date'])"
   ]
  },
  {
   "cell_type": "code",
   "execution_count": 23,
   "id": "2671c061-69d8-4ced-8c78-df49acb9efb7",
   "metadata": {},
   "outputs": [
    {
     "data": {
      "text/html": [
       "<div>\n",
       "<style scoped>\n",
       "    .dataframe tbody tr th:only-of-type {\n",
       "        vertical-align: middle;\n",
       "    }\n",
       "\n",
       "    .dataframe tbody tr th {\n",
       "        vertical-align: top;\n",
       "    }\n",
       "\n",
       "    .dataframe thead th {\n",
       "        text-align: right;\n",
       "    }\n",
       "</style>\n",
       "<table border=\"1\" class=\"dataframe\">\n",
       "  <thead>\n",
       "    <tr style=\"text-align: right;\">\n",
       "      <th></th>\n",
       "      <th>station</th>\n",
       "      <th>value</th>\n",
       "      <th>median</th>\n",
       "      <th>date</th>\n",
       "    </tr>\n",
       "  </thead>\n",
       "  <tbody>\n",
       "    <tr>\n",
       "      <th>0</th>\n",
       "      <td>308:AZ:SNTL</td>\n",
       "      <td>5.8</td>\n",
       "      <td>0.0</td>\n",
       "      <td>2024-03-26</td>\n",
       "    </tr>\n",
       "    <tr>\n",
       "      <th>1</th>\n",
       "      <td>1140:AZ:SNTL</td>\n",
       "      <td>19.4</td>\n",
       "      <td>11.7</td>\n",
       "      <td>2024-03-26</td>\n",
       "    </tr>\n",
       "    <tr>\n",
       "      <th>2</th>\n",
       "      <td>310:AZ:SNTL</td>\n",
       "      <td>6.6</td>\n",
       "      <td>2.2</td>\n",
       "      <td>2024-03-26</td>\n",
       "    </tr>\n",
       "    <tr>\n",
       "      <th>3</th>\n",
       "      <td>1212:AZ:SNTL</td>\n",
       "      <td>1.0</td>\n",
       "      <td>NaN</td>\n",
       "      <td>2024-03-26</td>\n",
       "    </tr>\n",
       "    <tr>\n",
       "      <th>4</th>\n",
       "      <td>902:AZ:SNTL</td>\n",
       "      <td>0.4</td>\n",
       "      <td>0.0</td>\n",
       "      <td>2024-03-26</td>\n",
       "    </tr>\n",
       "    <tr>\n",
       "      <th>...</th>\n",
       "      <td>...</td>\n",
       "      <td>...</td>\n",
       "      <td>...</td>\n",
       "      <td>...</td>\n",
       "    </tr>\n",
       "    <tr>\n",
       "      <th>849</th>\n",
       "      <td>1083:NM:SNTL</td>\n",
       "      <td>1.3</td>\n",
       "      <td>0.0</td>\n",
       "      <td>2024-03-26</td>\n",
       "    </tr>\n",
       "    <tr>\n",
       "      <th>850</th>\n",
       "      <td>1017:NM:SNTL</td>\n",
       "      <td>13.8</td>\n",
       "      <td>5.7</td>\n",
       "      <td>2024-03-26</td>\n",
       "    </tr>\n",
       "    <tr>\n",
       "      <th>851</th>\n",
       "      <td>854:NM:SNTL</td>\n",
       "      <td>14.1</td>\n",
       "      <td>12.0</td>\n",
       "      <td>2024-03-26</td>\n",
       "    </tr>\n",
       "    <tr>\n",
       "      <th>852</th>\n",
       "      <td>354:SD:SNTL</td>\n",
       "      <td>0.2</td>\n",
       "      <td>6.8</td>\n",
       "      <td>2024-03-26</td>\n",
       "    </tr>\n",
       "    <tr>\n",
       "      <th>853</th>\n",
       "      <td>920:SD:SNTL</td>\n",
       "      <td>5.3</td>\n",
       "      <td>6.6</td>\n",
       "      <td>2024-03-26</td>\n",
       "    </tr>\n",
       "  </tbody>\n",
       "</table>\n",
       "<p>854 rows × 4 columns</p>\n",
       "</div>"
      ],
      "text/plain": [
       "          station  value  median        date\n",
       "0     308:AZ:SNTL    5.8     0.0  2024-03-26\n",
       "1    1140:AZ:SNTL   19.4    11.7  2024-03-26\n",
       "2     310:AZ:SNTL    6.6     2.2  2024-03-26\n",
       "3    1212:AZ:SNTL    1.0     NaN  2024-03-26\n",
       "4     902:AZ:SNTL    0.4     0.0  2024-03-26\n",
       "..            ...    ...     ...         ...\n",
       "849  1083:NM:SNTL    1.3     0.0  2024-03-26\n",
       "850  1017:NM:SNTL   13.8     5.7  2024-03-26\n",
       "851   854:NM:SNTL   14.1    12.0  2024-03-26\n",
       "852   354:SD:SNTL    0.2     6.8  2024-03-26\n",
       "853   920:SD:SNTL    5.3     6.6  2024-03-26\n",
       "\n",
       "[854 rows x 4 columns]"
      ]
     },
     "execution_count": 23,
     "metadata": {},
     "output_type": "execute_result"
    }
   ],
   "source": [
    "df"
   ]
  },
  {
   "cell_type": "code",
   "execution_count": 24,
   "id": "70509677",
   "metadata": {},
   "outputs": [],
   "source": [
    "data_df = sedona.createDataFrame(df)"
   ]
  },
  {
   "cell_type": "code",
   "execution_count": 25,
   "id": "14a58d50",
   "metadata": {},
   "outputs": [
    {
     "name": "stdout",
     "output_type": "stream",
     "text": [
      "+------------+-----+------+----------+\n",
      "|     station|value|median|      date|\n",
      "+------------+-----+------+----------+\n",
      "| 308:AZ:SNTL|  5.8|   0.0|2024-03-26|\n",
      "|1140:AZ:SNTL| 19.4|  11.7|2024-03-26|\n",
      "| 310:AZ:SNTL|  6.6|   2.2|2024-03-26|\n",
      "|1212:AZ:SNTL|  1.0|   NaN|2024-03-26|\n",
      "| 902:AZ:SNTL|  0.4|   0.0|2024-03-26|\n",
      "|1143:AZ:SNTL| 12.3|   3.7|2024-03-26|\n",
      "|1139:AZ:SNTL|  0.7|   0.0|2024-03-26|\n",
      "| 416:AZ:SNTL|  1.4|   0.0|2024-03-26|\n",
      "|1121:AZ:SNTL|  0.9|   0.0|2024-03-26|\n",
      "| 488:AZ:SNTL|  6.1|   0.0|2024-03-26|\n",
      "| 511:AZ:SNTL| 11.7|   5.0|2024-03-26|\n",
      "| 969:AZ:SNTL|  8.6|   2.1|2024-03-26|\n",
      "|1271:AZ:SNTL| 17.2|   NaN|2024-03-26|\n",
      "| 519:AZ:SNTL|  2.2|   0.0|2024-03-26|\n",
      "| 617:AZ:SNTL|  7.9|   4.2|2024-03-26|\n",
      "| 640:AZ:SNTL|  4.4|   0.4|2024-03-26|\n",
      "|1125:AZ:SNTL| 10.7|   7.2|2024-03-26|\n",
      "|1127:AZ:SNTL|  0.8|   0.0|2024-03-26|\n",
      "| 705:AZ:SNTL|  7.4|   3.9|2024-03-26|\n",
      "| 927:AZ:SNTL| 22.2|  14.4|2024-03-26|\n",
      "+------------+-----+------+----------+\n",
      "only showing top 20 rows\n",
      "\n"
     ]
    }
   ],
   "source": [
    "data_df.show()"
   ]
  },
  {
   "cell_type": "code",
   "execution_count": 26,
   "id": "92a06d11-d327-4db2-8ff3-6d6d8567644d",
   "metadata": {},
   "outputs": [],
   "source": [
    "data_df.createOrReplaceTempView('snotel_data')"
   ]
  },
  {
   "cell_type": "code",
   "execution_count": 27,
   "id": "65cd8361-af10-4b7b-ab7a-8d4373cc6a48",
   "metadata": {},
   "outputs": [],
   "source": [
    "## Join Daily Observations \n",
    "\n",
    "\n",
    "snotel_data_df = sedona.sql(\"\"\"\n",
    "SELECT *, (value / median) AS pct_median\n",
    "FROM stations\n",
    "JOIN snotel_data \n",
    "WHERE snotel_data.station = stations.stationTriplet\n",
    "\"\"\")"
   ]
  },
  {
   "cell_type": "code",
   "execution_count": 28,
   "id": "e5d7bdfc-f1e3-4982-9d71-dad3b40f6660",
   "metadata": {},
   "outputs": [],
   "source": [
    "snotel_data_df.createOrReplaceTempView(\"snotel_data\")"
   ]
  },
  {
   "cell_type": "code",
   "execution_count": 29,
   "id": "b97eedba-3ca6-42cb-8749-84c66a77b0fb",
   "metadata": {},
   "outputs": [
    {
     "name": "stderr",
     "output_type": "stream",
     "text": [
      "                                                                                \r"
     ]
    },
    {
     "data": {
      "text/plain": [
       "854"
      ]
     },
     "execution_count": 29,
     "metadata": {},
     "output_type": "execute_result"
    }
   ],
   "source": [
    "snotel_data_df.count()"
   ]
  },
  {
   "cell_type": "code",
   "execution_count": 30,
   "id": "d954dd05-4135-43e2-a926-0e92ecbcfcee",
   "metadata": {},
   "outputs": [
    {
     "name": "stdout",
     "output_type": "stream",
     "text": [
      "+--------------+---------+---------+-----------+--------------------+-------+----------+------------+---------+--------+----------+------------+---------+------+--------------------+--------------------+--------------------+------------+-----+------+----------+------------------+\n",
      "|stationTriplet|stationId|stateCode|networkCode|                name|dcoCode|countyName|         huc|elevation|latitude| longitude|dataTimeZone|pedonCode|shefId|           beginDate|             endDate|            geometry|     station|value|median|      date|        pct_median|\n",
      "+--------------+---------+---------+-----------+--------------------+-------+----------+------------+---------+--------+----------+------------+---------+------+--------------------+--------------------+--------------------+------------+-----+------+----------+------------------+\n",
      "|   969:AZ:SNTL|      969|       AZ|       SNTL|          Happy Jack|     CO|  Coconino|150602020604|   7539.0|34.74594|-111.41219|        -8.0|      NaN| XHJA3|1999-06-01 00:00:...|2100-01-01 00:00:...|POINT (-111.41219...| 969:AZ:SNTL|  8.6|   2.1|2024-03-26| 4.095238095238095|\n",
      "|  1139:AZ:SNTL|     1139|       AZ|       SNTL|           Chalender|     CO|  Coconino|150602020305|   7035.0|35.26238|-112.06221|        -8.0|      NaN| CDRA3|2009-05-15 00:00:...|2100-01-01 00:00:...|POINT (-112.06221...|1139:AZ:SNTL|  0.7|   0.0|2024-03-26|              null|\n",
      "|   605:OR:SNTL|      605|       OR|       SNTL|        Lucky Strike|     OR|  Umatilla|170701030606|   4970.0|45.27478| -118.8479|        -8.0|    17572| LUKO3|1978-10-01 00:00:...|2100-01-01 00:00:...|POINT (-118.8479 ...| 605:OR:SNTL|  4.4|   5.4|2024-03-26|0.8148148148148149|\n",
      "|   477:OR:SNTL|      477|       OR|       SNTL|          Fish Creek|     OR|    Harney|171200030107|   7660.0|42.70992| -118.6321|        -8.0|      NaN| FCKO3|1978-10-01 00:00:...|2100-01-01 00:00:...|POINT (-118.6321 ...| 477:OR:SNTL| 42.5|  26.4|2024-03-26|1.6098484848484849|\n",
      "|   927:AZ:SNTL|      927|       AZ|       SNTL|    Snowslide Canyon|     CO|  Coconino|150200160201|   9744.0|35.34179|-111.65084|        -8.0|      NaN| XSCA3|1997-09-01 00:00:...|2100-01-01 00:00:...|POINT (-111.65084...| 927:AZ:SNTL| 22.2|  14.4|2024-03-26|1.5416666666666665|\n",
      "|   608:OR:SNTL|      608|       OR|       SNTL|       Madison Butte|     OR|    Morrow|170702041101|   5150.0|45.10513|-119.49585|        -8.0|    33089| MDBO3|1979-10-01 00:00:...|2100-01-01 00:00:...|POINT (-119.49585...| 608:OR:SNTL|  0.0|   2.0|2024-03-26|               0.0|\n",
      "|   422:OR:SNTL|      422|       OR|       SNTL|         County Line|     OR|  Umatilla|170601040202|   4830.0|45.19107|-118.55015|        -8.0|      NaN| COLO3|1979-10-01 00:00:...|2100-01-01 00:00:...|POINT (-118.55015...| 422:OR:SNTL|  0.0|   0.1|2024-03-26|               0.0|\n",
      "|   861:AZ:SNTL|      861|       AZ|       SNTL|    White Horse Lake|     CO|  Coconino|150602020204|   7203.0|35.14189|-112.14966|        -8.0|      NaN| WHLA3|1970-11-01 00:00:...|2100-01-01 00:00:...|POINT (-112.14966...| 861:AZ:SNTL|  0.8|   0.0|2024-03-26|              null|\n",
      "|   866:AZ:SNTL|      866|       AZ|       SNTL|             Wildcat|     CO|    Apache|150601010109|   7868.0|33.74347|-109.48078|        -8.0|      NaN| WCTA3|1983-10-01 00:00:...|2100-01-01 00:00:...|POINT (-109.48078...| 866:AZ:SNTL|  1.4|   0.0|2024-03-26|              null|\n",
      "|   558:OR:SNTL|      558|       OR|       SNTL|       King Mountain|     OR|   Jackson|171003020701|   4340.0|42.72395|-123.20037|        -8.0|      NaN| KIMO3|1979-10-01 00:00:...|2100-01-01 00:00:...|POINT (-123.20037...| 558:OR:SNTL|  3.7|   1.1|2024-03-26|3.3636363636363633|\n",
      "|  1084:OR:SNTL|     1084|       OR|       SNTL|        Miller Woods|     OR|   Yamhill|170900080606|    420.0|45.24755|-123.27563|        -8.0|      NaN| MWDO3|2006-09-22 00:00:...|2100-01-01 00:00:...|POINT (-123.27563...|1084:OR:SNTL|  0.0|   0.0|2024-03-26|              null|\n",
      "|   304:OR:SNTL|      304|       OR|       SNTL|        Arbuckle Mtn|     OR|    Morrow|170702020604|   5770.0|45.19085|-119.25392|        -8.0|      NaN| ARBO3|1978-10-01 00:00:...|2100-01-01 00:00:...|POINT (-119.25392...| 304:OR:SNTL| 17.5|  17.3|2024-03-26|1.0115606936416184|\n",
      "|   351:OR:SNTL|      351|       OR|       SNTL|        Blazed Alder|     OR| Clackamas|170800010102|   3650.0| 45.4287|-121.85605|        -8.0|      NaN| BLAO3|1979-10-01 00:00:...|2100-01-01 00:00:...|POINT (-121.85605...| 351:OR:SNTL| 27.0|  28.6|2024-03-26|0.9440559440559441|\n",
      "|  1212:AZ:SNTL|     1212|       AZ|       SNTL|               Bar M|     CO|  Coconino|150602020601|   6397.0|34.86142|-111.60497|        -8.0|      NaN| BRMA3|2012-09-06 00:00:...|2100-01-01 00:00:...|POINT (-111.60497...|1212:AZ:SNTL|  1.0|   NaN|2024-03-26|               NaN|\n",
      "|   357:OR:SNTL|      357|       OR|       SNTL|Blue Mountain Spring|     OR|     Grant|170501160104|   5870.0|44.24767|-118.51722|        -8.0|      NaN| BLPO3|1978-10-01 00:00:...|2100-01-01 00:00:...|POINT (-118.51722...| 357:OR:SNTL| 15.2|  15.7|2024-03-26|0.9681528662420382|\n",
      "|   617:AZ:SNTL|      617|       AZ|       SNTL|       Maverick Fork|     CO|    Apache|150601010104|   9220.0|33.92123|-109.45872|        -8.0|      NaN| MVFA3|1953-10-01 00:00:...|2100-01-01 00:00:...|POINT (-109.45872...| 617:AZ:SNTL|  7.9|   4.2|2024-03-26| 1.880952380952381|\n",
      "|   331:OR:SNTL|      331|       OR|       SNTL|    Beaver Reservoir|     OR|     Union|170601040301|   5150.0|45.14532|  -118.219|        -8.0|      NaN| BVRO3|1979-10-01 00:00:...|2100-01-01 00:00:...|POINT (-118.219 4...| 331:OR:SNTL|  9.6|  10.3|2024-03-26|0.9320388349514562|\n",
      "|  1140:AZ:SNTL|     1140|       AZ|       SNTL|     Baker Butte Smt|     CO|  Coconino|150602030103|   7752.0|34.45552|-111.38262|        -8.0|      NaN| BBSA3|2009-05-18 00:00:...|2100-01-01 00:00:...|POINT (-111.38262...|1140:AZ:SNTL| 19.4|  11.7|2024-03-26| 1.658119658119658|\n",
      "|  1121:AZ:SNTL|     1121|       AZ|       SNTL|         Fort Valley|     CO|  Coconino|150200150102|   7371.0|35.26773|-111.74479|        -8.0|      NaN| FRVA3|2008-06-26 00:00:...|2100-01-01 00:00:...|POINT (-111.74479...|1121:AZ:SNTL|  0.9|   0.0|2024-03-26|              null|\n",
      "|   344:OR:SNTL|      344|       OR|       SNTL| Billie Creek Divide|     OR|   Klamath|180102030201|   5280.0|42.40717|-122.26617|        -8.0|    29370| BCDO3|1978-10-01 00:00:...|2100-01-01 00:00:...|POINT (-122.26617...| 344:OR:SNTL| 29.4|  19.6|2024-03-26|1.4999999999999998|\n",
      "+--------------+---------+---------+-----------+--------------------+-------+----------+------------+---------+--------+----------+------------+---------+------+--------------------+--------------------+--------------------+------------+-----+------+----------+------------------+\n",
      "only showing top 20 rows\n",
      "\n"
     ]
    }
   ],
   "source": [
    "snotel_data_df.show()"
   ]
  },
  {
   "cell_type": "code",
   "execution_count": 31,
   "id": "ec833760-f565-43f0-9a68-29e00f0cb7f6",
   "metadata": {},
   "outputs": [
    {
     "name": "stdout",
     "output_type": "stream",
     "text": [
      "User Guide: https://docs.kepler.gl/docs/keplergl-jupyter\n"
     ]
    },
    {
     "name": "stderr",
     "output_type": "stream",
     "text": [
      "/opt/conda/lib/python3.10/site-packages/jupyter_client/session.py:719: UserWarning: Message serialization failed with:\n",
      "Out of range float values are not JSON compliant\n",
      "Supporting this message is deprecated in jupyter-client 7, please make sure your message is JSON-compliant\n",
      "  content = self.pack(content)\n"
     ]
    },
    {
     "data": {
      "application/vnd.jupyter.widget-view+json": {
       "model_id": "2fb151fb040f4c4492fa5b36916b81b1",
       "version_major": 2,
       "version_minor": 0
      },
      "text/plain": [
       "KeplerGl(data={'unnamed': {'index': [0, 1, 2, 3, 4, 5, 6, 7, 8, 9, 10, 11, 12, 13, 14, 15, 16, 17, 18, 19, 20,…"
      ]
     },
     "metadata": {},
     "output_type": "display_data"
    }
   ],
   "source": [
    "SedonaKepler.create_map(snotel_data_df)"
   ]
  },
  {
   "cell_type": "markdown",
   "id": "b62c1cb5-b267-40f1-9678-b24c0d550f55",
   "metadata": {},
   "source": [
    "## Watershed - Spatial Join"
   ]
  },
  {
   "cell_type": "code",
   "execution_count": 32,
   "id": "b6d51172-b454-4d87-9809-d0e2f47c8c4d",
   "metadata": {},
   "outputs": [],
   "source": [
    "# TODO: load geojson, spatial join, calculate "
   ]
  },
  {
   "cell_type": "code",
   "execution_count": 33,
   "id": "cd18ec15-2e70-415b-af66-c239962677f8",
   "metadata": {},
   "outputs": [],
   "source": [
    "WATERSHED_URI = \"s3://wherobots-examples/data/examples/usgs/watershed_boundaries_huc6.geojson\""
   ]
  },
  {
   "cell_type": "code",
   "execution_count": 34,
   "id": "c386bad8-9aa2-49a6-a080-afef75e09d2e",
   "metadata": {},
   "outputs": [
    {
     "name": "stderr",
     "output_type": "stream",
     "text": [
      "                                                                                \r"
     ]
    }
   ],
   "source": [
    "watershed_df = sedona.read.format(\"geojson\").option(\"multiLine\", \"true\").load(WATERSHED_URI).selectExpr(\"explode(features) AS features\").select(\"features.*\").withColumn(\"huc6\", expr(\"properties['huc6']\")).withColumn(\"name\", expr(\"properties['name']\")).withColumn(\"states\", expr(\"properties['states']\")).drop(\"properties\").drop(\"type\")"
   ]
  },
  {
   "cell_type": "code",
   "execution_count": 35,
   "id": "776e44a4-c0a8-4a2d-bf50-6515e0cd7a21",
   "metadata": {},
   "outputs": [
    {
     "name": "stderr",
     "output_type": "stream",
     "text": [
      "                                                                                \r"
     ]
    },
    {
     "name": "stdout",
     "output_type": "stream",
     "text": [
      "+--------------------+------+--------------------+--------+\n",
      "|            geometry|  huc6|                name|  states|\n",
      "+--------------------+------+--------------------+--------+\n",
      "|MULTIPOLYGON (((-...|050902|Middle Ohio-Littl...|IN,KY,OH|\n",
      "|MULTIPOLYGON (((-...|030201|             Pamlico|      NC|\n",
      "|MULTIPOLYGON (((-...|031501|    Coosa-Tallapoosa|AL,GA,TN|\n",
      "|MULTIPOLYGON (((-...|050800|         Great Miami|   IN,OH|\n",
      "|MULTIPOLYGON (((-...|051201|              Wabash|IL,IN,OH|\n",
      "|MULTIPOLYGON (((-...|031403|            Escambia|   AL,FL|\n",
      "|MULTIPOLYGON (((-...|051202|        Patoka-White|      IN|\n",
      "|MULTIPOLYGON (((-...|111402|          Red-Saline|AR,LA,TX|\n",
      "|MULTIPOLYGON (((-...|080702|       Lake Maurepas|   LA,MS|\n",
      "|MULTIPOLYGON (((-...|080902|  Lake Pontchartrain|   LA,MS|\n",
      "|MULTIPOLYGON (((-...|120402|Galveston Bay-Sab...|   LA,TX|\n",
      "|MULTIPOLYGON (((-...|121004|Central Texas Coa...|      TX|\n",
      "|MULTIPOLYGON (((-...|010600|                Saco|MA,ME,NH|\n",
      "|MULTIPOLYGON (((-...|140200|            Gunnison|      CO|\n",
      "|MULTIPOLYGON (((-...|051402|          Lower Ohio|IL,IN,KY|\n",
      "|MULTIPOLYGON (((-...|051401|     Lower Ohio-Salt|   IN,KY|\n",
      "|MULTIPOLYGON (((-...|080302|               Yazoo|LA,MS,TN|\n",
      "|MULTIPOLYGON (((-...|090100|              Souris|   CN,ND|\n",
      "|MULTIPOLYGON (((-...|031800|               Pearl|   LA,MS|\n",
      "|MULTIPOLYGON (((-...|080703|         Lower Grand|      LA|\n",
      "+--------------------+------+--------------------+--------+\n",
      "only showing top 20 rows\n",
      "\n"
     ]
    }
   ],
   "source": [
    "watershed_df.show()"
   ]
  },
  {
   "cell_type": "code",
   "execution_count": 36,
   "id": "ab9233ae-64bc-4c4e-96c5-2886bdaadaa7",
   "metadata": {},
   "outputs": [
    {
     "name": "stdout",
     "output_type": "stream",
     "text": [
      "root\n",
      " |-- geometry: geometry (nullable = true)\n",
      " |-- huc6: string (nullable = true)\n",
      " |-- name: string (nullable = true)\n",
      " |-- states: string (nullable = true)\n",
      "\n"
     ]
    }
   ],
   "source": [
    "watershed_df.printSchema()"
   ]
  },
  {
   "cell_type": "code",
   "execution_count": 37,
   "id": "91171695-6e71-4307-99f6-61a30a24e8a2",
   "metadata": {},
   "outputs": [],
   "source": [
    "watershed_df.createOrReplaceTempView(\"watersheds\")"
   ]
  },
  {
   "cell_type": "code",
   "execution_count": null,
   "id": "18dbc8b8-58df-40e7-a087-3737dc03f125",
   "metadata": {},
   "outputs": [],
   "source": []
  },
  {
   "cell_type": "markdown",
   "id": "c036af3c-349c-4100-ad98-64d8cc2ee550",
   "metadata": {},
   "source": [
    "### Spatial Join - SNOTEL data to Watersheds"
   ]
  },
  {
   "cell_type": "code",
   "execution_count": 41,
   "id": "1f32bbca-7c1d-454f-a4f4-55ba40a5fc8f",
   "metadata": {},
   "outputs": [],
   "source": [
    "snotel_sheds_df = sedona.sql(\"\"\"\n",
    "SELECT any_value(watersheds.name) AS name, any_value(states) AS states, any_value(watersheds.geometry) AS geometry, avg(pct_median) AS pct_median\n",
    "FROM watersheds, snotel_data\n",
    "WHERE ST_Contains(watersheds.geometry, snotel_data.geometry) AND snotel_data.pct_median IS NOT null AND NOT isnan(pct_median)\n",
    "GROUP BY huc6\n",
    "\"\"\")"
   ]
  },
  {
   "cell_type": "code",
   "execution_count": 42,
   "id": "f2a68ca9-5d0d-44e5-ae9a-53f22708f372",
   "metadata": {},
   "outputs": [
    {
     "name": "stderr",
     "output_type": "stream",
     "text": [
      "                                                                                \r"
     ]
    },
    {
     "name": "stdout",
     "output_type": "stream",
     "text": [
      "+--------------------+-----------+--------------------+------------------+\n",
      "|                name|     states|            geometry|        pct_median|\n",
      "+--------------------+-----------+--------------------+------------------+\n",
      "| Missouri Headwaters|   ID,MT,WY|MULTIPOLYGON (((-...|0.8123762185493943|\n",
      "|         Musselshell|         MT|MULTIPOLYGON (((-...|0.7634408602150536|\n",
      "|        South Platte|   CO,NE,WY|MULTIPOLYGON (((-...|1.2160896318379226|\n",
      "|      Upper Arkansas|   CO,KS,NM|MULTIPOLYGON (((-...|1.4231765640047371|\n",
      "|      Upper San Juan|   AZ,CO,NM|MULTIPOLYGON (((-...|10.034949087541726|\n",
      "|     Little Colorado|      AZ,NM|MULTIPOLYGON (((-...|3.7850427350427345|\n",
      "|            Knik Arm|         AK|MULTIPOLYGON (((-...|1.2429124016080537|\n",
      "|        North Platte|   CO,NE,WY|MULTIPOLYGON (((-...|0.9679540180633677|\n",
      "|               Verde|         AZ|MULTIPOLYGON (((-...|2.8766788766788762|\n",
      "|Central Nevada De...|      CA,NV|MULTIPOLYGON (((-...|1.7738231188935414|\n",
      "|       Koyukuk River|         AK|MULTIPOLYGON (((-...|1.0161290322580645|\n",
      "|Rio Grande Headwa...|      CO,NM|MULTIPOLYGON (((-...|1.2062122880581183|\n",
      "|          Upper Bear|   ID,UT,WY|MULTIPOLYGON (((-...|1.3316176470588235|\n",
      "|              Jordan|         UT|MULTIPOLYGON (((-...|1.2843370614034564|\n",
      "|             Truckee|      CA,NV|MULTIPOLYGON (((-...|1.1236834567006397|\n",
      "|              Carson|      CA,NV|MULTIPOLYGON (((-...|0.8919829470581349|\n",
      "|            Kootenai|   CN,ID,MT|MULTIPOLYGON (((-...|0.7380167592370194|\n",
      "|           Deschutes|         OR|MULTIPOLYGON (((-...| 1.100398798599606|\n",
      "|      Lower Columbia|      OR,WA|MULTIPOLYGON (((-...|0.8084072686905979|\n",
      "|      Lower San Juan|AZ,CO,NM,UT|MULTIPOLYGON (((-...| 2.355855855855856|\n",
      "+--------------------+-----------+--------------------+------------------+\n",
      "only showing top 20 rows\n",
      "\n"
     ]
    }
   ],
   "source": [
    "snotel_sheds_df.show()"
   ]
  },
  {
   "cell_type": "code",
   "execution_count": 43,
   "id": "6e5d3b0d-9706-4ca4-b754-c1671e47c614",
   "metadata": {},
   "outputs": [
    {
     "name": "stdout",
     "output_type": "stream",
     "text": [
      "User Guide: https://docs.kepler.gl/docs/keplergl-jupyter\n"
     ]
    },
    {
     "name": "stderr",
     "output_type": "stream",
     "text": [
      "                                                                                \r"
     ]
    },
    {
     "data": {
      "application/vnd.jupyter.widget-view+json": {
       "model_id": "bfda12be0b62486e8473cd99624ea966",
       "version_major": 2,
       "version_minor": 0
      },
      "text/plain": [
       "KeplerGl(data={'unnamed': {'index': [0, 1, 2, 3, 4, 5, 6, 7, 8, 9, 10, 11, 12, 13, 14, 15, 16, 17, 18, 19, 20,…"
      ]
     },
     "metadata": {},
     "output_type": "display_data"
    }
   ],
   "source": [
    "SedonaKepler.create_map(snotel_sheds_df)"
   ]
  },
  {
   "cell_type": "code",
   "execution_count": null,
   "id": "ee5c7fdb-b96e-4659-8ec0-eef5c17f8612",
   "metadata": {},
   "outputs": [],
   "source": []
  },
  {
   "cell_type": "code",
   "execution_count": null,
   "id": "d1bac591-d6c8-422f-8114-c64ffde6719c",
   "metadata": {},
   "outputs": [],
   "source": []
  }
 ],
 "metadata": {
  "kernelspec": {
   "display_name": "Python 3 (ipykernel)",
   "language": "python",
   "name": "python3"
  },
  "language_info": {
   "codemirror_mode": {
    "name": "ipython",
    "version": 3
   },
   "file_extension": ".py",
   "mimetype": "text/x-python",
   "name": "python",
   "nbconvert_exporter": "python",
   "pygments_lexer": "ipython3",
   "version": "3.10.11"
  }
 },
 "nbformat": 4,
 "nbformat_minor": 5
}
